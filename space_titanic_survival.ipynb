{
  "cells": [
    {
      "cell_type": "markdown",
      "metadata": {
        "id": "view-in-github",
        "colab_type": "text"
      },
      "source": [
        "<a href=\"https://colab.research.google.com/github/Praneesh-Sharma/Space-Titanic-Survival/blob/main/space_titanic_survival.ipynb\" target=\"_parent\"><img src=\"https://colab.research.google.com/assets/colab-badge.svg\" alt=\"Open In Colab\"/></a>"
      ]
    },
    {
      "cell_type": "markdown",
      "id": "1cfca6e0",
      "metadata": {
        "papermill": {
          "duration": 0.022593,
          "end_time": "2022-08-29T11:46:59.451387",
          "exception": false,
          "start_time": "2022-08-29T11:46:59.428794",
          "status": "completed"
        },
        "tags": [],
        "id": "1cfca6e0"
      },
      "source": [
        "# Space Titanic Survival prediciton\n",
        "#### Praneesh Sharma"
      ]
    },
    {
      "cell_type": "markdown",
      "id": "0c128ea9",
      "metadata": {
        "papermill": {
          "duration": 0.021062,
          "end_time": "2022-08-29T11:46:59.493529",
          "exception": false,
          "start_time": "2022-08-29T11:46:59.472467",
          "status": "completed"
        },
        "tags": [],
        "id": "0c128ea9"
      },
      "source": [
        "## Importing libraries"
      ]
    },
    {
      "cell_type": "code",
      "execution_count": 2,
      "id": "87c6d816",
      "metadata": {
        "_cell_guid": "b1076dfc-b9ad-4769-8c92-a6c4dae69d19",
        "_uuid": "8f2839f25d086af736a60e9eeb907d3b93b6e0e5",
        "execution": {
          "iopub.execute_input": "2022-08-29T11:46:59.539618Z",
          "iopub.status.busy": "2022-08-29T11:46:59.539146Z",
          "iopub.status.idle": "2022-08-29T11:47:00.890477Z",
          "shell.execute_reply": "2022-08-29T11:47:00.889197Z"
        },
        "papermill": {
          "duration": 1.378314,
          "end_time": "2022-08-29T11:47:00.893443",
          "exception": false,
          "start_time": "2022-08-29T11:46:59.515129",
          "status": "completed"
        },
        "tags": [],
        "id": "87c6d816"
      },
      "outputs": [],
      "source": [
        "import numpy as np # linear algebra\n",
        "import pandas as pd # data processing, CSV file I/O (e.g. pd.read_csv)\n",
        "import seaborn as sns\n",
        "import matplotlib.pyplot as plt"
      ]
    },
    {
      "cell_type": "code",
      "execution_count": 3,
      "id": "c0c31689",
      "metadata": {
        "execution": {
          "iopub.execute_input": "2022-08-29T11:47:00.938276Z",
          "iopub.status.busy": "2022-08-29T11:47:00.937538Z",
          "iopub.status.idle": "2022-08-29T11:47:00.942319Z",
          "shell.execute_reply": "2022-08-29T11:47:00.941318Z"
        },
        "papermill": {
          "duration": 0.030083,
          "end_time": "2022-08-29T11:47:00.944780",
          "exception": false,
          "start_time": "2022-08-29T11:47:00.914697",
          "status": "completed"
        },
        "tags": [],
        "id": "c0c31689"
      },
      "outputs": [],
      "source": [
        "import warnings\n",
        "warnings.filterwarnings(\"ignore\")"
      ]
    },
    {
      "cell_type": "markdown",
      "id": "99c9d2ca",
      "metadata": {
        "papermill": {
          "duration": 0.021325,
          "end_time": "2022-08-29T11:47:00.987140",
          "exception": false,
          "start_time": "2022-08-29T11:47:00.965815",
          "status": "completed"
        },
        "tags": [],
        "id": "99c9d2ca"
      },
      "source": [
        "## Data Preprocessing"
      ]
    },
    {
      "cell_type": "code",
      "execution_count": 5,
      "id": "fdafad6e",
      "metadata": {
        "execution": {
          "iopub.execute_input": "2022-08-29T11:47:01.032377Z",
          "iopub.status.busy": "2022-08-29T11:47:01.031548Z",
          "iopub.status.idle": "2022-08-29T11:47:01.131201Z",
          "shell.execute_reply": "2022-08-29T11:47:01.129818Z"
        },
        "papermill": {
          "duration": 0.125674,
          "end_time": "2022-08-29T11:47:01.134273",
          "exception": false,
          "start_time": "2022-08-29T11:47:01.008599",
          "status": "completed"
        },
        "tags": [],
        "id": "fdafad6e"
      },
      "outputs": [],
      "source": [
        "data = pd.read_csv('train.csv', header=0)\n",
        "test = pd.read_csv('test.csv', header=0)\n",
        "sample=pd.read_csv('sample_submission.csv', header=0)"
      ]
    },
    {
      "cell_type": "code",
      "execution_count": 6,
      "id": "82aeb3b3",
      "metadata": {
        "execution": {
          "iopub.execute_input": "2022-08-29T11:47:01.178881Z",
          "iopub.status.busy": "2022-08-29T11:47:01.178451Z",
          "iopub.status.idle": "2022-08-29T11:47:01.211125Z",
          "shell.execute_reply": "2022-08-29T11:47:01.210010Z"
        },
        "papermill": {
          "duration": 0.058623,
          "end_time": "2022-08-29T11:47:01.214330",
          "exception": false,
          "start_time": "2022-08-29T11:47:01.155707",
          "status": "completed"
        },
        "tags": [],
        "colab": {
          "base_uri": "https://localhost:8080/",
          "height": 206
        },
        "id": "82aeb3b3",
        "outputId": "079934af-ef25-43a4-e2d2-4483f763eb32"
      },
      "outputs": [
        {
          "output_type": "execute_result",
          "data": {
            "text/plain": [
              "  PassengerId HomePlanet CryoSleep  Cabin  Destination   Age    VIP  \\\n",
              "0     0001_01     Europa     False  B/0/P  TRAPPIST-1e  39.0  False   \n",
              "1     0002_01      Earth     False  F/0/S  TRAPPIST-1e  24.0  False   \n",
              "2     0003_01     Europa     False  A/0/S  TRAPPIST-1e  58.0   True   \n",
              "3     0003_02     Europa     False  A/0/S  TRAPPIST-1e  33.0  False   \n",
              "4     0004_01      Earth     False  F/1/S  TRAPPIST-1e  16.0  False   \n",
              "\n",
              "   RoomService  FoodCourt  ShoppingMall     Spa  VRDeck               Name  \\\n",
              "0          0.0        0.0           0.0     0.0     0.0    Maham Ofracculy   \n",
              "1        109.0        9.0          25.0   549.0    44.0       Juanna Vines   \n",
              "2         43.0     3576.0           0.0  6715.0    49.0      Altark Susent   \n",
              "3          0.0     1283.0         371.0  3329.0   193.0       Solam Susent   \n",
              "4        303.0       70.0         151.0   565.0     2.0  Willy Santantines   \n",
              "\n",
              "   Transported  \n",
              "0        False  \n",
              "1         True  \n",
              "2        False  \n",
              "3        False  \n",
              "4         True  "
            ],
            "text/html": [
              "\n",
              "  <div id=\"df-84d43060-3f86-4a63-8e7e-7ddb07dd397a\">\n",
              "    <div class=\"colab-df-container\">\n",
              "      <div>\n",
              "<style scoped>\n",
              "    .dataframe tbody tr th:only-of-type {\n",
              "        vertical-align: middle;\n",
              "    }\n",
              "\n",
              "    .dataframe tbody tr th {\n",
              "        vertical-align: top;\n",
              "    }\n",
              "\n",
              "    .dataframe thead th {\n",
              "        text-align: right;\n",
              "    }\n",
              "</style>\n",
              "<table border=\"1\" class=\"dataframe\">\n",
              "  <thead>\n",
              "    <tr style=\"text-align: right;\">\n",
              "      <th></th>\n",
              "      <th>PassengerId</th>\n",
              "      <th>HomePlanet</th>\n",
              "      <th>CryoSleep</th>\n",
              "      <th>Cabin</th>\n",
              "      <th>Destination</th>\n",
              "      <th>Age</th>\n",
              "      <th>VIP</th>\n",
              "      <th>RoomService</th>\n",
              "      <th>FoodCourt</th>\n",
              "      <th>ShoppingMall</th>\n",
              "      <th>Spa</th>\n",
              "      <th>VRDeck</th>\n",
              "      <th>Name</th>\n",
              "      <th>Transported</th>\n",
              "    </tr>\n",
              "  </thead>\n",
              "  <tbody>\n",
              "    <tr>\n",
              "      <th>0</th>\n",
              "      <td>0001_01</td>\n",
              "      <td>Europa</td>\n",
              "      <td>False</td>\n",
              "      <td>B/0/P</td>\n",
              "      <td>TRAPPIST-1e</td>\n",
              "      <td>39.0</td>\n",
              "      <td>False</td>\n",
              "      <td>0.0</td>\n",
              "      <td>0.0</td>\n",
              "      <td>0.0</td>\n",
              "      <td>0.0</td>\n",
              "      <td>0.0</td>\n",
              "      <td>Maham Ofracculy</td>\n",
              "      <td>False</td>\n",
              "    </tr>\n",
              "    <tr>\n",
              "      <th>1</th>\n",
              "      <td>0002_01</td>\n",
              "      <td>Earth</td>\n",
              "      <td>False</td>\n",
              "      <td>F/0/S</td>\n",
              "      <td>TRAPPIST-1e</td>\n",
              "      <td>24.0</td>\n",
              "      <td>False</td>\n",
              "      <td>109.0</td>\n",
              "      <td>9.0</td>\n",
              "      <td>25.0</td>\n",
              "      <td>549.0</td>\n",
              "      <td>44.0</td>\n",
              "      <td>Juanna Vines</td>\n",
              "      <td>True</td>\n",
              "    </tr>\n",
              "    <tr>\n",
              "      <th>2</th>\n",
              "      <td>0003_01</td>\n",
              "      <td>Europa</td>\n",
              "      <td>False</td>\n",
              "      <td>A/0/S</td>\n",
              "      <td>TRAPPIST-1e</td>\n",
              "      <td>58.0</td>\n",
              "      <td>True</td>\n",
              "      <td>43.0</td>\n",
              "      <td>3576.0</td>\n",
              "      <td>0.0</td>\n",
              "      <td>6715.0</td>\n",
              "      <td>49.0</td>\n",
              "      <td>Altark Susent</td>\n",
              "      <td>False</td>\n",
              "    </tr>\n",
              "    <tr>\n",
              "      <th>3</th>\n",
              "      <td>0003_02</td>\n",
              "      <td>Europa</td>\n",
              "      <td>False</td>\n",
              "      <td>A/0/S</td>\n",
              "      <td>TRAPPIST-1e</td>\n",
              "      <td>33.0</td>\n",
              "      <td>False</td>\n",
              "      <td>0.0</td>\n",
              "      <td>1283.0</td>\n",
              "      <td>371.0</td>\n",
              "      <td>3329.0</td>\n",
              "      <td>193.0</td>\n",
              "      <td>Solam Susent</td>\n",
              "      <td>False</td>\n",
              "    </tr>\n",
              "    <tr>\n",
              "      <th>4</th>\n",
              "      <td>0004_01</td>\n",
              "      <td>Earth</td>\n",
              "      <td>False</td>\n",
              "      <td>F/1/S</td>\n",
              "      <td>TRAPPIST-1e</td>\n",
              "      <td>16.0</td>\n",
              "      <td>False</td>\n",
              "      <td>303.0</td>\n",
              "      <td>70.0</td>\n",
              "      <td>151.0</td>\n",
              "      <td>565.0</td>\n",
              "      <td>2.0</td>\n",
              "      <td>Willy Santantines</td>\n",
              "      <td>True</td>\n",
              "    </tr>\n",
              "  </tbody>\n",
              "</table>\n",
              "</div>\n",
              "      <button class=\"colab-df-convert\" onclick=\"convertToInteractive('df-84d43060-3f86-4a63-8e7e-7ddb07dd397a')\"\n",
              "              title=\"Convert this dataframe to an interactive table.\"\n",
              "              style=\"display:none;\">\n",
              "        \n",
              "  <svg xmlns=\"http://www.w3.org/2000/svg\" height=\"24px\"viewBox=\"0 0 24 24\"\n",
              "       width=\"24px\">\n",
              "    <path d=\"M0 0h24v24H0V0z\" fill=\"none\"/>\n",
              "    <path d=\"M18.56 5.44l.94 2.06.94-2.06 2.06-.94-2.06-.94-.94-2.06-.94 2.06-2.06.94zm-11 1L8.5 8.5l.94-2.06 2.06-.94-2.06-.94L8.5 2.5l-.94 2.06-2.06.94zm10 10l.94 2.06.94-2.06 2.06-.94-2.06-.94-.94-2.06-.94 2.06-2.06.94z\"/><path d=\"M17.41 7.96l-1.37-1.37c-.4-.4-.92-.59-1.43-.59-.52 0-1.04.2-1.43.59L10.3 9.45l-7.72 7.72c-.78.78-.78 2.05 0 2.83L4 21.41c.39.39.9.59 1.41.59.51 0 1.02-.2 1.41-.59l7.78-7.78 2.81-2.81c.8-.78.8-2.07 0-2.86zM5.41 20L4 18.59l7.72-7.72 1.47 1.35L5.41 20z\"/>\n",
              "  </svg>\n",
              "      </button>\n",
              "      \n",
              "  <style>\n",
              "    .colab-df-container {\n",
              "      display:flex;\n",
              "      flex-wrap:wrap;\n",
              "      gap: 12px;\n",
              "    }\n",
              "\n",
              "    .colab-df-convert {\n",
              "      background-color: #E8F0FE;\n",
              "      border: none;\n",
              "      border-radius: 50%;\n",
              "      cursor: pointer;\n",
              "      display: none;\n",
              "      fill: #1967D2;\n",
              "      height: 32px;\n",
              "      padding: 0 0 0 0;\n",
              "      width: 32px;\n",
              "    }\n",
              "\n",
              "    .colab-df-convert:hover {\n",
              "      background-color: #E2EBFA;\n",
              "      box-shadow: 0px 1px 2px rgba(60, 64, 67, 0.3), 0px 1px 3px 1px rgba(60, 64, 67, 0.15);\n",
              "      fill: #174EA6;\n",
              "    }\n",
              "\n",
              "    [theme=dark] .colab-df-convert {\n",
              "      background-color: #3B4455;\n",
              "      fill: #D2E3FC;\n",
              "    }\n",
              "\n",
              "    [theme=dark] .colab-df-convert:hover {\n",
              "      background-color: #434B5C;\n",
              "      box-shadow: 0px 1px 3px 1px rgba(0, 0, 0, 0.15);\n",
              "      filter: drop-shadow(0px 1px 2px rgba(0, 0, 0, 0.3));\n",
              "      fill: #FFFFFF;\n",
              "    }\n",
              "  </style>\n",
              "\n",
              "      <script>\n",
              "        const buttonEl =\n",
              "          document.querySelector('#df-84d43060-3f86-4a63-8e7e-7ddb07dd397a button.colab-df-convert');\n",
              "        buttonEl.style.display =\n",
              "          google.colab.kernel.accessAllowed ? 'block' : 'none';\n",
              "\n",
              "        async function convertToInteractive(key) {\n",
              "          const element = document.querySelector('#df-84d43060-3f86-4a63-8e7e-7ddb07dd397a');\n",
              "          const dataTable =\n",
              "            await google.colab.kernel.invokeFunction('convertToInteractive',\n",
              "                                                     [key], {});\n",
              "          if (!dataTable) return;\n",
              "\n",
              "          const docLinkHtml = 'Like what you see? Visit the ' +\n",
              "            '<a target=\"_blank\" href=https://colab.research.google.com/notebooks/data_table.ipynb>data table notebook</a>'\n",
              "            + ' to learn more about interactive tables.';\n",
              "          element.innerHTML = '';\n",
              "          dataTable['output_type'] = 'display_data';\n",
              "          await google.colab.output.renderOutput(dataTable, element);\n",
              "          const docLink = document.createElement('div');\n",
              "          docLink.innerHTML = docLinkHtml;\n",
              "          element.appendChild(docLink);\n",
              "        }\n",
              "      </script>\n",
              "    </div>\n",
              "  </div>\n",
              "  "
            ]
          },
          "metadata": {},
          "execution_count": 6
        }
      ],
      "source": [
        "data.head()"
      ]
    },
    {
      "cell_type": "code",
      "execution_count": 7,
      "id": "f54fb53e",
      "metadata": {
        "execution": {
          "iopub.execute_input": "2022-08-29T11:47:01.259714Z",
          "iopub.status.busy": "2022-08-29T11:47:01.258599Z",
          "iopub.status.idle": "2022-08-29T11:47:01.266122Z",
          "shell.execute_reply": "2022-08-29T11:47:01.265036Z"
        },
        "papermill": {
          "duration": 0.032709,
          "end_time": "2022-08-29T11:47:01.268540",
          "exception": false,
          "start_time": "2022-08-29T11:47:01.235831",
          "status": "completed"
        },
        "tags": [],
        "colab": {
          "base_uri": "https://localhost:8080/"
        },
        "id": "f54fb53e",
        "outputId": "86a49249-222e-41fe-c709-75f6e55ec8ce"
      },
      "outputs": [
        {
          "output_type": "execute_result",
          "data": {
            "text/plain": [
              "(8693, 14)"
            ]
          },
          "metadata": {},
          "execution_count": 7
        }
      ],
      "source": [
        "data.shape"
      ]
    },
    {
      "cell_type": "code",
      "execution_count": 8,
      "id": "e6ae235b",
      "metadata": {
        "execution": {
          "iopub.execute_input": "2022-08-29T11:47:01.313887Z",
          "iopub.status.busy": "2022-08-29T11:47:01.312838Z",
          "iopub.status.idle": "2022-08-29T11:47:01.343883Z",
          "shell.execute_reply": "2022-08-29T11:47:01.342619Z"
        },
        "papermill": {
          "duration": 0.057603,
          "end_time": "2022-08-29T11:47:01.347567",
          "exception": false,
          "start_time": "2022-08-29T11:47:01.289964",
          "status": "completed"
        },
        "tags": [],
        "colab": {
          "base_uri": "https://localhost:8080/"
        },
        "id": "e6ae235b",
        "outputId": "53c1c44d-2553-402b-f526-fb84d92a6d9d"
      },
      "outputs": [
        {
          "output_type": "stream",
          "name": "stdout",
          "text": [
            "<class 'pandas.core.frame.DataFrame'>\n",
            "RangeIndex: 8693 entries, 0 to 8692\n",
            "Data columns (total 14 columns):\n",
            " #   Column        Non-Null Count  Dtype  \n",
            "---  ------        --------------  -----  \n",
            " 0   PassengerId   8693 non-null   object \n",
            " 1   HomePlanet    8492 non-null   object \n",
            " 2   CryoSleep     8476 non-null   object \n",
            " 3   Cabin         8494 non-null   object \n",
            " 4   Destination   8511 non-null   object \n",
            " 5   Age           8514 non-null   float64\n",
            " 6   VIP           8490 non-null   object \n",
            " 7   RoomService   8512 non-null   float64\n",
            " 8   FoodCourt     8510 non-null   float64\n",
            " 9   ShoppingMall  8485 non-null   float64\n",
            " 10  Spa           8510 non-null   float64\n",
            " 11  VRDeck        8505 non-null   float64\n",
            " 12  Name          8493 non-null   object \n",
            " 13  Transported   8693 non-null   bool   \n",
            "dtypes: bool(1), float64(6), object(7)\n",
            "memory usage: 891.5+ KB\n"
          ]
        }
      ],
      "source": [
        "data.info()"
      ]
    },
    {
      "cell_type": "code",
      "execution_count": 9,
      "id": "e3c7e81a",
      "metadata": {
        "execution": {
          "iopub.execute_input": "2022-08-29T11:47:01.394116Z",
          "iopub.status.busy": "2022-08-29T11:47:01.393250Z",
          "iopub.status.idle": "2022-08-29T11:47:01.432554Z",
          "shell.execute_reply": "2022-08-29T11:47:01.431309Z"
        },
        "papermill": {
          "duration": 0.065807,
          "end_time": "2022-08-29T11:47:01.435177",
          "exception": false,
          "start_time": "2022-08-29T11:47:01.369370",
          "status": "completed"
        },
        "tags": [],
        "colab": {
          "base_uri": "https://localhost:8080/",
          "height": 300
        },
        "id": "e3c7e81a",
        "outputId": "d3824a0c-87cd-446e-8366-f08b963045b7"
      },
      "outputs": [
        {
          "output_type": "execute_result",
          "data": {
            "text/plain": [
              "               Age   RoomService     FoodCourt  ShoppingMall           Spa  \\\n",
              "count  8514.000000   8512.000000   8510.000000   8485.000000   8510.000000   \n",
              "mean     28.827930    224.687617    458.077203    173.729169    311.138778   \n",
              "std      14.489021    666.717663   1611.489240    604.696458   1136.705535   \n",
              "min       0.000000      0.000000      0.000000      0.000000      0.000000   \n",
              "25%      19.000000      0.000000      0.000000      0.000000      0.000000   \n",
              "50%      27.000000      0.000000      0.000000      0.000000      0.000000   \n",
              "75%      38.000000     47.000000     76.000000     27.000000     59.000000   \n",
              "max      79.000000  14327.000000  29813.000000  23492.000000  22408.000000   \n",
              "\n",
              "             VRDeck  \n",
              "count   8505.000000  \n",
              "mean     304.854791  \n",
              "std     1145.717189  \n",
              "min        0.000000  \n",
              "25%        0.000000  \n",
              "50%        0.000000  \n",
              "75%       46.000000  \n",
              "max    24133.000000  "
            ],
            "text/html": [
              "\n",
              "  <div id=\"df-43592988-1748-4971-82cf-c132492dda7e\">\n",
              "    <div class=\"colab-df-container\">\n",
              "      <div>\n",
              "<style scoped>\n",
              "    .dataframe tbody tr th:only-of-type {\n",
              "        vertical-align: middle;\n",
              "    }\n",
              "\n",
              "    .dataframe tbody tr th {\n",
              "        vertical-align: top;\n",
              "    }\n",
              "\n",
              "    .dataframe thead th {\n",
              "        text-align: right;\n",
              "    }\n",
              "</style>\n",
              "<table border=\"1\" class=\"dataframe\">\n",
              "  <thead>\n",
              "    <tr style=\"text-align: right;\">\n",
              "      <th></th>\n",
              "      <th>Age</th>\n",
              "      <th>RoomService</th>\n",
              "      <th>FoodCourt</th>\n",
              "      <th>ShoppingMall</th>\n",
              "      <th>Spa</th>\n",
              "      <th>VRDeck</th>\n",
              "    </tr>\n",
              "  </thead>\n",
              "  <tbody>\n",
              "    <tr>\n",
              "      <th>count</th>\n",
              "      <td>8514.000000</td>\n",
              "      <td>8512.000000</td>\n",
              "      <td>8510.000000</td>\n",
              "      <td>8485.000000</td>\n",
              "      <td>8510.000000</td>\n",
              "      <td>8505.000000</td>\n",
              "    </tr>\n",
              "    <tr>\n",
              "      <th>mean</th>\n",
              "      <td>28.827930</td>\n",
              "      <td>224.687617</td>\n",
              "      <td>458.077203</td>\n",
              "      <td>173.729169</td>\n",
              "      <td>311.138778</td>\n",
              "      <td>304.854791</td>\n",
              "    </tr>\n",
              "    <tr>\n",
              "      <th>std</th>\n",
              "      <td>14.489021</td>\n",
              "      <td>666.717663</td>\n",
              "      <td>1611.489240</td>\n",
              "      <td>604.696458</td>\n",
              "      <td>1136.705535</td>\n",
              "      <td>1145.717189</td>\n",
              "    </tr>\n",
              "    <tr>\n",
              "      <th>min</th>\n",
              "      <td>0.000000</td>\n",
              "      <td>0.000000</td>\n",
              "      <td>0.000000</td>\n",
              "      <td>0.000000</td>\n",
              "      <td>0.000000</td>\n",
              "      <td>0.000000</td>\n",
              "    </tr>\n",
              "    <tr>\n",
              "      <th>25%</th>\n",
              "      <td>19.000000</td>\n",
              "      <td>0.000000</td>\n",
              "      <td>0.000000</td>\n",
              "      <td>0.000000</td>\n",
              "      <td>0.000000</td>\n",
              "      <td>0.000000</td>\n",
              "    </tr>\n",
              "    <tr>\n",
              "      <th>50%</th>\n",
              "      <td>27.000000</td>\n",
              "      <td>0.000000</td>\n",
              "      <td>0.000000</td>\n",
              "      <td>0.000000</td>\n",
              "      <td>0.000000</td>\n",
              "      <td>0.000000</td>\n",
              "    </tr>\n",
              "    <tr>\n",
              "      <th>75%</th>\n",
              "      <td>38.000000</td>\n",
              "      <td>47.000000</td>\n",
              "      <td>76.000000</td>\n",
              "      <td>27.000000</td>\n",
              "      <td>59.000000</td>\n",
              "      <td>46.000000</td>\n",
              "    </tr>\n",
              "    <tr>\n",
              "      <th>max</th>\n",
              "      <td>79.000000</td>\n",
              "      <td>14327.000000</td>\n",
              "      <td>29813.000000</td>\n",
              "      <td>23492.000000</td>\n",
              "      <td>22408.000000</td>\n",
              "      <td>24133.000000</td>\n",
              "    </tr>\n",
              "  </tbody>\n",
              "</table>\n",
              "</div>\n",
              "      <button class=\"colab-df-convert\" onclick=\"convertToInteractive('df-43592988-1748-4971-82cf-c132492dda7e')\"\n",
              "              title=\"Convert this dataframe to an interactive table.\"\n",
              "              style=\"display:none;\">\n",
              "        \n",
              "  <svg xmlns=\"http://www.w3.org/2000/svg\" height=\"24px\"viewBox=\"0 0 24 24\"\n",
              "       width=\"24px\">\n",
              "    <path d=\"M0 0h24v24H0V0z\" fill=\"none\"/>\n",
              "    <path d=\"M18.56 5.44l.94 2.06.94-2.06 2.06-.94-2.06-.94-.94-2.06-.94 2.06-2.06.94zm-11 1L8.5 8.5l.94-2.06 2.06-.94-2.06-.94L8.5 2.5l-.94 2.06-2.06.94zm10 10l.94 2.06.94-2.06 2.06-.94-2.06-.94-.94-2.06-.94 2.06-2.06.94z\"/><path d=\"M17.41 7.96l-1.37-1.37c-.4-.4-.92-.59-1.43-.59-.52 0-1.04.2-1.43.59L10.3 9.45l-7.72 7.72c-.78.78-.78 2.05 0 2.83L4 21.41c.39.39.9.59 1.41.59.51 0 1.02-.2 1.41-.59l7.78-7.78 2.81-2.81c.8-.78.8-2.07 0-2.86zM5.41 20L4 18.59l7.72-7.72 1.47 1.35L5.41 20z\"/>\n",
              "  </svg>\n",
              "      </button>\n",
              "      \n",
              "  <style>\n",
              "    .colab-df-container {\n",
              "      display:flex;\n",
              "      flex-wrap:wrap;\n",
              "      gap: 12px;\n",
              "    }\n",
              "\n",
              "    .colab-df-convert {\n",
              "      background-color: #E8F0FE;\n",
              "      border: none;\n",
              "      border-radius: 50%;\n",
              "      cursor: pointer;\n",
              "      display: none;\n",
              "      fill: #1967D2;\n",
              "      height: 32px;\n",
              "      padding: 0 0 0 0;\n",
              "      width: 32px;\n",
              "    }\n",
              "\n",
              "    .colab-df-convert:hover {\n",
              "      background-color: #E2EBFA;\n",
              "      box-shadow: 0px 1px 2px rgba(60, 64, 67, 0.3), 0px 1px 3px 1px rgba(60, 64, 67, 0.15);\n",
              "      fill: #174EA6;\n",
              "    }\n",
              "\n",
              "    [theme=dark] .colab-df-convert {\n",
              "      background-color: #3B4455;\n",
              "      fill: #D2E3FC;\n",
              "    }\n",
              "\n",
              "    [theme=dark] .colab-df-convert:hover {\n",
              "      background-color: #434B5C;\n",
              "      box-shadow: 0px 1px 3px 1px rgba(0, 0, 0, 0.15);\n",
              "      filter: drop-shadow(0px 1px 2px rgba(0, 0, 0, 0.3));\n",
              "      fill: #FFFFFF;\n",
              "    }\n",
              "  </style>\n",
              "\n",
              "      <script>\n",
              "        const buttonEl =\n",
              "          document.querySelector('#df-43592988-1748-4971-82cf-c132492dda7e button.colab-df-convert');\n",
              "        buttonEl.style.display =\n",
              "          google.colab.kernel.accessAllowed ? 'block' : 'none';\n",
              "\n",
              "        async function convertToInteractive(key) {\n",
              "          const element = document.querySelector('#df-43592988-1748-4971-82cf-c132492dda7e');\n",
              "          const dataTable =\n",
              "            await google.colab.kernel.invokeFunction('convertToInteractive',\n",
              "                                                     [key], {});\n",
              "          if (!dataTable) return;\n",
              "\n",
              "          const docLinkHtml = 'Like what you see? Visit the ' +\n",
              "            '<a target=\"_blank\" href=https://colab.research.google.com/notebooks/data_table.ipynb>data table notebook</a>'\n",
              "            + ' to learn more about interactive tables.';\n",
              "          element.innerHTML = '';\n",
              "          dataTable['output_type'] = 'display_data';\n",
              "          await google.colab.output.renderOutput(dataTable, element);\n",
              "          const docLink = document.createElement('div');\n",
              "          docLink.innerHTML = docLinkHtml;\n",
              "          element.appendChild(docLink);\n",
              "        }\n",
              "      </script>\n",
              "    </div>\n",
              "  </div>\n",
              "  "
            ]
          },
          "metadata": {},
          "execution_count": 9
        }
      ],
      "source": [
        "data.describe()"
      ]
    },
    {
      "cell_type": "markdown",
      "id": "71ab1492",
      "metadata": {
        "papermill": {
          "duration": 0.022386,
          "end_time": "2022-08-29T11:47:01.479419",
          "exception": false,
          "start_time": "2022-08-29T11:47:01.457033",
          "status": "completed"
        },
        "tags": [],
        "id": "71ab1492"
      },
      "source": [
        "##### there are some missing values in all the columns"
      ]
    },
    {
      "cell_type": "code",
      "execution_count": 10,
      "id": "4711bc9b",
      "metadata": {
        "execution": {
          "iopub.execute_input": "2022-08-29T11:47:01.527357Z",
          "iopub.status.busy": "2022-08-29T11:47:01.526521Z",
          "iopub.status.idle": "2022-08-29T11:47:01.539741Z",
          "shell.execute_reply": "2022-08-29T11:47:01.538623Z"
        },
        "papermill": {
          "duration": 0.040748,
          "end_time": "2022-08-29T11:47:01.542377",
          "exception": false,
          "start_time": "2022-08-29T11:47:01.501629",
          "status": "completed"
        },
        "tags": [],
        "colab": {
          "base_uri": "https://localhost:8080/"
        },
        "id": "4711bc9b",
        "outputId": "b522b82d-2bbd-4c21-b873-66ccb7c72c19"
      },
      "outputs": [
        {
          "output_type": "execute_result",
          "data": {
            "text/plain": [
              "PassengerId       0\n",
              "HomePlanet      201\n",
              "CryoSleep       217\n",
              "Cabin           199\n",
              "Destination     182\n",
              "Age             179\n",
              "VIP             203\n",
              "RoomService     181\n",
              "FoodCourt       183\n",
              "ShoppingMall    208\n",
              "Spa             183\n",
              "VRDeck          188\n",
              "Name            200\n",
              "Transported       0\n",
              "dtype: int64"
            ]
          },
          "metadata": {},
          "execution_count": 10
        }
      ],
      "source": [
        "# displaying number of null values in each column\n",
        "data.isnull().sum()"
      ]
    },
    {
      "cell_type": "code",
      "execution_count": 11,
      "id": "2ace9047",
      "metadata": {
        "execution": {
          "iopub.execute_input": "2022-08-29T11:47:01.590744Z",
          "iopub.status.busy": "2022-08-29T11:47:01.589824Z",
          "iopub.status.idle": "2022-08-29T11:47:01.604291Z",
          "shell.execute_reply": "2022-08-29T11:47:01.603018Z"
        },
        "papermill": {
          "duration": 0.042473,
          "end_time": "2022-08-29T11:47:01.607453",
          "exception": false,
          "start_time": "2022-08-29T11:47:01.564980",
          "status": "completed"
        },
        "tags": [],
        "id": "2ace9047"
      },
      "outputs": [],
      "source": [
        "# dropping null values\n",
        "data = data.dropna()"
      ]
    },
    {
      "cell_type": "code",
      "execution_count": 12,
      "id": "0ec48c84",
      "metadata": {
        "execution": {
          "iopub.execute_input": "2022-08-29T11:47:01.654953Z",
          "iopub.status.busy": "2022-08-29T11:47:01.654521Z",
          "iopub.status.idle": "2022-08-29T11:47:01.672041Z",
          "shell.execute_reply": "2022-08-29T11:47:01.670667Z"
        },
        "papermill": {
          "duration": 0.044394,
          "end_time": "2022-08-29T11:47:01.674656",
          "exception": false,
          "start_time": "2022-08-29T11:47:01.630262",
          "status": "completed"
        },
        "tags": [],
        "colab": {
          "base_uri": "https://localhost:8080/"
        },
        "id": "0ec48c84",
        "outputId": "65d86972-d67a-4bed-fdca-4a0535feccd1"
      },
      "outputs": [
        {
          "output_type": "stream",
          "name": "stdout",
          "text": [
            "<class 'pandas.core.frame.DataFrame'>\n",
            "Int64Index: 6606 entries, 0 to 8692\n",
            "Data columns (total 14 columns):\n",
            " #   Column        Non-Null Count  Dtype  \n",
            "---  ------        --------------  -----  \n",
            " 0   PassengerId   6606 non-null   object \n",
            " 1   HomePlanet    6606 non-null   object \n",
            " 2   CryoSleep     6606 non-null   object \n",
            " 3   Cabin         6606 non-null   object \n",
            " 4   Destination   6606 non-null   object \n",
            " 5   Age           6606 non-null   float64\n",
            " 6   VIP           6606 non-null   object \n",
            " 7   RoomService   6606 non-null   float64\n",
            " 8   FoodCourt     6606 non-null   float64\n",
            " 9   ShoppingMall  6606 non-null   float64\n",
            " 10  Spa           6606 non-null   float64\n",
            " 11  VRDeck        6606 non-null   float64\n",
            " 12  Name          6606 non-null   object \n",
            " 13  Transported   6606 non-null   bool   \n",
            "dtypes: bool(1), float64(6), object(7)\n",
            "memory usage: 729.0+ KB\n"
          ]
        }
      ],
      "source": [
        "data.info()"
      ]
    },
    {
      "cell_type": "code",
      "execution_count": 13,
      "id": "32fab77d",
      "metadata": {
        "execution": {
          "iopub.execute_input": "2022-08-29T11:47:01.723991Z",
          "iopub.status.busy": "2022-08-29T11:47:01.723210Z",
          "iopub.status.idle": "2022-08-29T11:47:01.735268Z",
          "shell.execute_reply": "2022-08-29T11:47:01.734281Z"
        },
        "papermill": {
          "duration": 0.039029,
          "end_time": "2022-08-29T11:47:01.737730",
          "exception": false,
          "start_time": "2022-08-29T11:47:01.698701",
          "status": "completed"
        },
        "tags": [],
        "colab": {
          "base_uri": "https://localhost:8080/"
        },
        "id": "32fab77d",
        "outputId": "900b78f9-9136-483c-f053-7f2d8e0a2904"
      },
      "outputs": [
        {
          "output_type": "execute_result",
          "data": {
            "text/plain": [
              "0       0\n",
              "1       1\n",
              "2       0\n",
              "3       0\n",
              "4       1\n",
              "       ..\n",
              "8688    0\n",
              "8689    0\n",
              "8690    1\n",
              "8691    0\n",
              "8692    1\n",
              "Name: Transported, Length: 6606, dtype: int64"
            ]
          },
          "metadata": {},
          "execution_count": 13
        }
      ],
      "source": [
        "# converting transported into numerical values\n",
        "data['Transported'].replace({False:0, True:1}, inplace=True)\n",
        "data['Transported']"
      ]
    },
    {
      "cell_type": "code",
      "execution_count": 14,
      "id": "63ab5c4f",
      "metadata": {
        "execution": {
          "iopub.execute_input": "2022-08-29T11:47:01.786112Z",
          "iopub.status.busy": "2022-08-29T11:47:01.785348Z",
          "iopub.status.idle": "2022-08-29T11:47:02.193156Z",
          "shell.execute_reply": "2022-08-29T11:47:02.191804Z"
        },
        "papermill": {
          "duration": 0.435897,
          "end_time": "2022-08-29T11:47:02.196347",
          "exception": false,
          "start_time": "2022-08-29T11:47:01.760450",
          "status": "completed"
        },
        "tags": [],
        "colab": {
          "base_uri": "https://localhost:8080/",
          "height": 387
        },
        "id": "63ab5c4f",
        "outputId": "ad7d1e71-dd75-4086-a8ba-27e86d2364c5"
      },
      "outputs": [
        {
          "output_type": "execute_result",
          "data": {
            "text/plain": [
              "<seaborn.axisgrid.FacetGrid at 0x7f91a32bb150>"
            ]
          },
          "metadata": {},
          "execution_count": 14
        },
        {
          "output_type": "display_data",
          "data": {
            "text/plain": [
              "<Figure size 360x360 with 1 Axes>"
            ],
            "image/png": "[encoded data removed]"
          },
          "metadata": {
            "needs_background": "light"
          }
        }
      ],
      "source": [
        "sns.displot(data['Transported'])"
      ]
    },
    {
      "cell_type": "code",
      "execution_count": 15,
      "id": "c2514279",
      "metadata": {
        "execution": {
          "iopub.execute_input": "2022-08-29T11:47:02.246728Z",
          "iopub.status.busy": "2022-08-29T11:47:02.246294Z",
          "iopub.status.idle": "2022-08-29T11:47:02.253805Z",
          "shell.execute_reply": "2022-08-29T11:47:02.252594Z"
        },
        "papermill": {
          "duration": 0.036289,
          "end_time": "2022-08-29T11:47:02.256579",
          "exception": false,
          "start_time": "2022-08-29T11:47:02.220290",
          "status": "completed"
        },
        "tags": [],
        "colab": {
          "base_uri": "https://localhost:8080/"
        },
        "id": "c2514279",
        "outputId": "5da1731a-48c1-43d6-d1b6-a3d3b6a8eec7"
      },
      "outputs": [
        {
          "output_type": "stream",
          "name": "stdout",
          "text": [
            "1    3327\n",
            "0    3279\n",
            "Name: Transported, dtype: int64\n"
          ]
        }
      ],
      "source": [
        "print(data['Transported'].value_counts())"
      ]
    },
    {
      "cell_type": "markdown",
      "id": "b401d33f",
      "metadata": {
        "papermill": {
          "duration": 0.024883,
          "end_time": "2022-08-29T11:47:02.304862",
          "exception": false,
          "start_time": "2022-08-29T11:47:02.279979",
          "status": "completed"
        },
        "tags": [],
        "id": "b401d33f"
      },
      "source": [
        "##### 4378 passengers survived"
      ]
    },
    {
      "cell_type": "code",
      "execution_count": 16,
      "id": "464caa56",
      "metadata": {
        "execution": {
          "iopub.execute_input": "2022-08-29T11:47:02.353181Z",
          "iopub.status.busy": "2022-08-29T11:47:02.352764Z",
          "iopub.status.idle": "2022-08-29T11:47:02.364490Z",
          "shell.execute_reply": "2022-08-29T11:47:02.363293Z"
        },
        "papermill": {
          "duration": 0.039274,
          "end_time": "2022-08-29T11:47:02.367070",
          "exception": false,
          "start_time": "2022-08-29T11:47:02.327796",
          "status": "completed"
        },
        "tags": [],
        "colab": {
          "base_uri": "https://localhost:8080/"
        },
        "id": "464caa56",
        "outputId": "de36f922-d4f4-433b-b660-417dea0e64b7"
      },
      "outputs": [
        {
          "output_type": "execute_result",
          "data": {
            "text/plain": [
              "0       0\n",
              "1       1\n",
              "2       0\n",
              "3       0\n",
              "4       1\n",
              "       ..\n",
              "8688    0\n",
              "8689    0\n",
              "8690    1\n",
              "8691    0\n",
              "8692    1\n",
              "Name: Transported, Length: 6606, dtype: int64"
            ]
          },
          "metadata": {},
          "execution_count": 16
        }
      ],
      "source": [
        "# removing the transported column, so that the test dataset can be appended\n",
        "survival = data['Transported']\n",
        "data.drop(['Transported'], axis=1, inplace=True)\n",
        "survival"
      ]
    },
    {
      "cell_type": "markdown",
      "id": "43ee7a29",
      "metadata": {
        "papermill": {
          "duration": 0.022694,
          "end_time": "2022-08-29T11:47:02.412961",
          "exception": false,
          "start_time": "2022-08-29T11:47:02.390267",
          "status": "completed"
        },
        "tags": [],
        "id": "43ee7a29"
      },
      "source": [
        "### Combining trrain and test dataset"
      ]
    },
    {
      "cell_type": "code",
      "execution_count": 17,
      "id": "2109cd16",
      "metadata": {
        "execution": {
          "iopub.execute_input": "2022-08-29T11:47:02.462946Z",
          "iopub.status.busy": "2022-08-29T11:47:02.462560Z",
          "iopub.status.idle": "2022-08-29T11:47:02.496473Z",
          "shell.execute_reply": "2022-08-29T11:47:02.495256Z"
        },
        "papermill": {
          "duration": 0.062421,
          "end_time": "2022-08-29T11:47:02.499313",
          "exception": false,
          "start_time": "2022-08-29T11:47:02.436892",
          "status": "completed"
        },
        "tags": [],
        "colab": {
          "base_uri": "https://localhost:8080/",
          "height": 424
        },
        "id": "2109cd16",
        "outputId": "27deb17a-8a92-4143-9d1b-b08d703fc125"
      },
      "outputs": [
        {
          "output_type": "execute_result",
          "data": {
            "text/plain": [
              "     PassengerId HomePlanet CryoSleep     Cabin    Destination   Age    VIP  \\\n",
              "0        0001_01     Europa     False     B/0/P    TRAPPIST-1e  39.0  False   \n",
              "1        0002_01      Earth     False     F/0/S    TRAPPIST-1e  24.0  False   \n",
              "2        0003_01     Europa     False     A/0/S    TRAPPIST-1e  58.0   True   \n",
              "3        0003_02     Europa     False     A/0/S    TRAPPIST-1e  33.0  False   \n",
              "4        0004_01      Earth     False     F/1/S    TRAPPIST-1e  16.0  False   \n",
              "...          ...        ...       ...       ...            ...   ...    ...   \n",
              "4272     9266_02      Earth      True  G/1496/S    TRAPPIST-1e  34.0  False   \n",
              "4273     9269_01      Earth     False       NaN    TRAPPIST-1e  42.0  False   \n",
              "4274     9271_01       Mars      True   D/296/P    55 Cancri e   NaN  False   \n",
              "4275     9273_01     Europa     False   D/297/P            NaN   NaN  False   \n",
              "4276     9277_01      Earth      True  G/1498/S  PSO J318.5-22  43.0  False   \n",
              "\n",
              "      RoomService  FoodCourt  ShoppingMall     Spa  VRDeck               Name  \n",
              "0             0.0        0.0           0.0     0.0     0.0    Maham Ofracculy  \n",
              "1           109.0        9.0          25.0   549.0    44.0       Juanna Vines  \n",
              "2            43.0     3576.0           0.0  6715.0    49.0      Altark Susent  \n",
              "3             0.0     1283.0         371.0  3329.0   193.0       Solam Susent  \n",
              "4           303.0       70.0         151.0   565.0     2.0  Willy Santantines  \n",
              "...           ...        ...           ...     ...     ...                ...  \n",
              "4272          0.0        0.0           0.0     0.0     0.0        Jeron Peter  \n",
              "4273          0.0      847.0          17.0    10.0   144.0      Matty Scheron  \n",
              "4274          0.0        0.0           0.0     0.0     0.0        Jayrin Pore  \n",
              "4275          0.0     2680.0           0.0     0.0   523.0     Kitakan Conale  \n",
              "4276          0.0        0.0           0.0     0.0     0.0   Lilace Leonzaley  \n",
              "\n",
              "[10883 rows x 13 columns]"
            ],
            "text/html": [
              "\n",
              "  <div id=\"df-9d0cdab7-703d-4df9-bacb-33b205299bf5\">\n",
              "    <div class=\"colab-df-container\">\n",
              "      <div>\n",
              "<style scoped>\n",
              "    .dataframe tbody tr th:only-of-type {\n",
              "        vertical-align: middle;\n",
              "    }\n",
              "\n",
              "    .dataframe tbody tr th {\n",
              "        vertical-align: top;\n",
              "    }\n",
              "\n",
              "    .dataframe thead th {\n",
              "        text-align: right;\n",
              "    }\n",
              "</style>\n",
              "<table border=\"1\" class=\"dataframe\">\n",
              "  <thead>\n",
              "    <tr style=\"text-align: right;\">\n",
              "      <th></th>\n",
              "      <th>PassengerId</th>\n",
              "      <th>HomePlanet</th>\n",
              "      <th>CryoSleep</th>\n",
              "      <th>Cabin</th>\n",
              "      <th>Destination</th>\n",
              "      <th>Age</th>\n",
              "      <th>VIP</th>\n",
              "      <th>RoomService</th>\n",
              "      <th>FoodCourt</th>\n",
              "      <th>ShoppingMall</th>\n",
              "      <th>Spa</th>\n",
              "      <th>VRDeck</th>\n",
              "      <th>Name</th>\n",
              "    </tr>\n",
              "  </thead>\n",
              "  <tbody>\n",
              "    <tr>\n",
              "      <th>0</th>\n",
              "      <td>0001_01</td>\n",
              "      <td>Europa</td>\n",
              "      <td>False</td>\n",
              "      <td>B/0/P</td>\n",
              "      <td>TRAPPIST-1e</td>\n",
              "      <td>39.0</td>\n",
              "      <td>False</td>\n",
              "      <td>0.0</td>\n",
              "      <td>0.0</td>\n",
              "      <td>0.0</td>\n",
              "      <td>0.0</td>\n",
              "      <td>0.0</td>\n",
              "      <td>Maham Ofracculy</td>\n",
              "    </tr>\n",
              "    <tr>\n",
              "      <th>1</th>\n",
              "      <td>0002_01</td>\n",
              "      <td>Earth</td>\n",
              "      <td>False</td>\n",
              "      <td>F/0/S</td>\n",
              "      <td>TRAPPIST-1e</td>\n",
              "      <td>24.0</td>\n",
              "      <td>False</td>\n",
              "      <td>109.0</td>\n",
              "      <td>9.0</td>\n",
              "      <td>25.0</td>\n",
              "      <td>549.0</td>\n",
              "      <td>44.0</td>\n",
              "      <td>Juanna Vines</td>\n",
              "    </tr>\n",
              "    <tr>\n",
              "      <th>2</th>\n",
              "      <td>0003_01</td>\n",
              "      <td>Europa</td>\n",
              "      <td>False</td>\n",
              "      <td>A/0/S</td>\n",
              "      <td>TRAPPIST-1e</td>\n",
              "      <td>58.0</td>\n",
              "      <td>True</td>\n",
              "      <td>43.0</td>\n",
              "      <td>3576.0</td>\n",
              "      <td>0.0</td>\n",
              "      <td>6715.0</td>\n",
              "      <td>49.0</td>\n",
              "      <td>Altark Susent</td>\n",
              "    </tr>\n",
              "    <tr>\n",
              "      <th>3</th>\n",
              "      <td>0003_02</td>\n",
              "      <td>Europa</td>\n",
              "      <td>False</td>\n",
              "      <td>A/0/S</td>\n",
              "      <td>TRAPPIST-1e</td>\n",
              "      <td>33.0</td>\n",
              "      <td>False</td>\n",
              "      <td>0.0</td>\n",
              "      <td>1283.0</td>\n",
              "      <td>371.0</td>\n",
              "      <td>3329.0</td>\n",
              "      <td>193.0</td>\n",
              "      <td>Solam Susent</td>\n",
              "    </tr>\n",
              "    <tr>\n",
              "      <th>4</th>\n",
              "      <td>0004_01</td>\n",
              "      <td>Earth</td>\n",
              "      <td>False</td>\n",
              "      <td>F/1/S</td>\n",
              "      <td>TRAPPIST-1e</td>\n",
              "      <td>16.0</td>\n",
              "      <td>False</td>\n",
              "      <td>303.0</td>\n",
              "      <td>70.0</td>\n",
              "      <td>151.0</td>\n",
              "      <td>565.0</td>\n",
              "      <td>2.0</td>\n",
              "      <td>Willy Santantines</td>\n",
              "    </tr>\n",
              "    <tr>\n",
              "      <th>...</th>\n",
              "      <td>...</td>\n",
              "      <td>...</td>\n",
              "      <td>...</td>\n",
              "      <td>...</td>\n",
              "      <td>...</td>\n",
              "      <td>...</td>\n",
              "      <td>...</td>\n",
              "      <td>...</td>\n",
              "      <td>...</td>\n",
              "      <td>...</td>\n",
              "      <td>...</td>\n",
              "      <td>...</td>\n",
              "      <td>...</td>\n",
              "    </tr>\n",
              "    <tr>\n",
              "      <th>4272</th>\n",
              "      <td>9266_02</td>\n",
              "      <td>Earth</td>\n",
              "      <td>True</td>\n",
              "      <td>G/1496/S</td>\n",
              "      <td>TRAPPIST-1e</td>\n",
              "      <td>34.0</td>\n",
              "      <td>False</td>\n",
              "      <td>0.0</td>\n",
              "      <td>0.0</td>\n",
              "      <td>0.0</td>\n",
              "      <td>0.0</td>\n",
              "      <td>0.0</td>\n",
              "      <td>Jeron Peter</td>\n",
              "    </tr>\n",
              "    <tr>\n",
              "      <th>4273</th>\n",
              "      <td>9269_01</td>\n",
              "      <td>Earth</td>\n",
              "      <td>False</td>\n",
              "      <td>NaN</td>\n",
              "      <td>TRAPPIST-1e</td>\n",
              "      <td>42.0</td>\n",
              "      <td>False</td>\n",
              "      <td>0.0</td>\n",
              "      <td>847.0</td>\n",
              "      <td>17.0</td>\n",
              "      <td>10.0</td>\n",
              "      <td>144.0</td>\n",
              "      <td>Matty Scheron</td>\n",
              "    </tr>\n",
              "    <tr>\n",
              "      <th>4274</th>\n",
              "      <td>9271_01</td>\n",
              "      <td>Mars</td>\n",
              "      <td>True</td>\n",
              "      <td>D/296/P</td>\n",
              "      <td>55 Cancri e</td>\n",
              "      <td>NaN</td>\n",
              "      <td>False</td>\n",
              "      <td>0.0</td>\n",
              "      <td>0.0</td>\n",
              "      <td>0.0</td>\n",
              "      <td>0.0</td>\n",
              "      <td>0.0</td>\n",
              "      <td>Jayrin Pore</td>\n",
              "    </tr>\n",
              "    <tr>\n",
              "      <th>4275</th>\n",
              "      <td>9273_01</td>\n",
              "      <td>Europa</td>\n",
              "      <td>False</td>\n",
              "      <td>D/297/P</td>\n",
              "      <td>NaN</td>\n",
              "      <td>NaN</td>\n",
              "      <td>False</td>\n",
              "      <td>0.0</td>\n",
              "      <td>2680.0</td>\n",
              "      <td>0.0</td>\n",
              "      <td>0.0</td>\n",
              "      <td>523.0</td>\n",
              "      <td>Kitakan Conale</td>\n",
              "    </tr>\n",
              "    <tr>\n",
              "      <th>4276</th>\n",
              "      <td>9277_01</td>\n",
              "      <td>Earth</td>\n",
              "      <td>True</td>\n",
              "      <td>G/1498/S</td>\n",
              "      <td>PSO J318.5-22</td>\n",
              "      <td>43.0</td>\n",
              "      <td>False</td>\n",
              "      <td>0.0</td>\n",
              "      <td>0.0</td>\n",
              "      <td>0.0</td>\n",
              "      <td>0.0</td>\n",
              "      <td>0.0</td>\n",
              "      <td>Lilace Leonzaley</td>\n",
              "    </tr>\n",
              "  </tbody>\n",
              "</table>\n",
              "<p>10883 rows × 13 columns</p>\n",
              "</div>\n",
              "      <button class=\"colab-df-convert\" onclick=\"convertToInteractive('df-9d0cdab7-703d-4df9-bacb-33b205299bf5')\"\n",
              "              title=\"Convert this dataframe to an interactive table.\"\n",
              "              style=\"display:none;\">\n",
              "        \n",
              "  <svg xmlns=\"http://www.w3.org/2000/svg\" height=\"24px\"viewBox=\"0 0 24 24\"\n",
              "       width=\"24px\">\n",
              "    <path d=\"M0 0h24v24H0V0z\" fill=\"none\"/>\n",
              "    <path d=\"M18.56 5.44l.94 2.06.94-2.06 2.06-.94-2.06-.94-.94-2.06-.94 2.06-2.06.94zm-11 1L8.5 8.5l.94-2.06 2.06-.94-2.06-.94L8.5 2.5l-.94 2.06-2.06.94zm10 10l.94 2.06.94-2.06 2.06-.94-2.06-.94-.94-2.06-.94 2.06-2.06.94z\"/><path d=\"M17.41 7.96l-1.37-1.37c-.4-.4-.92-.59-1.43-.59-.52 0-1.04.2-1.43.59L10.3 9.45l-7.72 7.72c-.78.78-.78 2.05 0 2.83L4 21.41c.39.39.9.59 1.41.59.51 0 1.02-.2 1.41-.59l7.78-7.78 2.81-2.81c.8-.78.8-2.07 0-2.86zM5.41 20L4 18.59l7.72-7.72 1.47 1.35L5.41 20z\"/>\n",
              "  </svg>\n",
              "      </button>\n",
              "      \n",
              "  <style>\n",
              "    .colab-df-container {\n",
              "      display:flex;\n",
              "      flex-wrap:wrap;\n",
              "      gap: 12px;\n",
              "    }\n",
              "\n",
              "    .colab-df-convert {\n",
              "      background-color: #E8F0FE;\n",
              "      border: none;\n",
              "      border-radius: 50%;\n",
              "      cursor: pointer;\n",
              "      display: none;\n",
              "      fill: #1967D2;\n",
              "      height: 32px;\n",
              "      padding: 0 0 0 0;\n",
              "      width: 32px;\n",
              "    }\n",
              "\n",
              "    .colab-df-convert:hover {\n",
              "      background-color: #E2EBFA;\n",
              "      box-shadow: 0px 1px 2px rgba(60, 64, 67, 0.3), 0px 1px 3px 1px rgba(60, 64, 67, 0.15);\n",
              "      fill: #174EA6;\n",
              "    }\n",
              "\n",
              "    [theme=dark] .colab-df-convert {\n",
              "      background-color: #3B4455;\n",
              "      fill: #D2E3FC;\n",
              "    }\n",
              "\n",
              "    [theme=dark] .colab-df-convert:hover {\n",
              "      background-color: #434B5C;\n",
              "      box-shadow: 0px 1px 3px 1px rgba(0, 0, 0, 0.15);\n",
              "      filter: drop-shadow(0px 1px 2px rgba(0, 0, 0, 0.3));\n",
              "      fill: #FFFFFF;\n",
              "    }\n",
              "  </style>\n",
              "\n",
              "      <script>\n",
              "        const buttonEl =\n",
              "          document.querySelector('#df-9d0cdab7-703d-4df9-bacb-33b205299bf5 button.colab-df-convert');\n",
              "        buttonEl.style.display =\n",
              "          google.colab.kernel.accessAllowed ? 'block' : 'none';\n",
              "\n",
              "        async function convertToInteractive(key) {\n",
              "          const element = document.querySelector('#df-9d0cdab7-703d-4df9-bacb-33b205299bf5');\n",
              "          const dataTable =\n",
              "            await google.colab.kernel.invokeFunction('convertToInteractive',\n",
              "                                                     [key], {});\n",
              "          if (!dataTable) return;\n",
              "\n",
              "          const docLinkHtml = 'Like what you see? Visit the ' +\n",
              "            '<a target=\"_blank\" href=https://colab.research.google.com/notebooks/data_table.ipynb>data table notebook</a>'\n",
              "            + ' to learn more about interactive tables.';\n",
              "          element.innerHTML = '';\n",
              "          dataTable['output_type'] = 'display_data';\n",
              "          await google.colab.output.renderOutput(dataTable, element);\n",
              "          const docLink = document.createElement('div');\n",
              "          docLink.innerHTML = docLinkHtml;\n",
              "          element.appendChild(docLink);\n",
              "        }\n",
              "      </script>\n",
              "    </div>\n",
              "  </div>\n",
              "  "
            ]
          },
          "metadata": {},
          "execution_count": 17
        }
      ],
      "source": [
        "df = data.append(test)\n",
        "df"
      ]
    },
    {
      "cell_type": "markdown",
      "id": "4680ddfb",
      "metadata": {
        "papermill": {
          "duration": 0.023514,
          "end_time": "2022-08-29T11:47:02.547104",
          "exception": false,
          "start_time": "2022-08-29T11:47:02.523590",
          "status": "completed"
        },
        "tags": [],
        "id": "4680ddfb"
      },
      "source": [
        "### Analyzing the new dataframe"
      ]
    },
    {
      "cell_type": "code",
      "execution_count": 18,
      "id": "b79bc151",
      "metadata": {
        "execution": {
          "iopub.execute_input": "2022-08-29T11:47:02.596906Z",
          "iopub.status.busy": "2022-08-29T11:47:02.596474Z",
          "iopub.status.idle": "2022-08-29T11:47:02.615389Z",
          "shell.execute_reply": "2022-08-29T11:47:02.613920Z"
        },
        "papermill": {
          "duration": 0.047123,
          "end_time": "2022-08-29T11:47:02.618267",
          "exception": false,
          "start_time": "2022-08-29T11:47:02.571144",
          "status": "completed"
        },
        "tags": [],
        "colab": {
          "base_uri": "https://localhost:8080/"
        },
        "id": "b79bc151",
        "outputId": "2b68000f-af0d-42c1-a100-34fbd414c965"
      },
      "outputs": [
        {
          "output_type": "stream",
          "name": "stdout",
          "text": [
            "<class 'pandas.core.frame.DataFrame'>\n",
            "Int64Index: 10883 entries, 0 to 4276\n",
            "Data columns (total 13 columns):\n",
            " #   Column        Non-Null Count  Dtype  \n",
            "---  ------        --------------  -----  \n",
            " 0   PassengerId   10883 non-null  object \n",
            " 1   HomePlanet    10796 non-null  object \n",
            " 2   CryoSleep     10790 non-null  object \n",
            " 3   Cabin         10783 non-null  object \n",
            " 4   Destination   10791 non-null  object \n",
            " 5   Age           10792 non-null  float64\n",
            " 6   VIP           10790 non-null  object \n",
            " 7   RoomService   10801 non-null  float64\n",
            " 8   FoodCourt     10777 non-null  float64\n",
            " 9   ShoppingMall  10785 non-null  float64\n",
            " 10  Spa           10782 non-null  float64\n",
            " 11  VRDeck        10803 non-null  float64\n",
            " 12  Name          10789 non-null  object \n",
            "dtypes: float64(6), object(7)\n",
            "memory usage: 1.2+ MB\n"
          ]
        }
      ],
      "source": [
        "df.info()"
      ]
    },
    {
      "cell_type": "code",
      "execution_count": 19,
      "id": "976bc423",
      "metadata": {
        "execution": {
          "iopub.execute_input": "2022-08-29T11:47:02.668908Z",
          "iopub.status.busy": "2022-08-29T11:47:02.667654Z",
          "iopub.status.idle": "2022-08-29T11:47:02.707707Z",
          "shell.execute_reply": "2022-08-29T11:47:02.706170Z"
        },
        "papermill": {
          "duration": 0.067882,
          "end_time": "2022-08-29T11:47:02.710736",
          "exception": false,
          "start_time": "2022-08-29T11:47:02.642854",
          "status": "completed"
        },
        "tags": [],
        "colab": {
          "base_uri": "https://localhost:8080/",
          "height": 300
        },
        "id": "976bc423",
        "outputId": "4eacae18-d0c6-489a-d3bd-a93a30c2065c"
      },
      "outputs": [
        {
          "output_type": "execute_result",
          "data": {
            "text/plain": [
              "                Age   RoomService     FoodCourt  ShoppingMall           Spa  \\\n",
              "count  10792.000000  10801.000000  10777.000000  10785.000000  10782.000000   \n",
              "mean      28.802539    221.544764    463.680894    177.945387    309.246151   \n",
              "std       14.396816    630.484127   1621.887223    570.343750   1133.658617   \n",
              "min        0.000000      0.000000      0.000000      0.000000      0.000000   \n",
              "25%       19.000000      0.000000      0.000000      0.000000      0.000000   \n",
              "50%       27.000000      0.000000      0.000000      0.000000      0.000000   \n",
              "75%       38.000000     51.000000     81.000000     31.000000     59.000000   \n",
              "max       79.000000  11567.000000  29813.000000  12253.000000  22408.000000   \n",
              "\n",
              "             VRDeck  \n",
              "count  10803.000000  \n",
              "mean     306.472369  \n",
              "std     1175.106100  \n",
              "min        0.000000  \n",
              "25%        0.000000  \n",
              "50%        0.000000  \n",
              "75%       44.000000  \n",
              "max    22272.000000  "
            ],
            "text/html": [
              "\n",
              "  <div id=\"df-7ca76fb0-f9f2-4428-bae1-7c887b6f2b20\">\n",
              "    <div class=\"colab-df-container\">\n",
              "      <div>\n",
              "<style scoped>\n",
              "    .dataframe tbody tr th:only-of-type {\n",
              "        vertical-align: middle;\n",
              "    }\n",
              "\n",
              "    .dataframe tbody tr th {\n",
              "        vertical-align: top;\n",
              "    }\n",
              "\n",
              "    .dataframe thead th {\n",
              "        text-align: right;\n",
              "    }\n",
              "</style>\n",
              "<table border=\"1\" class=\"dataframe\">\n",
              "  <thead>\n",
              "    <tr style=\"text-align: right;\">\n",
              "      <th></th>\n",
              "      <th>Age</th>\n",
              "      <th>RoomService</th>\n",
              "      <th>FoodCourt</th>\n",
              "      <th>ShoppingMall</th>\n",
              "      <th>Spa</th>\n",
              "      <th>VRDeck</th>\n",
              "    </tr>\n",
              "  </thead>\n",
              "  <tbody>\n",
              "    <tr>\n",
              "      <th>count</th>\n",
              "      <td>10792.000000</td>\n",
              "      <td>10801.000000</td>\n",
              "      <td>10777.000000</td>\n",
              "      <td>10785.000000</td>\n",
              "      <td>10782.000000</td>\n",
              "      <td>10803.000000</td>\n",
              "    </tr>\n",
              "    <tr>\n",
              "      <th>mean</th>\n",
              "      <td>28.802539</td>\n",
              "      <td>221.544764</td>\n",
              "      <td>463.680894</td>\n",
              "      <td>177.945387</td>\n",
              "      <td>309.246151</td>\n",
              "      <td>306.472369</td>\n",
              "    </tr>\n",
              "    <tr>\n",
              "      <th>std</th>\n",
              "      <td>14.396816</td>\n",
              "      <td>630.484127</td>\n",
              "      <td>1621.887223</td>\n",
              "      <td>570.343750</td>\n",
              "      <td>1133.658617</td>\n",
              "      <td>1175.106100</td>\n",
              "    </tr>\n",
              "    <tr>\n",
              "      <th>min</th>\n",
              "      <td>0.000000</td>\n",
              "      <td>0.000000</td>\n",
              "      <td>0.000000</td>\n",
              "      <td>0.000000</td>\n",
              "      <td>0.000000</td>\n",
              "      <td>0.000000</td>\n",
              "    </tr>\n",
              "    <tr>\n",
              "      <th>25%</th>\n",
              "      <td>19.000000</td>\n",
              "      <td>0.000000</td>\n",
              "      <td>0.000000</td>\n",
              "      <td>0.000000</td>\n",
              "      <td>0.000000</td>\n",
              "      <td>0.000000</td>\n",
              "    </tr>\n",
              "    <tr>\n",
              "      <th>50%</th>\n",
              "      <td>27.000000</td>\n",
              "      <td>0.000000</td>\n",
              "      <td>0.000000</td>\n",
              "      <td>0.000000</td>\n",
              "      <td>0.000000</td>\n",
              "      <td>0.000000</td>\n",
              "    </tr>\n",
              "    <tr>\n",
              "      <th>75%</th>\n",
              "      <td>38.000000</td>\n",
              "      <td>51.000000</td>\n",
              "      <td>81.000000</td>\n",
              "      <td>31.000000</td>\n",
              "      <td>59.000000</td>\n",
              "      <td>44.000000</td>\n",
              "    </tr>\n",
              "    <tr>\n",
              "      <th>max</th>\n",
              "      <td>79.000000</td>\n",
              "      <td>11567.000000</td>\n",
              "      <td>29813.000000</td>\n",
              "      <td>12253.000000</td>\n",
              "      <td>22408.000000</td>\n",
              "      <td>22272.000000</td>\n",
              "    </tr>\n",
              "  </tbody>\n",
              "</table>\n",
              "</div>\n",
              "      <button class=\"colab-df-convert\" onclick=\"convertToInteractive('df-7ca76fb0-f9f2-4428-bae1-7c887b6f2b20')\"\n",
              "              title=\"Convert this dataframe to an interactive table.\"\n",
              "              style=\"display:none;\">\n",
              "        \n",
              "  <svg xmlns=\"http://www.w3.org/2000/svg\" height=\"24px\"viewBox=\"0 0 24 24\"\n",
              "       width=\"24px\">\n",
              "    <path d=\"M0 0h24v24H0V0z\" fill=\"none\"/>\n",
              "    <path d=\"M18.56 5.44l.94 2.06.94-2.06 2.06-.94-2.06-.94-.94-2.06-.94 2.06-2.06.94zm-11 1L8.5 8.5l.94-2.06 2.06-.94-2.06-.94L8.5 2.5l-.94 2.06-2.06.94zm10 10l.94 2.06.94-2.06 2.06-.94-2.06-.94-.94-2.06-.94 2.06-2.06.94z\"/><path d=\"M17.41 7.96l-1.37-1.37c-.4-.4-.92-.59-1.43-.59-.52 0-1.04.2-1.43.59L10.3 9.45l-7.72 7.72c-.78.78-.78 2.05 0 2.83L4 21.41c.39.39.9.59 1.41.59.51 0 1.02-.2 1.41-.59l7.78-7.78 2.81-2.81c.8-.78.8-2.07 0-2.86zM5.41 20L4 18.59l7.72-7.72 1.47 1.35L5.41 20z\"/>\n",
              "  </svg>\n",
              "      </button>\n",
              "      \n",
              "  <style>\n",
              "    .colab-df-container {\n",
              "      display:flex;\n",
              "      flex-wrap:wrap;\n",
              "      gap: 12px;\n",
              "    }\n",
              "\n",
              "    .colab-df-convert {\n",
              "      background-color: #E8F0FE;\n",
              "      border: none;\n",
              "      border-radius: 50%;\n",
              "      cursor: pointer;\n",
              "      display: none;\n",
              "      fill: #1967D2;\n",
              "      height: 32px;\n",
              "      padding: 0 0 0 0;\n",
              "      width: 32px;\n",
              "    }\n",
              "\n",
              "    .colab-df-convert:hover {\n",
              "      background-color: #E2EBFA;\n",
              "      box-shadow: 0px 1px 2px rgba(60, 64, 67, 0.3), 0px 1px 3px 1px rgba(60, 64, 67, 0.15);\n",
              "      fill: #174EA6;\n",
              "    }\n",
              "\n",
              "    [theme=dark] .colab-df-convert {\n",
              "      background-color: #3B4455;\n",
              "      fill: #D2E3FC;\n",
              "    }\n",
              "\n",
              "    [theme=dark] .colab-df-convert:hover {\n",
              "      background-color: #434B5C;\n",
              "      box-shadow: 0px 1px 3px 1px rgba(0, 0, 0, 0.15);\n",
              "      filter: drop-shadow(0px 1px 2px rgba(0, 0, 0, 0.3));\n",
              "      fill: #FFFFFF;\n",
              "    }\n",
              "  </style>\n",
              "\n",
              "      <script>\n",
              "        const buttonEl =\n",
              "          document.querySelector('#df-7ca76fb0-f9f2-4428-bae1-7c887b6f2b20 button.colab-df-convert');\n",
              "        buttonEl.style.display =\n",
              "          google.colab.kernel.accessAllowed ? 'block' : 'none';\n",
              "\n",
              "        async function convertToInteractive(key) {\n",
              "          const element = document.querySelector('#df-7ca76fb0-f9f2-4428-bae1-7c887b6f2b20');\n",
              "          const dataTable =\n",
              "            await google.colab.kernel.invokeFunction('convertToInteractive',\n",
              "                                                     [key], {});\n",
              "          if (!dataTable) return;\n",
              "\n",
              "          const docLinkHtml = 'Like what you see? Visit the ' +\n",
              "            '<a target=\"_blank\" href=https://colab.research.google.com/notebooks/data_table.ipynb>data table notebook</a>'\n",
              "            + ' to learn more about interactive tables.';\n",
              "          element.innerHTML = '';\n",
              "          dataTable['output_type'] = 'display_data';\n",
              "          await google.colab.output.renderOutput(dataTable, element);\n",
              "          const docLink = document.createElement('div');\n",
              "          docLink.innerHTML = docLinkHtml;\n",
              "          element.appendChild(docLink);\n",
              "        }\n",
              "      </script>\n",
              "    </div>\n",
              "  </div>\n",
              "  "
            ]
          },
          "metadata": {},
          "execution_count": 19
        }
      ],
      "source": [
        "df.describe()"
      ]
    },
    {
      "cell_type": "code",
      "execution_count": 20,
      "id": "e6844883",
      "metadata": {
        "execution": {
          "iopub.execute_input": "2022-08-29T11:47:02.759600Z",
          "iopub.status.busy": "2022-08-29T11:47:02.759159Z",
          "iopub.status.idle": "2022-08-29T11:47:02.772320Z",
          "shell.execute_reply": "2022-08-29T11:47:02.771465Z"
        },
        "papermill": {
          "duration": 0.04058,
          "end_time": "2022-08-29T11:47:02.774785",
          "exception": false,
          "start_time": "2022-08-29T11:47:02.734205",
          "status": "completed"
        },
        "tags": [],
        "colab": {
          "base_uri": "https://localhost:8080/"
        },
        "id": "e6844883",
        "outputId": "25833dad-e21f-482f-9102-5981995b1803"
      },
      "outputs": [
        {
          "output_type": "execute_result",
          "data": {
            "text/plain": [
              "PassengerId       0\n",
              "HomePlanet       87\n",
              "CryoSleep        93\n",
              "Cabin           100\n",
              "Destination      92\n",
              "Age              91\n",
              "VIP              93\n",
              "RoomService      82\n",
              "FoodCourt       106\n",
              "ShoppingMall     98\n",
              "Spa             101\n",
              "VRDeck           80\n",
              "Name             94\n",
              "dtype: int64"
            ]
          },
          "metadata": {},
          "execution_count": 20
        }
      ],
      "source": [
        "# checking for null values\n",
        "df.isnull().sum()"
      ]
    },
    {
      "cell_type": "code",
      "execution_count": 21,
      "id": "e0bb70be",
      "metadata": {
        "execution": {
          "iopub.execute_input": "2022-08-29T11:47:02.825607Z",
          "iopub.status.busy": "2022-08-29T11:47:02.825108Z",
          "iopub.status.idle": "2022-08-29T11:47:02.845663Z",
          "shell.execute_reply": "2022-08-29T11:47:02.844616Z"
        },
        "papermill": {
          "duration": 0.048496,
          "end_time": "2022-08-29T11:47:02.847923",
          "exception": false,
          "start_time": "2022-08-29T11:47:02.799427",
          "status": "completed"
        },
        "tags": [],
        "colab": {
          "base_uri": "https://localhost:8080/",
          "height": 206
        },
        "id": "e0bb70be",
        "outputId": "ce5fc55d-799b-4773-977b-1beb252e751b"
      },
      "outputs": [
        {
          "output_type": "execute_result",
          "data": {
            "text/plain": [
              "  PassengerId HomePlanet CryoSleep  Cabin  Destination   Age    VIP  \\\n",
              "0     0001_01     Europa     False  B/0/P  TRAPPIST-1e  39.0  False   \n",
              "1     0002_01      Earth     False  F/0/S  TRAPPIST-1e  24.0  False   \n",
              "2     0003_01     Europa     False  A/0/S  TRAPPIST-1e  58.0   True   \n",
              "3     0003_02     Europa     False  A/0/S  TRAPPIST-1e  33.0  False   \n",
              "4     0004_01      Earth     False  F/1/S  TRAPPIST-1e  16.0  False   \n",
              "\n",
              "   RoomService  FoodCourt  ShoppingMall     Spa  VRDeck               Name  \n",
              "0          0.0        0.0           0.0     0.0     0.0    Maham Ofracculy  \n",
              "1        109.0        9.0          25.0   549.0    44.0       Juanna Vines  \n",
              "2         43.0     3576.0           0.0  6715.0    49.0      Altark Susent  \n",
              "3          0.0     1283.0         371.0  3329.0   193.0       Solam Susent  \n",
              "4        303.0       70.0         151.0   565.0     2.0  Willy Santantines  "
            ],
            "text/html": [
              "\n",
              "  <div id=\"df-2a2a4bb1-dc59-4405-b91b-a60a7fc01cf4\">\n",
              "    <div class=\"colab-df-container\">\n",
              "      <div>\n",
              "<style scoped>\n",
              "    .dataframe tbody tr th:only-of-type {\n",
              "        vertical-align: middle;\n",
              "    }\n",
              "\n",
              "    .dataframe tbody tr th {\n",
              "        vertical-align: top;\n",
              "    }\n",
              "\n",
              "    .dataframe thead th {\n",
              "        text-align: right;\n",
              "    }\n",
              "</style>\n",
              "<table border=\"1\" class=\"dataframe\">\n",
              "  <thead>\n",
              "    <tr style=\"text-align: right;\">\n",
              "      <th></th>\n",
              "      <th>PassengerId</th>\n",
              "      <th>HomePlanet</th>\n",
              "      <th>CryoSleep</th>\n",
              "      <th>Cabin</th>\n",
              "      <th>Destination</th>\n",
              "      <th>Age</th>\n",
              "      <th>VIP</th>\n",
              "      <th>RoomService</th>\n",
              "      <th>FoodCourt</th>\n",
              "      <th>ShoppingMall</th>\n",
              "      <th>Spa</th>\n",
              "      <th>VRDeck</th>\n",
              "      <th>Name</th>\n",
              "    </tr>\n",
              "  </thead>\n",
              "  <tbody>\n",
              "    <tr>\n",
              "      <th>0</th>\n",
              "      <td>0001_01</td>\n",
              "      <td>Europa</td>\n",
              "      <td>False</td>\n",
              "      <td>B/0/P</td>\n",
              "      <td>TRAPPIST-1e</td>\n",
              "      <td>39.0</td>\n",
              "      <td>False</td>\n",
              "      <td>0.0</td>\n",
              "      <td>0.0</td>\n",
              "      <td>0.0</td>\n",
              "      <td>0.0</td>\n",
              "      <td>0.0</td>\n",
              "      <td>Maham Ofracculy</td>\n",
              "    </tr>\n",
              "    <tr>\n",
              "      <th>1</th>\n",
              "      <td>0002_01</td>\n",
              "      <td>Earth</td>\n",
              "      <td>False</td>\n",
              "      <td>F/0/S</td>\n",
              "      <td>TRAPPIST-1e</td>\n",
              "      <td>24.0</td>\n",
              "      <td>False</td>\n",
              "      <td>109.0</td>\n",
              "      <td>9.0</td>\n",
              "      <td>25.0</td>\n",
              "      <td>549.0</td>\n",
              "      <td>44.0</td>\n",
              "      <td>Juanna Vines</td>\n",
              "    </tr>\n",
              "    <tr>\n",
              "      <th>2</th>\n",
              "      <td>0003_01</td>\n",
              "      <td>Europa</td>\n",
              "      <td>False</td>\n",
              "      <td>A/0/S</td>\n",
              "      <td>TRAPPIST-1e</td>\n",
              "      <td>58.0</td>\n",
              "      <td>True</td>\n",
              "      <td>43.0</td>\n",
              "      <td>3576.0</td>\n",
              "      <td>0.0</td>\n",
              "      <td>6715.0</td>\n",
              "      <td>49.0</td>\n",
              "      <td>Altark Susent</td>\n",
              "    </tr>\n",
              "    <tr>\n",
              "      <th>3</th>\n",
              "      <td>0003_02</td>\n",
              "      <td>Europa</td>\n",
              "      <td>False</td>\n",
              "      <td>A/0/S</td>\n",
              "      <td>TRAPPIST-1e</td>\n",
              "      <td>33.0</td>\n",
              "      <td>False</td>\n",
              "      <td>0.0</td>\n",
              "      <td>1283.0</td>\n",
              "      <td>371.0</td>\n",
              "      <td>3329.0</td>\n",
              "      <td>193.0</td>\n",
              "      <td>Solam Susent</td>\n",
              "    </tr>\n",
              "    <tr>\n",
              "      <th>4</th>\n",
              "      <td>0004_01</td>\n",
              "      <td>Earth</td>\n",
              "      <td>False</td>\n",
              "      <td>F/1/S</td>\n",
              "      <td>TRAPPIST-1e</td>\n",
              "      <td>16.0</td>\n",
              "      <td>False</td>\n",
              "      <td>303.0</td>\n",
              "      <td>70.0</td>\n",
              "      <td>151.0</td>\n",
              "      <td>565.0</td>\n",
              "      <td>2.0</td>\n",
              "      <td>Willy Santantines</td>\n",
              "    </tr>\n",
              "  </tbody>\n",
              "</table>\n",
              "</div>\n",
              "      <button class=\"colab-df-convert\" onclick=\"convertToInteractive('df-2a2a4bb1-dc59-4405-b91b-a60a7fc01cf4')\"\n",
              "              title=\"Convert this dataframe to an interactive table.\"\n",
              "              style=\"display:none;\">\n",
              "        \n",
              "  <svg xmlns=\"http://www.w3.org/2000/svg\" height=\"24px\"viewBox=\"0 0 24 24\"\n",
              "       width=\"24px\">\n",
              "    <path d=\"M0 0h24v24H0V0z\" fill=\"none\"/>\n",
              "    <path d=\"M18.56 5.44l.94 2.06.94-2.06 2.06-.94-2.06-.94-.94-2.06-.94 2.06-2.06.94zm-11 1L8.5 8.5l.94-2.06 2.06-.94-2.06-.94L8.5 2.5l-.94 2.06-2.06.94zm10 10l.94 2.06.94-2.06 2.06-.94-2.06-.94-.94-2.06-.94 2.06-2.06.94z\"/><path d=\"M17.41 7.96l-1.37-1.37c-.4-.4-.92-.59-1.43-.59-.52 0-1.04.2-1.43.59L10.3 9.45l-7.72 7.72c-.78.78-.78 2.05 0 2.83L4 21.41c.39.39.9.59 1.41.59.51 0 1.02-.2 1.41-.59l7.78-7.78 2.81-2.81c.8-.78.8-2.07 0-2.86zM5.41 20L4 18.59l7.72-7.72 1.47 1.35L5.41 20z\"/>\n",
              "  </svg>\n",
              "      </button>\n",
              "      \n",
              "  <style>\n",
              "    .colab-df-container {\n",
              "      display:flex;\n",
              "      flex-wrap:wrap;\n",
              "      gap: 12px;\n",
              "    }\n",
              "\n",
              "    .colab-df-convert {\n",
              "      background-color: #E8F0FE;\n",
              "      border: none;\n",
              "      border-radius: 50%;\n",
              "      cursor: pointer;\n",
              "      display: none;\n",
              "      fill: #1967D2;\n",
              "      height: 32px;\n",
              "      padding: 0 0 0 0;\n",
              "      width: 32px;\n",
              "    }\n",
              "\n",
              "    .colab-df-convert:hover {\n",
              "      background-color: #E2EBFA;\n",
              "      box-shadow: 0px 1px 2px rgba(60, 64, 67, 0.3), 0px 1px 3px 1px rgba(60, 64, 67, 0.15);\n",
              "      fill: #174EA6;\n",
              "    }\n",
              "\n",
              "    [theme=dark] .colab-df-convert {\n",
              "      background-color: #3B4455;\n",
              "      fill: #D2E3FC;\n",
              "    }\n",
              "\n",
              "    [theme=dark] .colab-df-convert:hover {\n",
              "      background-color: #434B5C;\n",
              "      box-shadow: 0px 1px 3px 1px rgba(0, 0, 0, 0.15);\n",
              "      filter: drop-shadow(0px 1px 2px rgba(0, 0, 0, 0.3));\n",
              "      fill: #FFFFFF;\n",
              "    }\n",
              "  </style>\n",
              "\n",
              "      <script>\n",
              "        const buttonEl =\n",
              "          document.querySelector('#df-2a2a4bb1-dc59-4405-b91b-a60a7fc01cf4 button.colab-df-convert');\n",
              "        buttonEl.style.display =\n",
              "          google.colab.kernel.accessAllowed ? 'block' : 'none';\n",
              "\n",
              "        async function convertToInteractive(key) {\n",
              "          const element = document.querySelector('#df-2a2a4bb1-dc59-4405-b91b-a60a7fc01cf4');\n",
              "          const dataTable =\n",
              "            await google.colab.kernel.invokeFunction('convertToInteractive',\n",
              "                                                     [key], {});\n",
              "          if (!dataTable) return;\n",
              "\n",
              "          const docLinkHtml = 'Like what you see? Visit the ' +\n",
              "            '<a target=\"_blank\" href=https://colab.research.google.com/notebooks/data_table.ipynb>data table notebook</a>'\n",
              "            + ' to learn more about interactive tables.';\n",
              "          element.innerHTML = '';\n",
              "          dataTable['output_type'] = 'display_data';\n",
              "          await google.colab.output.renderOutput(dataTable, element);\n",
              "          const docLink = document.createElement('div');\n",
              "          docLink.innerHTML = docLinkHtml;\n",
              "          element.appendChild(docLink);\n",
              "        }\n",
              "      </script>\n",
              "    </div>\n",
              "  </div>\n",
              "  "
            ]
          },
          "metadata": {},
          "execution_count": 21
        }
      ],
      "source": [
        "df.head()"
      ]
    },
    {
      "cell_type": "markdown",
      "id": "d10de687",
      "metadata": {
        "papermill": {
          "duration": 0.024623,
          "end_time": "2022-08-29T11:47:02.896605",
          "exception": false,
          "start_time": "2022-08-29T11:47:02.871982",
          "status": "completed"
        },
        "tags": [],
        "id": "d10de687"
      },
      "source": [
        "### Null Values Imputation"
      ]
    },
    {
      "cell_type": "code",
      "execution_count": 22,
      "id": "bf500ae5",
      "metadata": {
        "execution": {
          "iopub.execute_input": "2022-08-29T11:47:02.947537Z",
          "iopub.status.busy": "2022-08-29T11:47:02.947129Z",
          "iopub.status.idle": "2022-08-29T11:47:03.383841Z",
          "shell.execute_reply": "2022-08-29T11:47:03.382664Z"
        },
        "papermill": {
          "duration": 0.465461,
          "end_time": "2022-08-29T11:47:03.386669",
          "exception": false,
          "start_time": "2022-08-29T11:47:02.921208",
          "status": "completed"
        },
        "tags": [],
        "colab": {
          "base_uri": "https://localhost:8080/",
          "height": 206
        },
        "id": "bf500ae5",
        "outputId": "c474d424-17b1-4694-f249-0af43c0aed2a"
      },
      "outputs": [
        {
          "output_type": "execute_result",
          "data": {
            "text/plain": [
              "  PassengerId HomePlanet CryoSleep  Cabin  Destination   Age    VIP  \\\n",
              "0     0001_01     Europa     False  B/0/P  TRAPPIST-1e  39.0  False   \n",
              "1     0002_01      Earth     False  F/0/S  TRAPPIST-1e  24.0  False   \n",
              "2     0003_01     Europa     False  A/0/S  TRAPPIST-1e  58.0   True   \n",
              "3     0003_02     Europa     False  A/0/S  TRAPPIST-1e  33.0  False   \n",
              "4     0004_01      Earth     False  F/1/S  TRAPPIST-1e  16.0  False   \n",
              "\n",
              "   RoomService  FoodCourt  ShoppingMall     Spa  VRDeck               Name  \n",
              "0          0.0        0.0           0.0     0.0     0.0    Maham Ofracculy  \n",
              "1        109.0        9.0          25.0   549.0    44.0       Juanna Vines  \n",
              "2         43.0     3576.0           0.0  6715.0    49.0      Altark Susent  \n",
              "3          0.0     1283.0         371.0  3329.0   193.0       Solam Susent  \n",
              "4        303.0       70.0         151.0   565.0     2.0  Willy Santantines  "
            ],
            "text/html": [
              "\n",
              "  <div id=\"df-6621c8ed-7ac0-4ca9-815f-13ec38f183ff\">\n",
              "    <div class=\"colab-df-container\">\n",
              "      <div>\n",
              "<style scoped>\n",
              "    .dataframe tbody tr th:only-of-type {\n",
              "        vertical-align: middle;\n",
              "    }\n",
              "\n",
              "    .dataframe tbody tr th {\n",
              "        vertical-align: top;\n",
              "    }\n",
              "\n",
              "    .dataframe thead th {\n",
              "        text-align: right;\n",
              "    }\n",
              "</style>\n",
              "<table border=\"1\" class=\"dataframe\">\n",
              "  <thead>\n",
              "    <tr style=\"text-align: right;\">\n",
              "      <th></th>\n",
              "      <th>PassengerId</th>\n",
              "      <th>HomePlanet</th>\n",
              "      <th>CryoSleep</th>\n",
              "      <th>Cabin</th>\n",
              "      <th>Destination</th>\n",
              "      <th>Age</th>\n",
              "      <th>VIP</th>\n",
              "      <th>RoomService</th>\n",
              "      <th>FoodCourt</th>\n",
              "      <th>ShoppingMall</th>\n",
              "      <th>Spa</th>\n",
              "      <th>VRDeck</th>\n",
              "      <th>Name</th>\n",
              "    </tr>\n",
              "  </thead>\n",
              "  <tbody>\n",
              "    <tr>\n",
              "      <th>0</th>\n",
              "      <td>0001_01</td>\n",
              "      <td>Europa</td>\n",
              "      <td>False</td>\n",
              "      <td>B/0/P</td>\n",
              "      <td>TRAPPIST-1e</td>\n",
              "      <td>39.0</td>\n",
              "      <td>False</td>\n",
              "      <td>0.0</td>\n",
              "      <td>0.0</td>\n",
              "      <td>0.0</td>\n",
              "      <td>0.0</td>\n",
              "      <td>0.0</td>\n",
              "      <td>Maham Ofracculy</td>\n",
              "    </tr>\n",
              "    <tr>\n",
              "      <th>1</th>\n",
              "      <td>0002_01</td>\n",
              "      <td>Earth</td>\n",
              "      <td>False</td>\n",
              "      <td>F/0/S</td>\n",
              "      <td>TRAPPIST-1e</td>\n",
              "      <td>24.0</td>\n",
              "      <td>False</td>\n",
              "      <td>109.0</td>\n",
              "      <td>9.0</td>\n",
              "      <td>25.0</td>\n",
              "      <td>549.0</td>\n",
              "      <td>44.0</td>\n",
              "      <td>Juanna Vines</td>\n",
              "    </tr>\n",
              "    <tr>\n",
              "      <th>2</th>\n",
              "      <td>0003_01</td>\n",
              "      <td>Europa</td>\n",
              "      <td>False</td>\n",
              "      <td>A/0/S</td>\n",
              "      <td>TRAPPIST-1e</td>\n",
              "      <td>58.0</td>\n",
              "      <td>True</td>\n",
              "      <td>43.0</td>\n",
              "      <td>3576.0</td>\n",
              "      <td>0.0</td>\n",
              "      <td>6715.0</td>\n",
              "      <td>49.0</td>\n",
              "      <td>Altark Susent</td>\n",
              "    </tr>\n",
              "    <tr>\n",
              "      <th>3</th>\n",
              "      <td>0003_02</td>\n",
              "      <td>Europa</td>\n",
              "      <td>False</td>\n",
              "      <td>A/0/S</td>\n",
              "      <td>TRAPPIST-1e</td>\n",
              "      <td>33.0</td>\n",
              "      <td>False</td>\n",
              "      <td>0.0</td>\n",
              "      <td>1283.0</td>\n",
              "      <td>371.0</td>\n",
              "      <td>3329.0</td>\n",
              "      <td>193.0</td>\n",
              "      <td>Solam Susent</td>\n",
              "    </tr>\n",
              "    <tr>\n",
              "      <th>4</th>\n",
              "      <td>0004_01</td>\n",
              "      <td>Earth</td>\n",
              "      <td>False</td>\n",
              "      <td>F/1/S</td>\n",
              "      <td>TRAPPIST-1e</td>\n",
              "      <td>16.0</td>\n",
              "      <td>False</td>\n",
              "      <td>303.0</td>\n",
              "      <td>70.0</td>\n",
              "      <td>151.0</td>\n",
              "      <td>565.0</td>\n",
              "      <td>2.0</td>\n",
              "      <td>Willy Santantines</td>\n",
              "    </tr>\n",
              "  </tbody>\n",
              "</table>\n",
              "</div>\n",
              "      <button class=\"colab-df-convert\" onclick=\"convertToInteractive('df-6621c8ed-7ac0-4ca9-815f-13ec38f183ff')\"\n",
              "              title=\"Convert this dataframe to an interactive table.\"\n",
              "              style=\"display:none;\">\n",
              "        \n",
              "  <svg xmlns=\"http://www.w3.org/2000/svg\" height=\"24px\"viewBox=\"0 0 24 24\"\n",
              "       width=\"24px\">\n",
              "    <path d=\"M0 0h24v24H0V0z\" fill=\"none\"/>\n",
              "    <path d=\"M18.56 5.44l.94 2.06.94-2.06 2.06-.94-2.06-.94-.94-2.06-.94 2.06-2.06.94zm-11 1L8.5 8.5l.94-2.06 2.06-.94-2.06-.94L8.5 2.5l-.94 2.06-2.06.94zm10 10l.94 2.06.94-2.06 2.06-.94-2.06-.94-.94-2.06-.94 2.06-2.06.94z\"/><path d=\"M17.41 7.96l-1.37-1.37c-.4-.4-.92-.59-1.43-.59-.52 0-1.04.2-1.43.59L10.3 9.45l-7.72 7.72c-.78.78-.78 2.05 0 2.83L4 21.41c.39.39.9.59 1.41.59.51 0 1.02-.2 1.41-.59l7.78-7.78 2.81-2.81c.8-.78.8-2.07 0-2.86zM5.41 20L4 18.59l7.72-7.72 1.47 1.35L5.41 20z\"/>\n",
              "  </svg>\n",
              "      </button>\n",
              "      \n",
              "  <style>\n",
              "    .colab-df-container {\n",
              "      display:flex;\n",
              "      flex-wrap:wrap;\n",
              "      gap: 12px;\n",
              "    }\n",
              "\n",
              "    .colab-df-convert {\n",
              "      background-color: #E8F0FE;\n",
              "      border: none;\n",
              "      border-radius: 50%;\n",
              "      cursor: pointer;\n",
              "      display: none;\n",
              "      fill: #1967D2;\n",
              "      height: 32px;\n",
              "      padding: 0 0 0 0;\n",
              "      width: 32px;\n",
              "    }\n",
              "\n",
              "    .colab-df-convert:hover {\n",
              "      background-color: #E2EBFA;\n",
              "      box-shadow: 0px 1px 2px rgba(60, 64, 67, 0.3), 0px 1px 3px 1px rgba(60, 64, 67, 0.15);\n",
              "      fill: #174EA6;\n",
              "    }\n",
              "\n",
              "    [theme=dark] .colab-df-convert {\n",
              "      background-color: #3B4455;\n",
              "      fill: #D2E3FC;\n",
              "    }\n",
              "\n",
              "    [theme=dark] .colab-df-convert:hover {\n",
              "      background-color: #434B5C;\n",
              "      box-shadow: 0px 1px 3px 1px rgba(0, 0, 0, 0.15);\n",
              "      filter: drop-shadow(0px 1px 2px rgba(0, 0, 0, 0.3));\n",
              "      fill: #FFFFFF;\n",
              "    }\n",
              "  </style>\n",
              "\n",
              "      <script>\n",
              "        const buttonEl =\n",
              "          document.querySelector('#df-6621c8ed-7ac0-4ca9-815f-13ec38f183ff button.colab-df-convert');\n",
              "        buttonEl.style.display =\n",
              "          google.colab.kernel.accessAllowed ? 'block' : 'none';\n",
              "\n",
              "        async function convertToInteractive(key) {\n",
              "          const element = document.querySelector('#df-6621c8ed-7ac0-4ca9-815f-13ec38f183ff');\n",
              "          const dataTable =\n",
              "            await google.colab.kernel.invokeFunction('convertToInteractive',\n",
              "                                                     [key], {});\n",
              "          if (!dataTable) return;\n",
              "\n",
              "          const docLinkHtml = 'Like what you see? Visit the ' +\n",
              "            '<a target=\"_blank\" href=https://colab.research.google.com/notebooks/data_table.ipynb>data table notebook</a>'\n",
              "            + ' to learn more about interactive tables.';\n",
              "          element.innerHTML = '';\n",
              "          dataTable['output_type'] = 'display_data';\n",
              "          await google.colab.output.renderOutput(dataTable, element);\n",
              "          const docLink = document.createElement('div');\n",
              "          docLink.innerHTML = docLinkHtml;\n",
              "          element.appendChild(docLink);\n",
              "        }\n",
              "      </script>\n",
              "    </div>\n",
              "  </div>\n",
              "  "
            ]
          },
          "metadata": {},
          "execution_count": 22
        }
      ],
      "source": [
        "from sklearn.experimental import enable_iterative_imputer\n",
        "from sklearn.impute import IterativeImputer\n",
        "\n",
        "imp = IterativeImputer(random_state=7)\n",
        "\n",
        "for col in df:\n",
        "    if df[col].dtype == \"object\":\n",
        "        df[col].fillna(\"not given\", inplace=True)\n",
        "    if df[col].dtype == \"float\":\n",
        "        df[col] = imp.fit_transform(df[col].values.reshape(-1,1))\n",
        "df.head()"
      ]
    },
    {
      "cell_type": "markdown",
      "id": "9819f170",
      "metadata": {
        "execution": {
          "iopub.execute_input": "2022-08-29T10:17:32.635606Z",
          "iopub.status.busy": "2022-08-29T10:17:32.635106Z",
          "iopub.status.idle": "2022-08-29T10:17:32.654931Z",
          "shell.execute_reply": "2022-08-29T10:17:32.654033Z",
          "shell.execute_reply.started": "2022-08-29T10:17:32.635565Z"
        },
        "papermill": {
          "duration": 0.023244,
          "end_time": "2022-08-29T11:47:03.433817",
          "exception": false,
          "start_time": "2022-08-29T11:47:03.410573",
          "status": "completed"
        },
        "tags": [],
        "id": "9819f170"
      },
      "source": [
        "### Analyzing columnwise features"
      ]
    },
    {
      "cell_type": "markdown",
      "id": "b9221ee1",
      "metadata": {
        "papermill": {
          "duration": 0.023632,
          "end_time": "2022-08-29T11:47:03.481107",
          "exception": false,
          "start_time": "2022-08-29T11:47:03.457475",
          "status": "completed"
        },
        "tags": [],
        "id": "b9221ee1"
      },
      "source": [
        "#### Home Planet"
      ]
    },
    {
      "cell_type": "code",
      "execution_count": 23,
      "id": "ad1c7c6d",
      "metadata": {
        "execution": {
          "iopub.execute_input": "2022-08-29T11:47:03.531671Z",
          "iopub.status.busy": "2022-08-29T11:47:03.530446Z",
          "iopub.status.idle": "2022-08-29T11:47:03.858854Z",
          "shell.execute_reply": "2022-08-29T11:47:03.857212Z"
        },
        "papermill": {
          "duration": 0.357603,
          "end_time": "2022-08-29T11:47:03.862296",
          "exception": false,
          "start_time": "2022-08-29T11:47:03.504693",
          "status": "completed"
        },
        "tags": [],
        "colab": {
          "base_uri": "https://localhost:8080/",
          "height": 387
        },
        "id": "ad1c7c6d",
        "outputId": "2638eaf9-1b81-44c1-8003-f2c7534a26c5"
      },
      "outputs": [
        {
          "output_type": "execute_result",
          "data": {
            "text/plain": [
              "<seaborn.axisgrid.FacetGrid at 0x7f91a089d890>"
            ]
          },
          "metadata": {},
          "execution_count": 23
        },
        {
          "output_type": "display_data",
          "data": {
            "text/plain": [
              "<Figure size 360x360 with 1 Axes>"
            ],
            "image/png": "[encoded data removed]"
          },
          "metadata": {
            "needs_background": "light"
          }
        }
      ],
      "source": [
        "sns.displot(df['HomePlanet'])"
      ]
    },
    {
      "cell_type": "code",
      "execution_count": 24,
      "id": "85867149",
      "metadata": {
        "execution": {
          "iopub.execute_input": "2022-08-29T11:47:03.913766Z",
          "iopub.status.busy": "2022-08-29T11:47:03.912919Z",
          "iopub.status.idle": "2022-08-29T11:47:03.921447Z",
          "shell.execute_reply": "2022-08-29T11:47:03.920512Z"
        },
        "papermill": {
          "duration": 0.037504,
          "end_time": "2022-08-29T11:47:03.923873",
          "exception": false,
          "start_time": "2022-08-29T11:47:03.886369",
          "status": "completed"
        },
        "tags": [],
        "colab": {
          "base_uri": "https://localhost:8080/"
        },
        "id": "85867149",
        "outputId": "d3e11e7c-2e62-4083-fad6-a5e7c9498faa"
      },
      "outputs": [
        {
          "output_type": "execute_result",
          "data": {
            "text/plain": [
              "Earth        5829\n",
              "Europa       2675\n",
              "Mars         2292\n",
              "not given      87\n",
              "Name: HomePlanet, dtype: int64"
            ]
          },
          "metadata": {},
          "execution_count": 24
        }
      ],
      "source": [
        "df['HomePlanet'].value_counts()\n"
      ]
    },
    {
      "cell_type": "code",
      "execution_count": 25,
      "id": "2c036522",
      "metadata": {
        "execution": {
          "iopub.execute_input": "2022-08-29T11:47:03.975267Z",
          "iopub.status.busy": "2022-08-29T11:47:03.974817Z",
          "iopub.status.idle": "2022-08-29T11:47:04.093933Z",
          "shell.execute_reply": "2022-08-29T11:47:04.092298Z"
        },
        "papermill": {
          "duration": 0.149908,
          "end_time": "2022-08-29T11:47:04.098630",
          "exception": false,
          "start_time": "2022-08-29T11:47:03.948722",
          "status": "completed"
        },
        "tags": [],
        "colab": {
          "base_uri": "https://localhost:8080/",
          "height": 248
        },
        "id": "2c036522",
        "outputId": "1a364fe9-a392-48db-8a53-27835cabcc32"
      },
      "outputs": [
        {
          "output_type": "display_data",
          "data": {
            "text/plain": [
              "<Figure size 432x288 with 1 Axes>"
            ],
            "image/png": "[encoded data removed]"
          },
          "metadata": {}
        }
      ],
      "source": [
        "plt.pie(df['HomePlanet'].value_counts(), labels = [\"Earth\", \"Europa\", \"Mars\", \"not listed\"])\n",
        "plt.show() "
      ]
    },
    {
      "cell_type": "code",
      "execution_count": 26,
      "id": "8a8c7746",
      "metadata": {
        "execution": {
          "iopub.execute_input": "2022-08-29T11:47:04.201506Z",
          "iopub.status.busy": "2022-08-29T11:47:04.200771Z",
          "iopub.status.idle": "2022-08-29T11:47:04.217792Z",
          "shell.execute_reply": "2022-08-29T11:47:04.216225Z"
        },
        "papermill": {
          "duration": 0.052994,
          "end_time": "2022-08-29T11:47:04.220569",
          "exception": false,
          "start_time": "2022-08-29T11:47:04.167575",
          "status": "completed"
        },
        "tags": [],
        "colab": {
          "base_uri": "https://localhost:8080/"
        },
        "id": "8a8c7746",
        "outputId": "2d691a4b-1c62-4200-ad42-931377bff189"
      },
      "outputs": [
        {
          "output_type": "execute_result",
          "data": {
            "text/plain": [
              "0       2\n",
              "1       1\n",
              "2       2\n",
              "3       2\n",
              "4       1\n",
              "       ..\n",
              "4272    1\n",
              "4273    1\n",
              "4274    3\n",
              "4275    2\n",
              "4276    1\n",
              "Name: HomePlanet, Length: 10883, dtype: int64"
            ]
          },
          "metadata": {},
          "execution_count": 26
        }
      ],
      "source": [
        "df['HomePlanet'] = df['HomePlanet'].replace({\"Earth\":1, \"Europa\":2, \"Mars\":3, \"not given\" :4})\n",
        "df['HomePlanet']"
      ]
    },
    {
      "cell_type": "markdown",
      "id": "5d819c03",
      "metadata": {
        "papermill": {
          "duration": 0.025066,
          "end_time": "2022-08-29T11:47:04.271650",
          "exception": false,
          "start_time": "2022-08-29T11:47:04.246584",
          "status": "completed"
        },
        "tags": [],
        "id": "5d819c03"
      },
      "source": [
        "#### CryoSleep"
      ]
    },
    {
      "cell_type": "code",
      "execution_count": 27,
      "id": "b44c794a",
      "metadata": {
        "execution": {
          "iopub.execute_input": "2022-08-29T11:47:04.323476Z",
          "iopub.status.busy": "2022-08-29T11:47:04.322672Z",
          "iopub.status.idle": "2022-08-29T11:47:04.331587Z",
          "shell.execute_reply": "2022-08-29T11:47:04.330414Z"
        },
        "papermill": {
          "duration": 0.037878,
          "end_time": "2022-08-29T11:47:04.334175",
          "exception": false,
          "start_time": "2022-08-29T11:47:04.296297",
          "status": "completed"
        },
        "tags": [],
        "colab": {
          "base_uri": "https://localhost:8080/"
        },
        "id": "b44c794a",
        "outputId": "16ce7a6d-3834-44ee-fb0a-ab8433900de2"
      },
      "outputs": [
        {
          "output_type": "execute_result",
          "data": {
            "text/plain": [
              "False        6914\n",
              "True         3876\n",
              "not given      93\n",
              "Name: CryoSleep, dtype: int64"
            ]
          },
          "metadata": {},
          "execution_count": 27
        }
      ],
      "source": [
        "df['CryoSleep'].value_counts()"
      ]
    },
    {
      "cell_type": "code",
      "execution_count": 28,
      "id": "a13cf4fc",
      "metadata": {
        "execution": {
          "iopub.execute_input": "2022-08-29T11:47:04.388476Z",
          "iopub.status.busy": "2022-08-29T11:47:04.387787Z",
          "iopub.status.idle": "2022-08-29T11:47:04.396156Z",
          "shell.execute_reply": "2022-08-29T11:47:04.395196Z"
        },
        "papermill": {
          "duration": 0.038355,
          "end_time": "2022-08-29T11:47:04.398917",
          "exception": false,
          "start_time": "2022-08-29T11:47:04.360562",
          "status": "completed"
        },
        "tags": [],
        "id": "a13cf4fc"
      },
      "outputs": [],
      "source": [
        "df['CryoSleep'][df['CryoSleep'] == \"not given\"] = False"
      ]
    },
    {
      "cell_type": "code",
      "execution_count": 29,
      "id": "ee0c8ebe",
      "metadata": {
        "execution": {
          "iopub.execute_input": "2022-08-29T11:47:04.451586Z",
          "iopub.status.busy": "2022-08-29T11:47:04.450778Z",
          "iopub.status.idle": "2022-08-29T11:47:04.466058Z",
          "shell.execute_reply": "2022-08-29T11:47:04.464854Z"
        },
        "papermill": {
          "duration": 0.044927,
          "end_time": "2022-08-29T11:47:04.468606",
          "exception": false,
          "start_time": "2022-08-29T11:47:04.423679",
          "status": "completed"
        },
        "tags": [],
        "colab": {
          "base_uri": "https://localhost:8080/"
        },
        "id": "ee0c8ebe",
        "outputId": "43359f9e-7260-405e-dfcc-21234697f9bd"
      },
      "outputs": [
        {
          "output_type": "execute_result",
          "data": {
            "text/plain": [
              "0       0\n",
              "1       0\n",
              "2       0\n",
              "3       0\n",
              "4       0\n",
              "       ..\n",
              "4272    1\n",
              "4273    0\n",
              "4274    1\n",
              "4275    0\n",
              "4276    1\n",
              "Name: CryoSleep, Length: 10883, dtype: int64"
            ]
          },
          "metadata": {},
          "execution_count": 29
        }
      ],
      "source": [
        "df['CryoSleep'] = df['CryoSleep'].replace({False: 0, True: 1})\n",
        "df['CryoSleep']"
      ]
    },
    {
      "cell_type": "code",
      "execution_count": 30,
      "id": "3a6a8e00",
      "metadata": {
        "execution": {
          "iopub.execute_input": "2022-08-29T11:47:04.525869Z",
          "iopub.status.busy": "2022-08-29T11:47:04.524922Z",
          "iopub.status.idle": "2022-08-29T11:47:04.875448Z",
          "shell.execute_reply": "2022-08-29T11:47:04.873976Z"
        },
        "papermill": {
          "duration": 0.384559,
          "end_time": "2022-08-29T11:47:04.878337",
          "exception": false,
          "start_time": "2022-08-29T11:47:04.493778",
          "status": "completed"
        },
        "tags": [],
        "colab": {
          "base_uri": "https://localhost:8080/",
          "height": 298
        },
        "id": "3a6a8e00",
        "outputId": "46e29139-e46a-4396-e34c-f1343b61165d"
      },
      "outputs": [
        {
          "output_type": "execute_result",
          "data": {
            "text/plain": [
              "<matplotlib.axes._subplots.AxesSubplot at 0x7f919f46ad50>"
            ]
          },
          "metadata": {},
          "execution_count": 30
        },
        {
          "output_type": "display_data",
          "data": {
            "text/plain": [
              "<Figure size 432x288 with 1 Axes>"
            ],
            "image/png": "[encoded data removed]"
          },
          "metadata": {
            "needs_background": "light"
          }
        }
      ],
      "source": [
        "sns.distplot(df['CryoSleep'])"
      ]
    },
    {
      "cell_type": "markdown",
      "id": "c6a09242",
      "metadata": {
        "papermill": {
          "duration": 0.026111,
          "end_time": "2022-08-29T11:47:04.931705",
          "exception": false,
          "start_time": "2022-08-29T11:47:04.905594",
          "status": "completed"
        },
        "tags": [],
        "id": "c6a09242"
      },
      "source": [
        "#### Destination"
      ]
    },
    {
      "cell_type": "code",
      "execution_count": 31,
      "id": "04148453",
      "metadata": {
        "execution": {
          "iopub.execute_input": "2022-08-29T11:47:04.987667Z",
          "iopub.status.busy": "2022-08-29T11:47:04.987188Z",
          "iopub.status.idle": "2022-08-29T11:47:04.998880Z",
          "shell.execute_reply": "2022-08-29T11:47:04.997576Z"
        },
        "papermill": {
          "duration": 0.042615,
          "end_time": "2022-08-29T11:47:05.001589",
          "exception": false,
          "start_time": "2022-08-29T11:47:04.958974",
          "status": "completed"
        },
        "tags": [],
        "colab": {
          "base_uri": "https://localhost:8080/"
        },
        "id": "04148453",
        "outputId": "8fb83e40-fd99-41af-951f-ab55e2d98a4d"
      },
      "outputs": [
        {
          "output_type": "execute_result",
          "data": {
            "text/plain": [
              "TRAPPIST-1e      7532\n",
              "55 Cancri e      2248\n",
              "PSO J318.5-22    1011\n",
              "not given          92\n",
              "Name: Destination, dtype: int64"
            ]
          },
          "metadata": {},
          "execution_count": 31
        }
      ],
      "source": [
        "df['Destination'].value_counts()"
      ]
    },
    {
      "cell_type": "code",
      "execution_count": 32,
      "id": "b1d2cf1d",
      "metadata": {
        "execution": {
          "iopub.execute_input": "2022-08-29T11:47:05.058413Z",
          "iopub.status.busy": "2022-08-29T11:47:05.057969Z",
          "iopub.status.idle": "2022-08-29T11:47:05.319241Z",
          "shell.execute_reply": "2022-08-29T11:47:05.317990Z"
        },
        "papermill": {
          "duration": 0.29235,
          "end_time": "2022-08-29T11:47:05.321744",
          "exception": false,
          "start_time": "2022-08-29T11:47:05.029394",
          "status": "completed"
        },
        "tags": [],
        "colab": {
          "base_uri": "https://localhost:8080/",
          "height": 387
        },
        "id": "b1d2cf1d",
        "outputId": "1e424c6b-71ac-49d7-c83e-5460a8a6d9d0"
      },
      "outputs": [
        {
          "output_type": "execute_result",
          "data": {
            "text/plain": [
              "<seaborn.axisgrid.FacetGrid at 0x7f919f498b90>"
            ]
          },
          "metadata": {},
          "execution_count": 32
        },
        {
          "output_type": "display_data",
          "data": {
            "text/plain": [
              "<Figure size 360x360 with 1 Axes>"
            ],
            "image/png": "[encoded data removed]"
          },
          "metadata": {
            "needs_background": "light"
          }
        }
      ],
      "source": [
        "sns.displot(df['Destination'])"
      ]
    },
    {
      "cell_type": "code",
      "execution_count": 33,
      "id": "c584f283",
      "metadata": {
        "execution": {
          "iopub.execute_input": "2022-08-29T11:47:05.375906Z",
          "iopub.status.busy": "2022-08-29T11:47:05.375535Z",
          "iopub.status.idle": "2022-08-29T11:47:05.485258Z",
          "shell.execute_reply": "2022-08-29T11:47:05.483438Z"
        },
        "papermill": {
          "duration": 0.142131,
          "end_time": "2022-08-29T11:47:05.490199",
          "exception": false,
          "start_time": "2022-08-29T11:47:05.348068",
          "status": "completed"
        },
        "tags": [],
        "colab": {
          "base_uri": "https://localhost:8080/",
          "height": 248
        },
        "id": "c584f283",
        "outputId": "e23a44be-6d5a-4bf8-f312-beefbe2c62cf"
      },
      "outputs": [
        {
          "output_type": "display_data",
          "data": {
            "text/plain": [
              "<Figure size 432x288 with 1 Axes>"
            ],
            "image/png": "[encoded data removed]"
          },
          "metadata": {}
        }
      ],
      "source": [
        "plt.pie(df['Destination'].value_counts(), labels = [\"TRAPPIST-1e\", \"55 Cancri e\", \"PSO J318.5-22\", \"not given\"])\n",
        "plt.show() "
      ]
    },
    {
      "cell_type": "code",
      "execution_count": 34,
      "id": "80504c04",
      "metadata": {
        "execution": {
          "iopub.execute_input": "2022-08-29T11:47:05.591813Z",
          "iopub.status.busy": "2022-08-29T11:47:05.590867Z",
          "iopub.status.idle": "2022-08-29T11:47:05.606900Z",
          "shell.execute_reply": "2022-08-29T11:47:05.605938Z"
        },
        "papermill": {
          "duration": 0.049431,
          "end_time": "2022-08-29T11:47:05.609573",
          "exception": false,
          "start_time": "2022-08-29T11:47:05.560142",
          "status": "completed"
        },
        "tags": [],
        "colab": {
          "base_uri": "https://localhost:8080/"
        },
        "id": "80504c04",
        "outputId": "49f4ce26-e08e-4de8-a702-246f469dc076"
      },
      "outputs": [
        {
          "output_type": "execute_result",
          "data": {
            "text/plain": [
              "0       1\n",
              "1       1\n",
              "2       1\n",
              "3       1\n",
              "4       1\n",
              "       ..\n",
              "4272    1\n",
              "4273    1\n",
              "4274    2\n",
              "4275    4\n",
              "4276    3\n",
              "Name: Destination, Length: 10883, dtype: int64"
            ]
          },
          "metadata": {},
          "execution_count": 34
        }
      ],
      "source": [
        "df['Destination'].replace({\"TRAPPIST-1e\": 1, \"55 Cancri e\": 2, \"PSO J318.5-22\": 3, \"not given\": 4},inplace=True)\n",
        "df['Destination']"
      ]
    },
    {
      "cell_type": "markdown",
      "id": "26e32f69",
      "metadata": {
        "papermill": {
          "duration": 0.026208,
          "end_time": "2022-08-29T11:47:05.662821",
          "exception": false,
          "start_time": "2022-08-29T11:47:05.636613",
          "status": "completed"
        },
        "tags": [],
        "id": "26e32f69"
      },
      "source": [
        "#### Age"
      ]
    },
    {
      "cell_type": "code",
      "execution_count": 35,
      "id": "d71accc9",
      "metadata": {
        "execution": {
          "iopub.execute_input": "2022-08-29T11:47:05.718283Z",
          "iopub.status.busy": "2022-08-29T11:47:05.717799Z",
          "iopub.status.idle": "2022-08-29T11:47:05.733026Z",
          "shell.execute_reply": "2022-08-29T11:47:05.731831Z"
        },
        "papermill": {
          "duration": 0.046906,
          "end_time": "2022-08-29T11:47:05.735879",
          "exception": false,
          "start_time": "2022-08-29T11:47:05.688973",
          "status": "completed"
        },
        "tags": [],
        "colab": {
          "base_uri": "https://localhost:8080/"
        },
        "id": "d71accc9",
        "outputId": "7279bce5-2d84-4083-d465-d8aff2138d5c"
      },
      "outputs": [
        {
          "output_type": "execute_result",
          "data": {
            "text/plain": [
              "0       adult\n",
              "1       youth\n",
              "2       adult\n",
              "3       adult\n",
              "4       child\n",
              "        ...  \n",
              "4272    adult\n",
              "4273    adult\n",
              "4274    youth\n",
              "4275    youth\n",
              "4276    adult\n",
              "Name: Age, Length: 10883, dtype: category\n",
              "Categories (4, object): ['child' < 'youth' < 'adult' < 'old']"
            ]
          },
          "metadata": {},
          "execution_count": 35
        }
      ],
      "source": [
        "df['Age'] = pd.cut(x=df['Age'], bins=[-1,18,30,60,100], labels=['child', 'youth', 'adult', 'old'])\n",
        "df['Age']"
      ]
    },
    {
      "cell_type": "code",
      "execution_count": 36,
      "id": "d123c419",
      "metadata": {
        "execution": {
          "iopub.execute_input": "2022-08-29T11:47:05.792307Z",
          "iopub.status.busy": "2022-08-29T11:47:05.791185Z",
          "iopub.status.idle": "2022-08-29T11:47:06.125107Z",
          "shell.execute_reply": "2022-08-29T11:47:06.123821Z"
        },
        "papermill": {
          "duration": 0.364938,
          "end_time": "2022-08-29T11:47:06.127739",
          "exception": false,
          "start_time": "2022-08-29T11:47:05.762801",
          "status": "completed"
        },
        "tags": [],
        "colab": {
          "base_uri": "https://localhost:8080/",
          "height": 387
        },
        "id": "d123c419",
        "outputId": "74290fcd-1a9f-4e4a-8e94-47e658970f6b"
      },
      "outputs": [
        {
          "output_type": "execute_result",
          "data": {
            "text/plain": [
              "<seaborn.axisgrid.FacetGrid at 0x7f919f363cd0>"
            ]
          },
          "metadata": {},
          "execution_count": 36
        },
        {
          "output_type": "display_data",
          "data": {
            "text/plain": [
              "<Figure size 360x360 with 1 Axes>"
            ],
            "image/png": "[encoded data removed]"
          },
          "metadata": {
            "needs_background": "light"
          }
        }
      ],
      "source": [
        "sns.displot(df['Age'])"
      ]
    },
    {
      "cell_type": "code",
      "execution_count": 37,
      "id": "f1c92945",
      "metadata": {
        "execution": {
          "iopub.execute_input": "2022-08-29T11:47:06.184795Z",
          "iopub.status.busy": "2022-08-29T11:47:06.183901Z",
          "iopub.status.idle": "2022-08-29T11:47:06.194091Z",
          "shell.execute_reply": "2022-08-29T11:47:06.193068Z"
        },
        "papermill": {
          "duration": 0.041215,
          "end_time": "2022-08-29T11:47:06.196518",
          "exception": false,
          "start_time": "2022-08-29T11:47:06.155303",
          "status": "completed"
        },
        "tags": [],
        "colab": {
          "base_uri": "https://localhost:8080/"
        },
        "id": "f1c92945",
        "outputId": "eb2dcd57-e0db-4ac6-8cb4-d9a0a84e4f78"
      },
      "outputs": [
        {
          "output_type": "execute_result",
          "data": {
            "text/plain": [
              "youth    4250\n",
              "adult    4013\n",
              "child    2340\n",
              "old       280\n",
              "Name: Age, dtype: int64"
            ]
          },
          "metadata": {},
          "execution_count": 37
        }
      ],
      "source": [
        "df['Age'].value_counts()"
      ]
    },
    {
      "cell_type": "code",
      "execution_count": 38,
      "id": "1d61209e",
      "metadata": {
        "execution": {
          "iopub.execute_input": "2022-08-29T11:47:06.252831Z",
          "iopub.status.busy": "2022-08-29T11:47:06.252426Z",
          "iopub.status.idle": "2022-08-29T11:47:06.349757Z",
          "shell.execute_reply": "2022-08-29T11:47:06.348195Z"
        },
        "papermill": {
          "duration": 0.12851,
          "end_time": "2022-08-29T11:47:06.352412",
          "exception": false,
          "start_time": "2022-08-29T11:47:06.223902",
          "status": "completed"
        },
        "tags": [],
        "colab": {
          "base_uri": "https://localhost:8080/",
          "height": 248
        },
        "id": "1d61209e",
        "outputId": "69b10a74-39da-46e3-b32e-3437ffb87aab"
      },
      "outputs": [
        {
          "output_type": "display_data",
          "data": {
            "text/plain": [
              "<Figure size 432x288 with 1 Axes>"
            ],
            "image/png": "[encoded data removed]"
          },
          "metadata": {}
        }
      ],
      "source": [
        "plt.pie(df['Age'].value_counts(), labels=['child', 'youth', 'adult', 'old'])\n",
        "plt.show()"
      ]
    },
    {
      "cell_type": "code",
      "execution_count": 39,
      "id": "b839dbed",
      "metadata": {
        "execution": {
          "iopub.execute_input": "2022-08-29T11:47:06.410517Z",
          "iopub.status.busy": "2022-08-29T11:47:06.409364Z",
          "iopub.status.idle": "2022-08-29T11:47:06.428082Z",
          "shell.execute_reply": "2022-08-29T11:47:06.427105Z"
        },
        "papermill": {
          "duration": 0.051244,
          "end_time": "2022-08-29T11:47:06.431421",
          "exception": false,
          "start_time": "2022-08-29T11:47:06.380177",
          "status": "completed"
        },
        "tags": [],
        "colab": {
          "base_uri": "https://localhost:8080/"
        },
        "id": "b839dbed",
        "outputId": "4276af17-770e-47e9-bb29-439260e1de89"
      },
      "outputs": [
        {
          "output_type": "execute_result",
          "data": {
            "text/plain": [
              "0       3\n",
              "1       2\n",
              "2       3\n",
              "3       3\n",
              "4       1\n",
              "       ..\n",
              "4272    3\n",
              "4273    3\n",
              "4274    2\n",
              "4275    2\n",
              "4276    3\n",
              "Name: Age, Length: 10883, dtype: int64"
            ]
          },
          "metadata": {},
          "execution_count": 39
        }
      ],
      "source": [
        "df['Age'].replace({'child':1, 'youth':2, 'adult':3, 'old':4}, inplace=True)\n",
        "df['Age']"
      ]
    },
    {
      "cell_type": "markdown",
      "id": "aa6e2d68",
      "metadata": {
        "papermill": {
          "duration": 0.027165,
          "end_time": "2022-08-29T11:47:06.486167",
          "exception": false,
          "start_time": "2022-08-29T11:47:06.459002",
          "status": "completed"
        },
        "tags": [],
        "id": "aa6e2d68"
      },
      "source": [
        "#### VIP"
      ]
    },
    {
      "cell_type": "code",
      "execution_count": 40,
      "id": "67f55fe2",
      "metadata": {
        "execution": {
          "iopub.execute_input": "2022-08-29T11:47:06.543301Z",
          "iopub.status.busy": "2022-08-29T11:47:06.542856Z",
          "iopub.status.idle": "2022-08-29T11:47:06.552060Z",
          "shell.execute_reply": "2022-08-29T11:47:06.551115Z"
        },
        "papermill": {
          "duration": 0.040638,
          "end_time": "2022-08-29T11:47:06.554457",
          "exception": false,
          "start_time": "2022-08-29T11:47:06.513819",
          "status": "completed"
        },
        "tags": [],
        "id": "67f55fe2"
      },
      "outputs": [],
      "source": [
        "df['VIP'][df['VIP'] == \"not given\"] = False"
      ]
    },
    {
      "cell_type": "code",
      "execution_count": 41,
      "id": "75b10111",
      "metadata": {
        "execution": {
          "iopub.execute_input": "2022-08-29T11:47:06.611087Z",
          "iopub.status.busy": "2022-08-29T11:47:06.610284Z",
          "iopub.status.idle": "2022-08-29T11:47:06.621706Z",
          "shell.execute_reply": "2022-08-29T11:47:06.620501Z"
        },
        "papermill": {
          "duration": 0.042884,
          "end_time": "2022-08-29T11:47:06.624369",
          "exception": false,
          "start_time": "2022-08-29T11:47:06.581485",
          "status": "completed"
        },
        "tags": [],
        "id": "75b10111"
      },
      "outputs": [],
      "source": [
        "df['VIP'].replace({False: 0, True: 1}, inplace=True)"
      ]
    },
    {
      "cell_type": "code",
      "execution_count": 42,
      "id": "5531ca83",
      "metadata": {
        "execution": {
          "iopub.execute_input": "2022-08-29T11:47:06.681889Z",
          "iopub.status.busy": "2022-08-29T11:47:06.680777Z",
          "iopub.status.idle": "2022-08-29T11:47:07.114988Z",
          "shell.execute_reply": "2022-08-29T11:47:07.113337Z"
        },
        "papermill": {
          "duration": 0.465591,
          "end_time": "2022-08-29T11:47:07.117848",
          "exception": false,
          "start_time": "2022-08-29T11:47:06.652257",
          "status": "completed"
        },
        "tags": [],
        "colab": {
          "base_uri": "https://localhost:8080/",
          "height": 297
        },
        "id": "5531ca83",
        "outputId": "007efc21-db53-4433-b3f4-9716e8579d34"
      },
      "outputs": [
        {
          "output_type": "execute_result",
          "data": {
            "text/plain": [
              "<matplotlib.axes._subplots.AxesSubplot at 0x7f919f23dd10>"
            ]
          },
          "metadata": {},
          "execution_count": 42
        },
        {
          "output_type": "display_data",
          "data": {
            "text/plain": [
              "<Figure size 432x288 with 1 Axes>"
            ],
            "image/png": "[encoded data removed]"
          },
          "metadata": {
            "needs_background": "light"
          }
        }
      ],
      "source": [
        "sns.distplot(df['VIP'])"
      ]
    },
    {
      "cell_type": "markdown",
      "id": "e52851bc",
      "metadata": {
        "papermill": {
          "duration": 0.027492,
          "end_time": "2022-08-29T11:47:07.174886",
          "exception": false,
          "start_time": "2022-08-29T11:47:07.147394",
          "status": "completed"
        },
        "tags": [],
        "id": "e52851bc"
      },
      "source": [
        "#### Room Service"
      ]
    },
    {
      "cell_type": "code",
      "execution_count": 43,
      "id": "73b4b89d",
      "metadata": {
        "execution": {
          "iopub.execute_input": "2022-08-29T11:47:07.234091Z",
          "iopub.status.busy": "2022-08-29T11:47:07.232925Z",
          "iopub.status.idle": "2022-08-29T11:47:07.241938Z",
          "shell.execute_reply": "2022-08-29T11:47:07.240934Z"
        },
        "papermill": {
          "duration": 0.041255,
          "end_time": "2022-08-29T11:47:07.244448",
          "exception": false,
          "start_time": "2022-08-29T11:47:07.203193",
          "status": "completed"
        },
        "tags": [],
        "colab": {
          "base_uri": "https://localhost:8080/"
        },
        "id": "73b4b89d",
        "outputId": "02bebc39-152e-4b09-da7f-76dc4774b2eb"
      },
      "outputs": [
        {
          "output_type": "execute_result",
          "data": {
            "text/plain": [
              "11567.0"
            ]
          },
          "metadata": {},
          "execution_count": 43
        }
      ],
      "source": [
        "df['RoomService'].max()"
      ]
    },
    {
      "cell_type": "code",
      "execution_count": 44,
      "id": "bfbd0202",
      "metadata": {
        "execution": {
          "iopub.execute_input": "2022-08-29T11:47:07.306097Z",
          "iopub.status.busy": "2022-08-29T11:47:07.305203Z",
          "iopub.status.idle": "2022-08-29T11:47:07.319851Z",
          "shell.execute_reply": "2022-08-29T11:47:07.318774Z"
        },
        "papermill": {
          "duration": 0.048658,
          "end_time": "2022-08-29T11:47:07.322631",
          "exception": false,
          "start_time": "2022-08-29T11:47:07.273973",
          "status": "completed"
        },
        "tags": [],
        "colab": {
          "base_uri": "https://localhost:8080/"
        },
        "id": "bfbd0202",
        "outputId": "4a64f693-9e4c-465e-f6e3-d94fe3a89396"
      },
      "outputs": [
        {
          "output_type": "execute_result",
          "data": {
            "text/plain": [
              "0       low\n",
              "1       low\n",
              "2       low\n",
              "3       low\n",
              "4       low\n",
              "       ... \n",
              "4272    low\n",
              "4273    low\n",
              "4274    low\n",
              "4275    low\n",
              "4276    low\n",
              "Name: RoomService, Length: 10883, dtype: category\n",
              "Categories (3, object): ['low' < 'mid' < 'high']"
            ]
          },
          "metadata": {},
          "execution_count": 44
        }
      ],
      "source": [
        "df['RoomService'] = pd.cut(x=df['RoomService'], bins=[-1, 4000, 8000, 12000], labels=['low','mid','high'])\n",
        "df['RoomService']"
      ]
    },
    {
      "cell_type": "code",
      "execution_count": 45,
      "id": "235c2001",
      "metadata": {
        "execution": {
          "iopub.execute_input": "2022-08-29T11:47:07.382627Z",
          "iopub.status.busy": "2022-08-29T11:47:07.382210Z",
          "iopub.status.idle": "2022-08-29T11:47:07.680123Z",
          "shell.execute_reply": "2022-08-29T11:47:07.679235Z"
        },
        "papermill": {
          "duration": 0.330794,
          "end_time": "2022-08-29T11:47:07.682457",
          "exception": false,
          "start_time": "2022-08-29T11:47:07.351663",
          "status": "completed"
        },
        "tags": [],
        "colab": {
          "base_uri": "https://localhost:8080/",
          "height": 387
        },
        "id": "235c2001",
        "outputId": "55a71c5d-99f6-4704-ea37-bd538391dbc5"
      },
      "outputs": [
        {
          "output_type": "execute_result",
          "data": {
            "text/plain": [
              "<seaborn.axisgrid.FacetGrid at 0x7f919f197550>"
            ]
          },
          "metadata": {},
          "execution_count": 45
        },
        {
          "output_type": "display_data",
          "data": {
            "text/plain": [
              "<Figure size 360x360 with 1 Axes>"
            ],
            "image/png": "[encoded data removed]"
          },
          "metadata": {
            "needs_background": "light"
          }
        }
      ],
      "source": [
        "sns.displot(df['RoomService'])"
      ]
    },
    {
      "cell_type": "code",
      "execution_count": 46,
      "id": "bb91842f",
      "metadata": {
        "execution": {
          "iopub.execute_input": "2022-08-29T11:47:07.740596Z",
          "iopub.status.busy": "2022-08-29T11:47:07.739705Z",
          "iopub.status.idle": "2022-08-29T11:47:07.748867Z",
          "shell.execute_reply": "2022-08-29T11:47:07.747945Z"
        },
        "papermill": {
          "duration": 0.041027,
          "end_time": "2022-08-29T11:47:07.751287",
          "exception": false,
          "start_time": "2022-08-29T11:47:07.710260",
          "status": "completed"
        },
        "tags": [],
        "colab": {
          "base_uri": "https://localhost:8080/"
        },
        "id": "bb91842f",
        "outputId": "90eed2cb-9c79-43a2-c50f-d2420d5b9c66"
      },
      "outputs": [
        {
          "output_type": "execute_result",
          "data": {
            "text/plain": [
              "low     10835\n",
              "mid        42\n",
              "high        6\n",
              "Name: RoomService, dtype: int64"
            ]
          },
          "metadata": {},
          "execution_count": 46
        }
      ],
      "source": [
        "df['RoomService'].value_counts()"
      ]
    },
    {
      "cell_type": "code",
      "execution_count": 47,
      "id": "eaff8bfd",
      "metadata": {
        "execution": {
          "iopub.execute_input": "2022-08-29T11:47:07.812188Z",
          "iopub.status.busy": "2022-08-29T11:47:07.811348Z",
          "iopub.status.idle": "2022-08-29T11:47:07.909331Z",
          "shell.execute_reply": "2022-08-29T11:47:07.907652Z"
        },
        "papermill": {
          "duration": 0.133281,
          "end_time": "2022-08-29T11:47:07.913986",
          "exception": false,
          "start_time": "2022-08-29T11:47:07.780705",
          "status": "completed"
        },
        "tags": [],
        "colab": {
          "base_uri": "https://localhost:8080/",
          "height": 248
        },
        "id": "eaff8bfd",
        "outputId": "edb74edb-022f-47e2-c8cb-a57cbd782edb"
      },
      "outputs": [
        {
          "output_type": "display_data",
          "data": {
            "text/plain": [
              "<Figure size 432x288 with 1 Axes>"
            ],
            "image/png": "[encoded data removed]"
          },
          "metadata": {}
        }
      ],
      "source": [
        "plt.pie(df['RoomService'].value_counts(), labels = [\"low\", \"mid\", \"high\"])\n",
        "plt.show()"
      ]
    },
    {
      "cell_type": "code",
      "execution_count": 48,
      "id": "3f77211d",
      "metadata": {
        "execution": {
          "iopub.execute_input": "2022-08-29T11:47:08.025179Z",
          "iopub.status.busy": "2022-08-29T11:47:08.024781Z",
          "iopub.status.idle": "2022-08-29T11:47:08.038465Z",
          "shell.execute_reply": "2022-08-29T11:47:08.037479Z"
        },
        "papermill": {
          "duration": 0.05129,
          "end_time": "2022-08-29T11:47:08.040920",
          "exception": false,
          "start_time": "2022-08-29T11:47:07.989630",
          "status": "completed"
        },
        "tags": [],
        "colab": {
          "base_uri": "https://localhost:8080/"
        },
        "id": "3f77211d",
        "outputId": "58dc0a6b-16e0-4c7a-ed03-862371266a27"
      },
      "outputs": [
        {
          "output_type": "execute_result",
          "data": {
            "text/plain": [
              "0       1\n",
              "1       1\n",
              "2       1\n",
              "3       1\n",
              "4       1\n",
              "       ..\n",
              "4272    1\n",
              "4273    1\n",
              "4274    1\n",
              "4275    1\n",
              "4276    1\n",
              "Name: RoomService, Length: 10883, dtype: int64"
            ]
          },
          "metadata": {},
          "execution_count": 48
        }
      ],
      "source": [
        "df['RoomService'].replace({\"low\":1, \"mid\":2, \"high\":3}, inplace=True)\n",
        "df['RoomService']"
      ]
    },
    {
      "cell_type": "markdown",
      "id": "5dd7f3b1",
      "metadata": {
        "papermill": {
          "duration": 0.029623,
          "end_time": "2022-08-29T11:47:08.099731",
          "exception": false,
          "start_time": "2022-08-29T11:47:08.070108",
          "status": "completed"
        },
        "tags": [],
        "id": "5dd7f3b1"
      },
      "source": [
        "#### Food Court"
      ]
    },
    {
      "cell_type": "code",
      "execution_count": 49,
      "id": "5fd0b431",
      "metadata": {
        "execution": {
          "iopub.execute_input": "2022-08-29T11:47:08.159021Z",
          "iopub.status.busy": "2022-08-29T11:47:08.158258Z",
          "iopub.status.idle": "2022-08-29T11:47:08.164030Z",
          "shell.execute_reply": "2022-08-29T11:47:08.163123Z"
        },
        "papermill": {
          "duration": 0.039679,
          "end_time": "2022-08-29T11:47:08.167772",
          "exception": false,
          "start_time": "2022-08-29T11:47:08.128093",
          "status": "completed"
        },
        "tags": [],
        "colab": {
          "base_uri": "https://localhost:8080/"
        },
        "id": "5fd0b431",
        "outputId": "74a692ee-f16c-4789-cbf5-0c42e0beda70"
      },
      "outputs": [
        {
          "output_type": "stream",
          "name": "stdout",
          "text": [
            "29813.0\n"
          ]
        }
      ],
      "source": [
        "print(df['FoodCourt'].max())"
      ]
    },
    {
      "cell_type": "code",
      "execution_count": 50,
      "id": "fee87889",
      "metadata": {
        "execution": {
          "iopub.execute_input": "2022-08-29T11:47:08.232077Z",
          "iopub.status.busy": "2022-08-29T11:47:08.231250Z",
          "iopub.status.idle": "2022-08-29T11:47:08.244538Z",
          "shell.execute_reply": "2022-08-29T11:47:08.243545Z"
        },
        "papermill": {
          "duration": 0.049,
          "end_time": "2022-08-29T11:47:08.247104",
          "exception": false,
          "start_time": "2022-08-29T11:47:08.198104",
          "status": "completed"
        },
        "tags": [],
        "colab": {
          "base_uri": "https://localhost:8080/"
        },
        "id": "fee87889",
        "outputId": "97d1b282-306c-4252-8299-d422b6e34a9e"
      },
      "outputs": [
        {
          "output_type": "execute_result",
          "data": {
            "text/plain": [
              "0       low\n",
              "1       low\n",
              "2       low\n",
              "3       low\n",
              "4       low\n",
              "       ... \n",
              "4272    low\n",
              "4273    low\n",
              "4274    low\n",
              "4275    low\n",
              "4276    low\n",
              "Name: FoodCourt, Length: 10883, dtype: category\n",
              "Categories (3, object): ['low' < 'mid' < 'high']"
            ]
          },
          "metadata": {},
          "execution_count": 50
        }
      ],
      "source": [
        "df['FoodCourt'] = pd.cut(x=df['FoodCourt'], bins=[-1, 6000, 12000, 30000], labels = ['low', 'mid', 'high'])\n",
        "df['FoodCourt']"
      ]
    },
    {
      "cell_type": "code",
      "execution_count": 51,
      "id": "86aebfb1",
      "metadata": {
        "execution": {
          "iopub.execute_input": "2022-08-29T11:47:08.308949Z",
          "iopub.status.busy": "2022-08-29T11:47:08.308189Z",
          "iopub.status.idle": "2022-08-29T11:47:08.617192Z",
          "shell.execute_reply": "2022-08-29T11:47:08.616270Z"
        },
        "papermill": {
          "duration": 0.343378,
          "end_time": "2022-08-29T11:47:08.619739",
          "exception": false,
          "start_time": "2022-08-29T11:47:08.276361",
          "status": "completed"
        },
        "tags": [],
        "colab": {
          "base_uri": "https://localhost:8080/",
          "height": 387
        },
        "id": "86aebfb1",
        "outputId": "ab7716a0-c9c6-4ccc-ac49-d4c316ce8755"
      },
      "outputs": [
        {
          "output_type": "execute_result",
          "data": {
            "text/plain": [
              "<seaborn.axisgrid.FacetGrid at 0x7f919f07d110>"
            ]
          },
          "metadata": {},
          "execution_count": 51
        },
        {
          "output_type": "display_data",
          "data": {
            "text/plain": [
              "<Figure size 360x360 with 1 Axes>"
            ],
            "image/png": "[encoded data removed]"
          },
          "metadata": {
            "needs_background": "light"
          }
        }
      ],
      "source": [
        "sns.displot(df['FoodCourt'])"
      ]
    },
    {
      "cell_type": "code",
      "execution_count": 52,
      "id": "1b31bac3",
      "metadata": {
        "execution": {
          "iopub.execute_input": "2022-08-29T11:47:08.682168Z",
          "iopub.status.busy": "2022-08-29T11:47:08.681516Z",
          "iopub.status.idle": "2022-08-29T11:47:08.691129Z",
          "shell.execute_reply": "2022-08-29T11:47:08.690110Z"
        },
        "papermill": {
          "duration": 0.043654,
          "end_time": "2022-08-29T11:47:08.693671",
          "exception": false,
          "start_time": "2022-08-29T11:47:08.650017",
          "status": "completed"
        },
        "tags": [],
        "colab": {
          "base_uri": "https://localhost:8080/"
        },
        "id": "1b31bac3",
        "outputId": "88a857e8-ce18-48cc-b8d3-9729b3edb2bc"
      },
      "outputs": [
        {
          "output_type": "execute_result",
          "data": {
            "text/plain": [
              "low     10693\n",
              "mid       155\n",
              "high       35\n",
              "Name: FoodCourt, dtype: int64"
            ]
          },
          "metadata": {},
          "execution_count": 52
        }
      ],
      "source": [
        "df['FoodCourt'].value_counts()"
      ]
    },
    {
      "cell_type": "code",
      "execution_count": 53,
      "id": "b7206ffe",
      "metadata": {
        "execution": {
          "iopub.execute_input": "2022-08-29T11:47:08.756192Z",
          "iopub.status.busy": "2022-08-29T11:47:08.755363Z",
          "iopub.status.idle": "2022-08-29T11:47:08.857580Z",
          "shell.execute_reply": "2022-08-29T11:47:08.855515Z"
        },
        "papermill": {
          "duration": 0.138625,
          "end_time": "2022-08-29T11:47:08.862765",
          "exception": false,
          "start_time": "2022-08-29T11:47:08.724140",
          "status": "completed"
        },
        "tags": [],
        "colab": {
          "base_uri": "https://localhost:8080/",
          "height": 248
        },
        "id": "b7206ffe",
        "outputId": "35a465a3-6f17-45df-beb8-ec06a980bfb6"
      },
      "outputs": [
        {
          "output_type": "display_data",
          "data": {
            "text/plain": [
              "<Figure size 432x288 with 1 Axes>"
            ],
            "image/png": "[encoded data removed]"
          },
          "metadata": {}
        }
      ],
      "source": [
        "plt.pie(df['FoodCourt'].value_counts(), labels = [\"low\", \"mid\", \"high\"])\n",
        "plt.show()"
      ]
    },
    {
      "cell_type": "code",
      "execution_count": 54,
      "id": "c3172dbc",
      "metadata": {
        "execution": {
          "iopub.execute_input": "2022-08-29T11:47:08.974577Z",
          "iopub.status.busy": "2022-08-29T11:47:08.974147Z",
          "iopub.status.idle": "2022-08-29T11:47:08.987872Z",
          "shell.execute_reply": "2022-08-29T11:47:08.986857Z"
        },
        "papermill": {
          "duration": 0.05196,
          "end_time": "2022-08-29T11:47:08.990330",
          "exception": false,
          "start_time": "2022-08-29T11:47:08.938370",
          "status": "completed"
        },
        "tags": [],
        "colab": {
          "base_uri": "https://localhost:8080/"
        },
        "id": "c3172dbc",
        "outputId": "58c36fbb-7737-4b1f-8c4c-a3f53bedcbc0"
      },
      "outputs": [
        {
          "output_type": "execute_result",
          "data": {
            "text/plain": [
              "0       1\n",
              "1       1\n",
              "2       1\n",
              "3       1\n",
              "4       1\n",
              "       ..\n",
              "4272    1\n",
              "4273    1\n",
              "4274    1\n",
              "4275    1\n",
              "4276    1\n",
              "Name: FoodCourt, Length: 10883, dtype: int64"
            ]
          },
          "metadata": {},
          "execution_count": 54
        }
      ],
      "source": [
        "df['FoodCourt'].replace({\"low\": 1, \"mid\": 2, \"high\": 3},inplace=True)\n",
        "df['FoodCourt']"
      ]
    },
    {
      "cell_type": "markdown",
      "id": "382e6dff",
      "metadata": {
        "papermill": {
          "duration": 0.029264,
          "end_time": "2022-08-29T11:47:09.048630",
          "exception": false,
          "start_time": "2022-08-29T11:47:09.019366",
          "status": "completed"
        },
        "tags": [],
        "id": "382e6dff"
      },
      "source": [
        "#### Shopping Mall"
      ]
    },
    {
      "cell_type": "code",
      "execution_count": 55,
      "id": "781f8365",
      "metadata": {
        "execution": {
          "iopub.execute_input": "2022-08-29T11:47:09.113947Z",
          "iopub.status.busy": "2022-08-29T11:47:09.113157Z",
          "iopub.status.idle": "2022-08-29T11:47:09.119858Z",
          "shell.execute_reply": "2022-08-29T11:47:09.119058Z"
        },
        "papermill": {
          "duration": 0.041281,
          "end_time": "2022-08-29T11:47:09.122267",
          "exception": false,
          "start_time": "2022-08-29T11:47:09.080986",
          "status": "completed"
        },
        "tags": [],
        "colab": {
          "base_uri": "https://localhost:8080/"
        },
        "id": "781f8365",
        "outputId": "9440755b-b15d-44ef-e333-452d6d98f666"
      },
      "outputs": [
        {
          "output_type": "execute_result",
          "data": {
            "text/plain": [
              "12253.0"
            ]
          },
          "metadata": {},
          "execution_count": 55
        }
      ],
      "source": [
        "df['ShoppingMall'].max()"
      ]
    },
    {
      "cell_type": "code",
      "execution_count": 56,
      "id": "668fd12b",
      "metadata": {
        "execution": {
          "iopub.execute_input": "2022-08-29T11:47:09.184630Z",
          "iopub.status.busy": "2022-08-29T11:47:09.183811Z",
          "iopub.status.idle": "2022-08-29T11:47:09.196709Z",
          "shell.execute_reply": "2022-08-29T11:47:09.195454Z"
        },
        "papermill": {
          "duration": 0.047307,
          "end_time": "2022-08-29T11:47:09.199329",
          "exception": false,
          "start_time": "2022-08-29T11:47:09.152022",
          "status": "completed"
        },
        "tags": [],
        "colab": {
          "base_uri": "https://localhost:8080/"
        },
        "id": "668fd12b",
        "outputId": "e2e98457-c429-4fbb-8188-563b6e3c91d3"
      },
      "outputs": [
        {
          "output_type": "execute_result",
          "data": {
            "text/plain": [
              "0       low\n",
              "1       low\n",
              "2       low\n",
              "3       low\n",
              "4       low\n",
              "       ... \n",
              "4272    low\n",
              "4273    low\n",
              "4274    low\n",
              "4275    low\n",
              "4276    low\n",
              "Name: ShoppingMall, Length: 10883, dtype: category\n",
              "Categories (3, object): ['low' < 'mid' < 'high']"
            ]
          },
          "metadata": {},
          "execution_count": 56
        }
      ],
      "source": [
        "df['ShoppingMall'] = pd.cut(x=df['ShoppingMall'], bins=[-1, 4000, 8000, 13000], labels=['low', 'mid', 'high'])\n",
        "df['ShoppingMall']"
      ]
    },
    {
      "cell_type": "code",
      "execution_count": 57,
      "id": "a8249c32",
      "metadata": {
        "execution": {
          "iopub.execute_input": "2022-08-29T11:47:09.262031Z",
          "iopub.status.busy": "2022-08-29T11:47:09.261291Z",
          "iopub.status.idle": "2022-08-29T11:47:09.566835Z",
          "shell.execute_reply": "2022-08-29T11:47:09.565454Z"
        },
        "papermill": {
          "duration": 0.341051,
          "end_time": "2022-08-29T11:47:09.570437",
          "exception": false,
          "start_time": "2022-08-29T11:47:09.229386",
          "status": "completed"
        },
        "tags": [],
        "colab": {
          "base_uri": "https://localhost:8080/",
          "height": 387
        },
        "id": "a8249c32",
        "outputId": "1d112f53-7ad3-47c4-a3e2-f8fda50b6710"
      },
      "outputs": [
        {
          "output_type": "execute_result",
          "data": {
            "text/plain": [
              "<seaborn.axisgrid.FacetGrid at 0x7f919eff9350>"
            ]
          },
          "metadata": {},
          "execution_count": 57
        },
        {
          "output_type": "display_data",
          "data": {
            "text/plain": [
              "<Figure size 360x360 with 1 Axes>"
            ],
            "image/png": "[encoded data removed]"
          },
          "metadata": {
            "needs_background": "light"
          }
        }
      ],
      "source": [
        "sns.displot(df['ShoppingMall'])"
      ]
    },
    {
      "cell_type": "code",
      "execution_count": 58,
      "id": "c3585d68",
      "metadata": {
        "execution": {
          "iopub.execute_input": "2022-08-29T11:47:09.638856Z",
          "iopub.status.busy": "2022-08-29T11:47:09.638345Z",
          "iopub.status.idle": "2022-08-29T11:47:09.648994Z",
          "shell.execute_reply": "2022-08-29T11:47:09.647674Z"
        },
        "papermill": {
          "duration": 0.049674,
          "end_time": "2022-08-29T11:47:09.652042",
          "exception": false,
          "start_time": "2022-08-29T11:47:09.602368",
          "status": "completed"
        },
        "tags": [],
        "colab": {
          "base_uri": "https://localhost:8080/"
        },
        "id": "c3585d68",
        "outputId": "13264ab2-34d1-477f-ee52-b221159049ea"
      },
      "outputs": [
        {
          "output_type": "execute_result",
          "data": {
            "text/plain": [
              "low     10840\n",
              "mid        35\n",
              "high        8\n",
              "Name: ShoppingMall, dtype: int64"
            ]
          },
          "metadata": {},
          "execution_count": 58
        }
      ],
      "source": [
        "df['ShoppingMall'].value_counts()"
      ]
    },
    {
      "cell_type": "code",
      "execution_count": 59,
      "id": "cf836e77",
      "metadata": {
        "execution": {
          "iopub.execute_input": "2022-08-29T11:47:09.715118Z",
          "iopub.status.busy": "2022-08-29T11:47:09.714304Z",
          "iopub.status.idle": "2022-08-29T11:47:09.821496Z",
          "shell.execute_reply": "2022-08-29T11:47:09.819284Z"
        },
        "papermill": {
          "duration": 0.143741,
          "end_time": "2022-08-29T11:47:09.826355",
          "exception": false,
          "start_time": "2022-08-29T11:47:09.682614",
          "status": "completed"
        },
        "tags": [],
        "colab": {
          "base_uri": "https://localhost:8080/",
          "height": 248
        },
        "id": "cf836e77",
        "outputId": "9cb1d7ba-0d0a-4950-e510-b4dbb37b5d72"
      },
      "outputs": [
        {
          "output_type": "display_data",
          "data": {
            "text/plain": [
              "<Figure size 432x288 with 1 Axes>"
            ],
            "image/png": "[encoded data removed]"
          },
          "metadata": {}
        }
      ],
      "source": [
        "plt.pie(df['ShoppingMall'].value_counts(), labels = [\"low\", \"mid\", \"high\"])\n",
        "plt.show()"
      ]
    },
    {
      "cell_type": "code",
      "execution_count": 60,
      "id": "e3e3d772",
      "metadata": {
        "execution": {
          "iopub.execute_input": "2022-08-29T11:47:09.943365Z",
          "iopub.status.busy": "2022-08-29T11:47:09.942917Z",
          "iopub.status.idle": "2022-08-29T11:47:09.958797Z",
          "shell.execute_reply": "2022-08-29T11:47:09.957445Z"
        },
        "papermill": {
          "duration": 0.056288,
          "end_time": "2022-08-29T11:47:09.962414",
          "exception": false,
          "start_time": "2022-08-29T11:47:09.906126",
          "status": "completed"
        },
        "tags": [],
        "colab": {
          "base_uri": "https://localhost:8080/"
        },
        "id": "e3e3d772",
        "outputId": "083b04cd-7832-4497-aef9-0163725f6953"
      },
      "outputs": [
        {
          "output_type": "execute_result",
          "data": {
            "text/plain": [
              "0       1\n",
              "1       1\n",
              "2       1\n",
              "3       1\n",
              "4       1\n",
              "       ..\n",
              "4272    1\n",
              "4273    1\n",
              "4274    1\n",
              "4275    1\n",
              "4276    1\n",
              "Name: ShoppingMall, Length: 10883, dtype: int64"
            ]
          },
          "metadata": {},
          "execution_count": 60
        }
      ],
      "source": [
        "df['ShoppingMall'].replace({\"low\":1, \"mid\":2, \"high\":3}, inplace=True)\n",
        "df['ShoppingMall']"
      ]
    },
    {
      "cell_type": "markdown",
      "id": "45937526",
      "metadata": {
        "papermill": {
          "duration": 0.037178,
          "end_time": "2022-08-29T11:47:10.042202",
          "exception": false,
          "start_time": "2022-08-29T11:47:10.005024",
          "status": "completed"
        },
        "tags": [],
        "id": "45937526"
      },
      "source": [
        "#### Spa"
      ]
    },
    {
      "cell_type": "code",
      "execution_count": 61,
      "id": "c547fe93",
      "metadata": {
        "execution": {
          "iopub.execute_input": "2022-08-29T11:47:10.118163Z",
          "iopub.status.busy": "2022-08-29T11:47:10.117330Z",
          "iopub.status.idle": "2022-08-29T11:47:10.125612Z",
          "shell.execute_reply": "2022-08-29T11:47:10.124518Z"
        },
        "papermill": {
          "duration": 0.04455,
          "end_time": "2022-08-29T11:47:10.128037",
          "exception": false,
          "start_time": "2022-08-29T11:47:10.083487",
          "status": "completed"
        },
        "tags": [],
        "colab": {
          "base_uri": "https://localhost:8080/"
        },
        "id": "c547fe93",
        "outputId": "ea758c7e-2a01-445c-8421-d69608f86d7c"
      },
      "outputs": [
        {
          "output_type": "execute_result",
          "data": {
            "text/plain": [
              "22408.0"
            ]
          },
          "metadata": {},
          "execution_count": 61
        }
      ],
      "source": [
        "df['Spa'].max()"
      ]
    },
    {
      "cell_type": "code",
      "execution_count": 62,
      "id": "1566a047",
      "metadata": {
        "execution": {
          "iopub.execute_input": "2022-08-29T11:47:10.193034Z",
          "iopub.status.busy": "2022-08-29T11:47:10.192175Z",
          "iopub.status.idle": "2022-08-29T11:47:10.206178Z",
          "shell.execute_reply": "2022-08-29T11:47:10.204912Z"
        },
        "papermill": {
          "duration": 0.049146,
          "end_time": "2022-08-29T11:47:10.208795",
          "exception": false,
          "start_time": "2022-08-29T11:47:10.159649",
          "status": "completed"
        },
        "tags": [],
        "colab": {
          "base_uri": "https://localhost:8080/"
        },
        "id": "1566a047",
        "outputId": "bd229273-aec8-44cc-c19d-a4c943131545"
      },
      "outputs": [
        {
          "output_type": "execute_result",
          "data": {
            "text/plain": [
              "0       low\n",
              "1       low\n",
              "2       mid\n",
              "3       low\n",
              "4       low\n",
              "       ... \n",
              "4272    low\n",
              "4273    low\n",
              "4274    low\n",
              "4275    low\n",
              "4276    low\n",
              "Name: Spa, Length: 10883, dtype: category\n",
              "Categories (3, object): ['low' < 'mid' < 'high']"
            ]
          },
          "metadata": {},
          "execution_count": 62
        }
      ],
      "source": [
        "df['Spa'] = pd.cut(x=df['Spa'], bins=[-1, 5000, 15000, 23000], labels=['low', 'mid', 'high'])\n",
        "df['Spa']"
      ]
    },
    {
      "cell_type": "code",
      "execution_count": 63,
      "id": "39469b18",
      "metadata": {
        "execution": {
          "iopub.execute_input": "2022-08-29T11:47:10.272568Z",
          "iopub.status.busy": "2022-08-29T11:47:10.271759Z",
          "iopub.status.idle": "2022-08-29T11:47:10.721995Z",
          "shell.execute_reply": "2022-08-29T11:47:10.720910Z"
        },
        "papermill": {
          "duration": 0.485204,
          "end_time": "2022-08-29T11:47:10.724771",
          "exception": false,
          "start_time": "2022-08-29T11:47:10.239567",
          "status": "completed"
        },
        "tags": [],
        "colab": {
          "base_uri": "https://localhost:8080/",
          "height": 387
        },
        "id": "39469b18",
        "outputId": "23df9b12-25d2-428f-9476-3b5a4458fdb7"
      },
      "outputs": [
        {
          "output_type": "execute_result",
          "data": {
            "text/plain": [
              "<seaborn.axisgrid.FacetGrid at 0x7f919f0b9450>"
            ]
          },
          "metadata": {},
          "execution_count": 63
        },
        {
          "output_type": "display_data",
          "data": {
            "text/plain": [
              "<Figure size 360x360 with 1 Axes>"
            ],
            "image/png": "[encoded data removed]"
          },
          "metadata": {
            "needs_background": "light"
          }
        }
      ],
      "source": [
        "sns.displot(df['Spa'])"
      ]
    },
    {
      "cell_type": "code",
      "execution_count": 64,
      "id": "c595b9bb",
      "metadata": {
        "execution": {
          "iopub.execute_input": "2022-08-29T11:47:10.797030Z",
          "iopub.status.busy": "2022-08-29T11:47:10.795703Z",
          "iopub.status.idle": "2022-08-29T11:47:10.809120Z",
          "shell.execute_reply": "2022-08-29T11:47:10.807994Z"
        },
        "papermill": {
          "duration": 0.054994,
          "end_time": "2022-08-29T11:47:10.811845",
          "exception": false,
          "start_time": "2022-08-29T11:47:10.756851",
          "status": "completed"
        },
        "tags": [],
        "colab": {
          "base_uri": "https://localhost:8080/"
        },
        "id": "c595b9bb",
        "outputId": "75a8c234-2998-4164-bdeb-8f5c6275c876"
      },
      "outputs": [
        {
          "output_type": "execute_result",
          "data": {
            "text/plain": [
              "low     10762\n",
              "mid       112\n",
              "high        9\n",
              "Name: Spa, dtype: int64"
            ]
          },
          "metadata": {},
          "execution_count": 64
        }
      ],
      "source": [
        "df['Spa'].value_counts()"
      ]
    },
    {
      "cell_type": "code",
      "execution_count": 65,
      "id": "7fdb62a2",
      "metadata": {
        "execution": {
          "iopub.execute_input": "2022-08-29T11:47:10.883195Z",
          "iopub.status.busy": "2022-08-29T11:47:10.882350Z",
          "iopub.status.idle": "2022-08-29T11:47:10.987189Z",
          "shell.execute_reply": "2022-08-29T11:47:10.986286Z"
        },
        "papermill": {
          "duration": 0.143338,
          "end_time": "2022-08-29T11:47:10.990169",
          "exception": false,
          "start_time": "2022-08-29T11:47:10.846831",
          "status": "completed"
        },
        "tags": [],
        "colab": {
          "base_uri": "https://localhost:8080/",
          "height": 248
        },
        "id": "7fdb62a2",
        "outputId": "2432aabf-9124-4560-d3c7-ff08b8608380"
      },
      "outputs": [
        {
          "output_type": "display_data",
          "data": {
            "text/plain": [
              "<Figure size 432x288 with 1 Axes>"
            ],
            "image/png": "[encoded data removed]"
          },
          "metadata": {}
        }
      ],
      "source": [
        "plt.pie(df['Spa'].value_counts(), labels=[\"low\", \"mid\", \"high\"])\n",
        "plt.show()"
      ]
    },
    {
      "cell_type": "code",
      "execution_count": 66,
      "id": "751260ec",
      "metadata": {
        "execution": {
          "iopub.execute_input": "2022-08-29T11:47:11.104515Z",
          "iopub.status.busy": "2022-08-29T11:47:11.104109Z",
          "iopub.status.idle": "2022-08-29T11:47:11.118968Z",
          "shell.execute_reply": "2022-08-29T11:47:11.117856Z"
        },
        "papermill": {
          "duration": 0.056993,
          "end_time": "2022-08-29T11:47:11.121336",
          "exception": false,
          "start_time": "2022-08-29T11:47:11.064343",
          "status": "completed"
        },
        "tags": [],
        "colab": {
          "base_uri": "https://localhost:8080/"
        },
        "id": "751260ec",
        "outputId": "1fd1b1b4-5a90-4865-936a-38b42f81daeb"
      },
      "outputs": [
        {
          "output_type": "execute_result",
          "data": {
            "text/plain": [
              "0       1\n",
              "1       1\n",
              "2       2\n",
              "3       1\n",
              "4       1\n",
              "       ..\n",
              "4272    1\n",
              "4273    1\n",
              "4274    1\n",
              "4275    1\n",
              "4276    1\n",
              "Name: Spa, Length: 10883, dtype: int64"
            ]
          },
          "metadata": {},
          "execution_count": 66
        }
      ],
      "source": [
        "df['Spa'].replace({\"low\": 1, \"mid\": 2, \"high\": 3},inplace=True)\n",
        "df['Spa']"
      ]
    },
    {
      "cell_type": "markdown",
      "id": "edeecfd7",
      "metadata": {
        "papermill": {
          "duration": 0.031106,
          "end_time": "2022-08-29T11:47:11.185584",
          "exception": false,
          "start_time": "2022-08-29T11:47:11.154478",
          "status": "completed"
        },
        "tags": [],
        "id": "edeecfd7"
      },
      "source": [
        "#### VR Deck"
      ]
    },
    {
      "cell_type": "code",
      "execution_count": 67,
      "id": "3a3ec8d3",
      "metadata": {
        "execution": {
          "iopub.execute_input": "2022-08-29T11:47:11.265991Z",
          "iopub.status.busy": "2022-08-29T11:47:11.264970Z",
          "iopub.status.idle": "2022-08-29T11:47:11.275567Z",
          "shell.execute_reply": "2022-08-29T11:47:11.274385Z"
        },
        "papermill": {
          "duration": 0.055168,
          "end_time": "2022-08-29T11:47:11.278471",
          "exception": false,
          "start_time": "2022-08-29T11:47:11.223303",
          "status": "completed"
        },
        "tags": [],
        "colab": {
          "base_uri": "https://localhost:8080/"
        },
        "id": "3a3ec8d3",
        "outputId": "58a4bf1b-601d-4601-9835-fc8c84b4c483"
      },
      "outputs": [
        {
          "output_type": "execute_result",
          "data": {
            "text/plain": [
              "22272.0"
            ]
          },
          "metadata": {},
          "execution_count": 67
        }
      ],
      "source": [
        "df['VRDeck'].max()"
      ]
    },
    {
      "cell_type": "code",
      "execution_count": 68,
      "id": "de05c641",
      "metadata": {
        "execution": {
          "iopub.execute_input": "2022-08-29T11:47:11.351037Z",
          "iopub.status.busy": "2022-08-29T11:47:11.349210Z",
          "iopub.status.idle": "2022-08-29T11:47:11.363352Z",
          "shell.execute_reply": "2022-08-29T11:47:11.362322Z"
        },
        "papermill": {
          "duration": 0.055,
          "end_time": "2022-08-29T11:47:11.366315",
          "exception": false,
          "start_time": "2022-08-29T11:47:11.311315",
          "status": "completed"
        },
        "tags": [],
        "colab": {
          "base_uri": "https://localhost:8080/"
        },
        "id": "de05c641",
        "outputId": "7f5d6c2b-45da-4a96-a1df-c6781a1c9202"
      },
      "outputs": [
        {
          "output_type": "execute_result",
          "data": {
            "text/plain": [
              "0       low\n",
              "1       low\n",
              "2       low\n",
              "3       low\n",
              "4       low\n",
              "       ... \n",
              "4272    low\n",
              "4273    low\n",
              "4274    low\n",
              "4275    low\n",
              "4276    low\n",
              "Name: VRDeck, Length: 10883, dtype: category\n",
              "Categories (3, object): ['low' < 'mid' < 'high']"
            ]
          },
          "metadata": {},
          "execution_count": 68
        }
      ],
      "source": [
        "df['VRDeck'] = pd.cut(x=df['VRDeck'], bins=[-1, 5000, 15000, 23000], labels=['low', 'mid', 'high'])\n",
        "df['VRDeck']"
      ]
    },
    {
      "cell_type": "code",
      "execution_count": 69,
      "id": "b04eb503",
      "metadata": {
        "execution": {
          "iopub.execute_input": "2022-08-29T11:47:11.439858Z",
          "iopub.status.busy": "2022-08-29T11:47:11.438932Z",
          "iopub.status.idle": "2022-08-29T11:47:11.755808Z",
          "shell.execute_reply": "2022-08-29T11:47:11.754389Z"
        },
        "papermill": {
          "duration": 0.354093,
          "end_time": "2022-08-29T11:47:11.759675",
          "exception": false,
          "start_time": "2022-08-29T11:47:11.405582",
          "status": "completed"
        },
        "tags": [],
        "colab": {
          "base_uri": "https://localhost:8080/",
          "height": 387
        },
        "id": "b04eb503",
        "outputId": "b40eb6fe-ff0a-42f7-f080-f69e217b00bd"
      },
      "outputs": [
        {
          "output_type": "execute_result",
          "data": {
            "text/plain": [
              "<seaborn.axisgrid.FacetGrid at 0x7f919f393e50>"
            ]
          },
          "metadata": {},
          "execution_count": 69
        },
        {
          "output_type": "display_data",
          "data": {
            "text/plain": [
              "<Figure size 360x360 with 1 Axes>"
            ],
            "image/png": "[encoded data removed]"
          },
          "metadata": {
            "needs_background": "light"
          }
        }
      ],
      "source": [
        "sns.displot(df['VRDeck'])"
      ]
    },
    {
      "cell_type": "code",
      "execution_count": 70,
      "id": "10a395d7",
      "metadata": {
        "execution": {
          "iopub.execute_input": "2022-08-29T11:47:11.901597Z",
          "iopub.status.busy": "2022-08-29T11:47:11.901142Z",
          "iopub.status.idle": "2022-08-29T11:47:11.912213Z",
          "shell.execute_reply": "2022-08-29T11:47:11.910759Z"
        },
        "papermill": {
          "duration": 0.04806,
          "end_time": "2022-08-29T11:47:11.914807",
          "exception": false,
          "start_time": "2022-08-29T11:47:11.866747",
          "status": "completed"
        },
        "tags": [],
        "colab": {
          "base_uri": "https://localhost:8080/"
        },
        "id": "10a395d7",
        "outputId": "69c3b3f4-a673-4564-d222-e8d8d7150411"
      },
      "outputs": [
        {
          "output_type": "execute_result",
          "data": {
            "text/plain": [
              "low     10746\n",
              "mid       127\n",
              "high       10\n",
              "Name: VRDeck, dtype: int64"
            ]
          },
          "metadata": {},
          "execution_count": 70
        }
      ],
      "source": [
        "df['VRDeck'].value_counts()"
      ]
    },
    {
      "cell_type": "code",
      "execution_count": 71,
      "id": "aba4b485",
      "metadata": {
        "execution": {
          "iopub.execute_input": "2022-08-29T11:47:11.982979Z",
          "iopub.status.busy": "2022-08-29T11:47:11.982423Z",
          "iopub.status.idle": "2022-08-29T11:47:12.092355Z",
          "shell.execute_reply": "2022-08-29T11:47:12.090344Z"
        },
        "papermill": {
          "duration": 0.149316,
          "end_time": "2022-08-29T11:47:12.097101",
          "exception": false,
          "start_time": "2022-08-29T11:47:11.947785",
          "status": "completed"
        },
        "tags": [],
        "colab": {
          "base_uri": "https://localhost:8080/",
          "height": 248
        },
        "id": "aba4b485",
        "outputId": "bff88856-c0c9-455e-fd8d-c3fb7b2175a5"
      },
      "outputs": [
        {
          "output_type": "display_data",
          "data": {
            "text/plain": [
              "<Figure size 432x288 with 1 Axes>"
            ],
            "image/png": "[encoded data removed]"
          },
          "metadata": {}
        }
      ],
      "source": [
        "plt.pie(df['VRDeck'].value_counts(), labels=[\"low\", \"mid\", \"high\"])\n",
        "plt.show()"
      ]
    },
    {
      "cell_type": "code",
      "execution_count": 72,
      "id": "7b9fbe6f",
      "metadata": {
        "execution": {
          "iopub.execute_input": "2022-08-29T11:47:12.214318Z",
          "iopub.status.busy": "2022-08-29T11:47:12.213854Z",
          "iopub.status.idle": "2022-08-29T11:47:12.230633Z",
          "shell.execute_reply": "2022-08-29T11:47:12.228490Z"
        },
        "papermill": {
          "duration": 0.056461,
          "end_time": "2022-08-29T11:47:12.233457",
          "exception": false,
          "start_time": "2022-08-29T11:47:12.176996",
          "status": "completed"
        },
        "tags": [],
        "colab": {
          "base_uri": "https://localhost:8080/"
        },
        "id": "7b9fbe6f",
        "outputId": "f0752f09-0a4c-4efe-96a5-1f9ec13e8dd4"
      },
      "outputs": [
        {
          "output_type": "execute_result",
          "data": {
            "text/plain": [
              "0       1\n",
              "1       1\n",
              "2       1\n",
              "3       1\n",
              "4       1\n",
              "       ..\n",
              "4272    1\n",
              "4273    1\n",
              "4274    1\n",
              "4275    1\n",
              "4276    1\n",
              "Name: VRDeck, Length: 10883, dtype: int64"
            ]
          },
          "metadata": {},
          "execution_count": 72
        }
      ],
      "source": [
        "df['VRDeck'].replace({\"low\":1, \"mid\":2, \"high\":3}, inplace=True)\n",
        "df['VRDeck']"
      ]
    },
    {
      "cell_type": "markdown",
      "id": "2d91c0bf",
      "metadata": {
        "papermill": {
          "duration": 0.032951,
          "end_time": "2022-08-29T11:47:12.300007",
          "exception": false,
          "start_time": "2022-08-29T11:47:12.267056",
          "status": "completed"
        },
        "tags": [],
        "id": "2d91c0bf"
      },
      "source": [
        "### Assigning Features"
      ]
    },
    {
      "cell_type": "code",
      "execution_count": 73,
      "id": "94b1c714",
      "metadata": {
        "execution": {
          "iopub.execute_input": "2022-08-29T11:47:12.372336Z",
          "iopub.status.busy": "2022-08-29T11:47:12.371903Z",
          "iopub.status.idle": "2022-08-29T11:47:12.390961Z",
          "shell.execute_reply": "2022-08-29T11:47:12.389278Z"
        },
        "papermill": {
          "duration": 0.056987,
          "end_time": "2022-08-29T11:47:12.394144",
          "exception": false,
          "start_time": "2022-08-29T11:47:12.337157",
          "status": "completed"
        },
        "tags": [],
        "colab": {
          "base_uri": "https://localhost:8080/"
        },
        "id": "94b1c714",
        "outputId": "3e5c748b-a162-4e47-e7da-1d2d8d2a2874"
      },
      "outputs": [
        {
          "output_type": "stream",
          "name": "stdout",
          "text": [
            "<class 'pandas.core.frame.DataFrame'>\n",
            "Int64Index: 10883 entries, 0 to 4276\n",
            "Data columns (total 13 columns):\n",
            " #   Column        Non-Null Count  Dtype \n",
            "---  ------        --------------  ----- \n",
            " 0   PassengerId   10883 non-null  object\n",
            " 1   HomePlanet    10883 non-null  int64 \n",
            " 2   CryoSleep     10883 non-null  int64 \n",
            " 3   Cabin         10883 non-null  object\n",
            " 4   Destination   10883 non-null  int64 \n",
            " 5   Age           10883 non-null  int64 \n",
            " 6   VIP           10883 non-null  int64 \n",
            " 7   RoomService   10883 non-null  int64 \n",
            " 8   FoodCourt     10883 non-null  int64 \n",
            " 9   ShoppingMall  10883 non-null  int64 \n",
            " 10  Spa           10883 non-null  int64 \n",
            " 11  VRDeck        10883 non-null  int64 \n",
            " 12  Name          10883 non-null  object\n",
            "dtypes: int64(10), object(3)\n",
            "memory usage: 1.2+ MB\n"
          ]
        }
      ],
      "source": [
        "df.info()"
      ]
    },
    {
      "cell_type": "code",
      "execution_count": 74,
      "id": "ddcbdcf8",
      "metadata": {
        "execution": {
          "iopub.execute_input": "2022-08-29T11:47:12.464581Z",
          "iopub.status.busy": "2022-08-29T11:47:12.463759Z",
          "iopub.status.idle": "2022-08-29T11:47:12.489105Z",
          "shell.execute_reply": "2022-08-29T11:47:12.487709Z"
        },
        "papermill": {
          "duration": 0.063075,
          "end_time": "2022-08-29T11:47:12.491878",
          "exception": false,
          "start_time": "2022-08-29T11:47:12.428803",
          "status": "completed"
        },
        "tags": [],
        "colab": {
          "base_uri": "https://localhost:8080/",
          "height": 424
        },
        "id": "ddcbdcf8",
        "outputId": "a5675515-c724-43b5-c4b2-1b1d5efab566"
      },
      "outputs": [
        {
          "output_type": "execute_result",
          "data": {
            "text/plain": [
              "     PassengerId  HomePlanet  CryoSleep      Cabin  Destination  Age  VIP  \\\n",
              "0        0001_01           2          0      B/0/P            1    3    0   \n",
              "1        0002_01           1          0      F/0/S            1    2    0   \n",
              "2        0003_01           2          0      A/0/S            1    3    1   \n",
              "3        0003_02           2          0      A/0/S            1    3    0   \n",
              "4        0004_01           1          0      F/1/S            1    1    0   \n",
              "...          ...         ...        ...        ...          ...  ...  ...   \n",
              "4272     9266_02           1          1   G/1496/S            1    3    0   \n",
              "4273     9269_01           1          0  not given            1    3    0   \n",
              "4274     9271_01           3          1    D/296/P            2    2    0   \n",
              "4275     9273_01           2          0    D/297/P            4    2    0   \n",
              "4276     9277_01           1          1   G/1498/S            3    3    0   \n",
              "\n",
              "      RoomService  FoodCourt  ShoppingMall  Spa  VRDeck               Name  \n",
              "0               1          1             1    1       1    Maham Ofracculy  \n",
              "1               1          1             1    1       1       Juanna Vines  \n",
              "2               1          1             1    2       1      Altark Susent  \n",
              "3               1          1             1    1       1       Solam Susent  \n",
              "4               1          1             1    1       1  Willy Santantines  \n",
              "...           ...        ...           ...  ...     ...                ...  \n",
              "4272            1          1             1    1       1        Jeron Peter  \n",
              "4273            1          1             1    1       1      Matty Scheron  \n",
              "4274            1          1             1    1       1        Jayrin Pore  \n",
              "4275            1          1             1    1       1     Kitakan Conale  \n",
              "4276            1          1             1    1       1   Lilace Leonzaley  \n",
              "\n",
              "[10883 rows x 13 columns]"
            ],
            "text/html": [
              "\n",
              "  <div id=\"df-37b64862-561b-455c-a2e3-ebe192902aa8\">\n",
              "    <div class=\"colab-df-container\">\n",
              "      <div>\n",
              "<style scoped>\n",
              "    .dataframe tbody tr th:only-of-type {\n",
              "        vertical-align: middle;\n",
              "    }\n",
              "\n",
              "    .dataframe tbody tr th {\n",
              "        vertical-align: top;\n",
              "    }\n",
              "\n",
              "    .dataframe thead th {\n",
              "        text-align: right;\n",
              "    }\n",
              "</style>\n",
              "<table border=\"1\" class=\"dataframe\">\n",
              "  <thead>\n",
              "    <tr style=\"text-align: right;\">\n",
              "      <th></th>\n",
              "      <th>PassengerId</th>\n",
              "      <th>HomePlanet</th>\n",
              "      <th>CryoSleep</th>\n",
              "      <th>Cabin</th>\n",
              "      <th>Destination</th>\n",
              "      <th>Age</th>\n",
              "      <th>VIP</th>\n",
              "      <th>RoomService</th>\n",
              "      <th>FoodCourt</th>\n",
              "      <th>ShoppingMall</th>\n",
              "      <th>Spa</th>\n",
              "      <th>VRDeck</th>\n",
              "      <th>Name</th>\n",
              "    </tr>\n",
              "  </thead>\n",
              "  <tbody>\n",
              "    <tr>\n",
              "      <th>0</th>\n",
              "      <td>0001_01</td>\n",
              "      <td>2</td>\n",
              "      <td>0</td>\n",
              "      <td>B/0/P</td>\n",
              "      <td>1</td>\n",
              "      <td>3</td>\n",
              "      <td>0</td>\n",
              "      <td>1</td>\n",
              "      <td>1</td>\n",
              "      <td>1</td>\n",
              "      <td>1</td>\n",
              "      <td>1</td>\n",
              "      <td>Maham Ofracculy</td>\n",
              "    </tr>\n",
              "    <tr>\n",
              "      <th>1</th>\n",
              "      <td>0002_01</td>\n",
              "      <td>1</td>\n",
              "      <td>0</td>\n",
              "      <td>F/0/S</td>\n",
              "      <td>1</td>\n",
              "      <td>2</td>\n",
              "      <td>0</td>\n",
              "      <td>1</td>\n",
              "      <td>1</td>\n",
              "      <td>1</td>\n",
              "      <td>1</td>\n",
              "      <td>1</td>\n",
              "      <td>Juanna Vines</td>\n",
              "    </tr>\n",
              "    <tr>\n",
              "      <th>2</th>\n",
              "      <td>0003_01</td>\n",
              "      <td>2</td>\n",
              "      <td>0</td>\n",
              "      <td>A/0/S</td>\n",
              "      <td>1</td>\n",
              "      <td>3</td>\n",
              "      <td>1</td>\n",
              "      <td>1</td>\n",
              "      <td>1</td>\n",
              "      <td>1</td>\n",
              "      <td>2</td>\n",
              "      <td>1</td>\n",
              "      <td>Altark Susent</td>\n",
              "    </tr>\n",
              "    <tr>\n",
              "      <th>3</th>\n",
              "      <td>0003_02</td>\n",
              "      <td>2</td>\n",
              "      <td>0</td>\n",
              "      <td>A/0/S</td>\n",
              "      <td>1</td>\n",
              "      <td>3</td>\n",
              "      <td>0</td>\n",
              "      <td>1</td>\n",
              "      <td>1</td>\n",
              "      <td>1</td>\n",
              "      <td>1</td>\n",
              "      <td>1</td>\n",
              "      <td>Solam Susent</td>\n",
              "    </tr>\n",
              "    <tr>\n",
              "      <th>4</th>\n",
              "      <td>0004_01</td>\n",
              "      <td>1</td>\n",
              "      <td>0</td>\n",
              "      <td>F/1/S</td>\n",
              "      <td>1</td>\n",
              "      <td>1</td>\n",
              "      <td>0</td>\n",
              "      <td>1</td>\n",
              "      <td>1</td>\n",
              "      <td>1</td>\n",
              "      <td>1</td>\n",
              "      <td>1</td>\n",
              "      <td>Willy Santantines</td>\n",
              "    </tr>\n",
              "    <tr>\n",
              "      <th>...</th>\n",
              "      <td>...</td>\n",
              "      <td>...</td>\n",
              "      <td>...</td>\n",
              "      <td>...</td>\n",
              "      <td>...</td>\n",
              "      <td>...</td>\n",
              "      <td>...</td>\n",
              "      <td>...</td>\n",
              "      <td>...</td>\n",
              "      <td>...</td>\n",
              "      <td>...</td>\n",
              "      <td>...</td>\n",
              "      <td>...</td>\n",
              "    </tr>\n",
              "    <tr>\n",
              "      <th>4272</th>\n",
              "      <td>9266_02</td>\n",
              "      <td>1</td>\n",
              "      <td>1</td>\n",
              "      <td>G/1496/S</td>\n",
              "      <td>1</td>\n",
              "      <td>3</td>\n",
              "      <td>0</td>\n",
              "      <td>1</td>\n",
              "      <td>1</td>\n",
              "      <td>1</td>\n",
              "      <td>1</td>\n",
              "      <td>1</td>\n",
              "      <td>Jeron Peter</td>\n",
              "    </tr>\n",
              "    <tr>\n",
              "      <th>4273</th>\n",
              "      <td>9269_01</td>\n",
              "      <td>1</td>\n",
              "      <td>0</td>\n",
              "      <td>not given</td>\n",
              "      <td>1</td>\n",
              "      <td>3</td>\n",
              "      <td>0</td>\n",
              "      <td>1</td>\n",
              "      <td>1</td>\n",
              "      <td>1</td>\n",
              "      <td>1</td>\n",
              "      <td>1</td>\n",
              "      <td>Matty Scheron</td>\n",
              "    </tr>\n",
              "    <tr>\n",
              "      <th>4274</th>\n",
              "      <td>9271_01</td>\n",
              "      <td>3</td>\n",
              "      <td>1</td>\n",
              "      <td>D/296/P</td>\n",
              "      <td>2</td>\n",
              "      <td>2</td>\n",
              "      <td>0</td>\n",
              "      <td>1</td>\n",
              "      <td>1</td>\n",
              "      <td>1</td>\n",
              "      <td>1</td>\n",
              "      <td>1</td>\n",
              "      <td>Jayrin Pore</td>\n",
              "    </tr>\n",
              "    <tr>\n",
              "      <th>4275</th>\n",
              "      <td>9273_01</td>\n",
              "      <td>2</td>\n",
              "      <td>0</td>\n",
              "      <td>D/297/P</td>\n",
              "      <td>4</td>\n",
              "      <td>2</td>\n",
              "      <td>0</td>\n",
              "      <td>1</td>\n",
              "      <td>1</td>\n",
              "      <td>1</td>\n",
              "      <td>1</td>\n",
              "      <td>1</td>\n",
              "      <td>Kitakan Conale</td>\n",
              "    </tr>\n",
              "    <tr>\n",
              "      <th>4276</th>\n",
              "      <td>9277_01</td>\n",
              "      <td>1</td>\n",
              "      <td>1</td>\n",
              "      <td>G/1498/S</td>\n",
              "      <td>3</td>\n",
              "      <td>3</td>\n",
              "      <td>0</td>\n",
              "      <td>1</td>\n",
              "      <td>1</td>\n",
              "      <td>1</td>\n",
              "      <td>1</td>\n",
              "      <td>1</td>\n",
              "      <td>Lilace Leonzaley</td>\n",
              "    </tr>\n",
              "  </tbody>\n",
              "</table>\n",
              "<p>10883 rows × 13 columns</p>\n",
              "</div>\n",
              "      <button class=\"colab-df-convert\" onclick=\"convertToInteractive('df-37b64862-561b-455c-a2e3-ebe192902aa8')\"\n",
              "              title=\"Convert this dataframe to an interactive table.\"\n",
              "              style=\"display:none;\">\n",
              "        \n",
              "  <svg xmlns=\"http://www.w3.org/2000/svg\" height=\"24px\"viewBox=\"0 0 24 24\"\n",
              "       width=\"24px\">\n",
              "    <path d=\"M0 0h24v24H0V0z\" fill=\"none\"/>\n",
              "    <path d=\"M18.56 5.44l.94 2.06.94-2.06 2.06-.94-2.06-.94-.94-2.06-.94 2.06-2.06.94zm-11 1L8.5 8.5l.94-2.06 2.06-.94-2.06-.94L8.5 2.5l-.94 2.06-2.06.94zm10 10l.94 2.06.94-2.06 2.06-.94-2.06-.94-.94-2.06-.94 2.06-2.06.94z\"/><path d=\"M17.41 7.96l-1.37-1.37c-.4-.4-.92-.59-1.43-.59-.52 0-1.04.2-1.43.59L10.3 9.45l-7.72 7.72c-.78.78-.78 2.05 0 2.83L4 21.41c.39.39.9.59 1.41.59.51 0 1.02-.2 1.41-.59l7.78-7.78 2.81-2.81c.8-.78.8-2.07 0-2.86zM5.41 20L4 18.59l7.72-7.72 1.47 1.35L5.41 20z\"/>\n",
              "  </svg>\n",
              "      </button>\n",
              "      \n",
              "  <style>\n",
              "    .colab-df-container {\n",
              "      display:flex;\n",
              "      flex-wrap:wrap;\n",
              "      gap: 12px;\n",
              "    }\n",
              "\n",
              "    .colab-df-convert {\n",
              "      background-color: #E8F0FE;\n",
              "      border: none;\n",
              "      border-radius: 50%;\n",
              "      cursor: pointer;\n",
              "      display: none;\n",
              "      fill: #1967D2;\n",
              "      height: 32px;\n",
              "      padding: 0 0 0 0;\n",
              "      width: 32px;\n",
              "    }\n",
              "\n",
              "    .colab-df-convert:hover {\n",
              "      background-color: #E2EBFA;\n",
              "      box-shadow: 0px 1px 2px rgba(60, 64, 67, 0.3), 0px 1px 3px 1px rgba(60, 64, 67, 0.15);\n",
              "      fill: #174EA6;\n",
              "    }\n",
              "\n",
              "    [theme=dark] .colab-df-convert {\n",
              "      background-color: #3B4455;\n",
              "      fill: #D2E3FC;\n",
              "    }\n",
              "\n",
              "    [theme=dark] .colab-df-convert:hover {\n",
              "      background-color: #434B5C;\n",
              "      box-shadow: 0px 1px 3px 1px rgba(0, 0, 0, 0.15);\n",
              "      filter: drop-shadow(0px 1px 2px rgba(0, 0, 0, 0.3));\n",
              "      fill: #FFFFFF;\n",
              "    }\n",
              "  </style>\n",
              "\n",
              "      <script>\n",
              "        const buttonEl =\n",
              "          document.querySelector('#df-37b64862-561b-455c-a2e3-ebe192902aa8 button.colab-df-convert');\n",
              "        buttonEl.style.display =\n",
              "          google.colab.kernel.accessAllowed ? 'block' : 'none';\n",
              "\n",
              "        async function convertToInteractive(key) {\n",
              "          const element = document.querySelector('#df-37b64862-561b-455c-a2e3-ebe192902aa8');\n",
              "          const dataTable =\n",
              "            await google.colab.kernel.invokeFunction('convertToInteractive',\n",
              "                                                     [key], {});\n",
              "          if (!dataTable) return;\n",
              "\n",
              "          const docLinkHtml = 'Like what you see? Visit the ' +\n",
              "            '<a target=\"_blank\" href=https://colab.research.google.com/notebooks/data_table.ipynb>data table notebook</a>'\n",
              "            + ' to learn more about interactive tables.';\n",
              "          element.innerHTML = '';\n",
              "          dataTable['output_type'] = 'display_data';\n",
              "          await google.colab.output.renderOutput(dataTable, element);\n",
              "          const docLink = document.createElement('div');\n",
              "          docLink.innerHTML = docLinkHtml;\n",
              "          element.appendChild(docLink);\n",
              "        }\n",
              "      </script>\n",
              "    </div>\n",
              "  </div>\n",
              "  "
            ]
          },
          "metadata": {},
          "execution_count": 74
        }
      ],
      "source": [
        "df"
      ]
    },
    {
      "cell_type": "code",
      "execution_count": 75,
      "id": "82d2f79b",
      "metadata": {
        "execution": {
          "iopub.execute_input": "2022-08-29T11:47:12.559296Z",
          "iopub.status.busy": "2022-08-29T11:47:12.558848Z",
          "iopub.status.idle": "2022-08-29T11:47:12.571029Z",
          "shell.execute_reply": "2022-08-29T11:47:12.569689Z"
        },
        "papermill": {
          "duration": 0.049088,
          "end_time": "2022-08-29T11:47:12.573780",
          "exception": false,
          "start_time": "2022-08-29T11:47:12.524692",
          "status": "completed"
        },
        "tags": [],
        "id": "82d2f79b"
      },
      "outputs": [],
      "source": [
        "features = ['HomePlanet', 'CryoSleep', 'Destination', 'Age', 'VIP', 'RoomService', 'FoodCourt', 'ShoppingMall', 'Spa', 'VRDeck']\n",
        "\n",
        "y = survival\n",
        "X = df[features][:len(data)]\n",
        "X_val = df[features][len(data):]"
      ]
    },
    {
      "cell_type": "code",
      "execution_count": 76,
      "id": "6dae8957",
      "metadata": {
        "execution": {
          "iopub.execute_input": "2022-08-29T11:47:12.642872Z",
          "iopub.status.busy": "2022-08-29T11:47:12.640846Z",
          "iopub.status.idle": "2022-08-29T11:47:13.026614Z",
          "shell.execute_reply": "2022-08-29T11:47:13.025677Z"
        },
        "papermill": {
          "duration": 0.422384,
          "end_time": "2022-08-29T11:47:13.028956",
          "exception": false,
          "start_time": "2022-08-29T11:47:12.606572",
          "status": "completed"
        },
        "tags": [],
        "colab": {
          "base_uri": "https://localhost:8080/",
          "height": 345
        },
        "id": "6dae8957",
        "outputId": "d90c392e-6a13-4513-b9d7-f258395c77ea"
      },
      "outputs": [
        {
          "output_type": "execute_result",
          "data": {
            "text/plain": [
              "<matplotlib.axes._subplots.AxesSubplot at 0x7f919ef412d0>"
            ]
          },
          "metadata": {},
          "execution_count": 76
        },
        {
          "output_type": "display_data",
          "data": {
            "text/plain": [
              "<Figure size 432x288 with 2 Axes>"
            ],
            "image/png": "[encoded data removed]"
          },
          "metadata": {
            "needs_background": "light"
          }
        }
      ],
      "source": [
        "cmap = df[features].corr()\n",
        "sns.heatmap(cmap)"
      ]
    },
    {
      "cell_type": "markdown",
      "id": "4677cb45",
      "metadata": {
        "papermill": {
          "duration": 0.032988,
          "end_time": "2022-08-29T11:47:13.095627",
          "exception": false,
          "start_time": "2022-08-29T11:47:13.062639",
          "status": "completed"
        },
        "tags": [],
        "id": "4677cb45"
      },
      "source": [
        "### Splitting Dataset in Test and Train"
      ]
    },
    {
      "cell_type": "code",
      "execution_count": 77,
      "id": "20c2214a",
      "metadata": {
        "execution": {
          "iopub.execute_input": "2022-08-29T11:47:13.164176Z",
          "iopub.status.busy": "2022-08-29T11:47:13.163109Z",
          "iopub.status.idle": "2022-08-29T11:47:13.174832Z",
          "shell.execute_reply": "2022-08-29T11:47:13.173515Z"
        },
        "papermill": {
          "duration": 0.048964,
          "end_time": "2022-08-29T11:47:13.177623",
          "exception": false,
          "start_time": "2022-08-29T11:47:13.128659",
          "status": "completed"
        },
        "tags": [],
        "colab": {
          "base_uri": "https://localhost:8080/"
        },
        "id": "20c2214a",
        "outputId": "577fd35d-128b-420e-9126-c32494261acc"
      },
      "outputs": [
        {
          "output_type": "execute_result",
          "data": {
            "text/plain": [
              "((5945, 10), (661, 10), (5945,), (661,), (4277, 10))"
            ]
          },
          "metadata": {},
          "execution_count": 77
        }
      ],
      "source": [
        "from sklearn.model_selection import train_test_split\n",
        "\n",
        "X_train, X_test, y_train, y_test = train_test_split(X, y, test_size=0.10, random_state=1)\n",
        "X_train.shape, X_test.shape, y_train.shape, y_test.shape, X_val.shape"
      ]
    },
    {
      "cell_type": "markdown",
      "id": "b7b809f5",
      "metadata": {
        "papermill": {
          "duration": 0.033091,
          "end_time": "2022-08-29T11:47:13.244793",
          "exception": false,
          "start_time": "2022-08-29T11:47:13.211702",
          "status": "completed"
        },
        "tags": [],
        "id": "b7b809f5"
      },
      "source": [
        "### Model"
      ]
    },
    {
      "cell_type": "markdown",
      "id": "c72a2c56",
      "metadata": {
        "papermill": {
          "duration": 0.033846,
          "end_time": "2022-08-29T11:47:13.314561",
          "exception": false,
          "start_time": "2022-08-29T11:47:13.280715",
          "status": "completed"
        },
        "tags": [],
        "id": "c72a2c56"
      },
      "source": [
        "#### Selecting Model"
      ]
    },
    {
      "cell_type": "code",
      "execution_count": 78,
      "id": "f373d276",
      "metadata": {
        "execution": {
          "iopub.execute_input": "2022-08-29T11:47:13.386495Z",
          "iopub.status.busy": "2022-08-29T11:47:13.385770Z",
          "iopub.status.idle": "2022-08-29T11:47:13.550084Z",
          "shell.execute_reply": "2022-08-29T11:47:13.548281Z"
        },
        "papermill": {
          "duration": 0.205345,
          "end_time": "2022-08-29T11:47:13.555172",
          "exception": false,
          "start_time": "2022-08-29T11:47:13.349827",
          "status": "completed"
        },
        "tags": [],
        "colab": {
          "base_uri": "https://localhost:8080/"
        },
        "id": "f373d276",
        "outputId": "81c2aa79-7abb-4213-b681-7a94538b6783"
      },
      "outputs": [
        {
          "output_type": "stream",
          "name": "stdout",
          "text": [
            "0.7342304457527334\n"
          ]
        }
      ],
      "source": [
        "from sklearn.linear_model import LogisticRegression\n",
        "\n",
        "model = LogisticRegression(random_state=42, C=10).fit(X_train, y_train)\n",
        "print(model.score(X_train, y_train))"
      ]
    },
    {
      "cell_type": "markdown",
      "id": "18292f5f",
      "metadata": {
        "papermill": {
          "duration": 0.047237,
          "end_time": "2022-08-29T11:47:13.689976",
          "exception": false,
          "start_time": "2022-08-29T11:47:13.642739",
          "status": "completed"
        },
        "tags": [],
        "id": "18292f5f"
      },
      "source": [
        "#### Validation"
      ]
    },
    {
      "cell_type": "code",
      "execution_count": 79,
      "id": "3fb0e334",
      "metadata": {
        "execution": {
          "iopub.execute_input": "2022-08-29T11:47:13.759326Z",
          "iopub.status.busy": "2022-08-29T11:47:13.758876Z",
          "iopub.status.idle": "2022-08-29T11:47:13.770298Z",
          "shell.execute_reply": "2022-08-29T11:47:13.768585Z"
        },
        "papermill": {
          "duration": 0.04933,
          "end_time": "2022-08-29T11:47:13.773166",
          "exception": false,
          "start_time": "2022-08-29T11:47:13.723836",
          "status": "completed"
        },
        "tags": [],
        "colab": {
          "base_uri": "https://localhost:8080/"
        },
        "id": "3fb0e334",
        "outputId": "837d6c23-643d-44e6-8679-55464784d799"
      },
      "outputs": [
        {
          "output_type": "stream",
          "name": "stdout",
          "text": [
            "0.7291981845688351\n"
          ]
        }
      ],
      "source": [
        "y_pred = model.predict(X_test)\n",
        "print(model.score(X_test, y_test))"
      ]
    },
    {
      "cell_type": "markdown",
      "id": "750eec62",
      "metadata": {
        "papermill": {
          "duration": 0.033074,
          "end_time": "2022-08-29T11:47:13.840122",
          "exception": false,
          "start_time": "2022-08-29T11:47:13.807048",
          "status": "completed"
        },
        "tags": [],
        "id": "750eec62"
      },
      "source": [
        "#### Confusion Matrix"
      ]
    },
    {
      "cell_type": "code",
      "execution_count": 80,
      "id": "edc16b2a",
      "metadata": {
        "execution": {
          "iopub.execute_input": "2022-08-29T11:47:13.911628Z",
          "iopub.status.busy": "2022-08-29T11:47:13.911108Z",
          "iopub.status.idle": "2022-08-29T11:47:13.921062Z",
          "shell.execute_reply": "2022-08-29T11:47:13.919740Z"
        },
        "papermill": {
          "duration": 0.047705,
          "end_time": "2022-08-29T11:47:13.923185",
          "exception": false,
          "start_time": "2022-08-29T11:47:13.875480",
          "status": "completed"
        },
        "tags": [],
        "colab": {
          "base_uri": "https://localhost:8080/"
        },
        "id": "edc16b2a",
        "outputId": "9629e2b5-4c5e-43af-f121-51f7b7ecc013"
      },
      "outputs": [
        {
          "output_type": "stream",
          "name": "stdout",
          "text": [
            "[[281  44]\n",
            " [135 201]]\n"
          ]
        }
      ],
      "source": [
        "from sklearn.metrics import confusion_matrix\n",
        "\n",
        "print(confusion_matrix(y_test, y_pred))"
      ]
    },
    {
      "cell_type": "markdown",
      "id": "ffd2349e",
      "metadata": {
        "papermill": {
          "duration": 0.034568,
          "end_time": "2022-08-29T11:47:13.991475",
          "exception": false,
          "start_time": "2022-08-29T11:47:13.956907",
          "status": "completed"
        },
        "tags": [],
        "id": "ffd2349e"
      },
      "source": [
        "### Prediction on X_test"
      ]
    },
    {
      "cell_type": "code",
      "execution_count": 81,
      "id": "87b1f4ba",
      "metadata": {
        "execution": {
          "iopub.execute_input": "2022-08-29T11:47:14.063017Z",
          "iopub.status.busy": "2022-08-29T11:47:14.061853Z",
          "iopub.status.idle": "2022-08-29T11:47:14.113656Z",
          "shell.execute_reply": "2022-08-29T11:47:14.111804Z"
        },
        "papermill": {
          "duration": 0.094968,
          "end_time": "2022-08-29T11:47:14.120321",
          "exception": false,
          "start_time": "2022-08-29T11:47:14.025353",
          "status": "completed"
        },
        "tags": [],
        "colab": {
          "base_uri": "https://localhost:8080/"
        },
        "id": "87b1f4ba",
        "outputId": "9c024f9e-a085-4aec-e655-3bac7515c17d"
      },
      "outputs": [
        {
          "output_type": "stream",
          "name": "stdout",
          "text": [
            "4277\n"
          ]
        }
      ],
      "source": [
        "predictions = model.predict(X_val)\n",
        "predictions = predictions.astype(str)\n",
        "predictions = np.char.replace(predictions, '0', 'False')\n",
        "predictions = np.char.replace(predictions, '1', 'True')\n",
        "print(len(predictions))"
      ]
    },
    {
      "cell_type": "code",
      "execution_count": 82,
      "id": "0b636c9d",
      "metadata": {
        "execution": {
          "iopub.execute_input": "2022-08-29T11:47:14.234834Z",
          "iopub.status.busy": "2022-08-29T11:47:14.234341Z",
          "iopub.status.idle": "2022-08-29T11:47:14.262454Z",
          "shell.execute_reply": "2022-08-29T11:47:14.261489Z"
        },
        "papermill": {
          "duration": 0.065715,
          "end_time": "2022-08-29T11:47:14.264845",
          "exception": false,
          "start_time": "2022-08-29T11:47:14.199130",
          "status": "completed"
        },
        "tags": [],
        "colab": {
          "base_uri": "https://localhost:8080/",
          "height": 424
        },
        "id": "0b636c9d",
        "outputId": "4a4ec8c9-bd92-4c61-c2af-1ef9bbe77a41"
      },
      "outputs": [
        {
          "output_type": "execute_result",
          "data": {
            "text/plain": [
              "     PassengerId  Transported\n",
              "0        0013_01         True\n",
              "1        0018_01        False\n",
              "2        0019_01         True\n",
              "3        0021_01         True\n",
              "4        0023_01        False\n",
              "...          ...          ...\n",
              "4272     9266_02         True\n",
              "4273     9269_01        False\n",
              "4274     9271_01         True\n",
              "4275     9273_01        False\n",
              "4276     9277_01         True\n",
              "\n",
              "[4277 rows x 2 columns]"
            ],
            "text/html": [
              "\n",
              "  <div id=\"df-ec0054a2-4967-4168-b7c4-8970960817da\">\n",
              "    <div class=\"colab-df-container\">\n",
              "      <div>\n",
              "<style scoped>\n",
              "    .dataframe tbody tr th:only-of-type {\n",
              "        vertical-align: middle;\n",
              "    }\n",
              "\n",
              "    .dataframe tbody tr th {\n",
              "        vertical-align: top;\n",
              "    }\n",
              "\n",
              "    .dataframe thead th {\n",
              "        text-align: right;\n",
              "    }\n",
              "</style>\n",
              "<table border=\"1\" class=\"dataframe\">\n",
              "  <thead>\n",
              "    <tr style=\"text-align: right;\">\n",
              "      <th></th>\n",
              "      <th>PassengerId</th>\n",
              "      <th>Transported</th>\n",
              "    </tr>\n",
              "  </thead>\n",
              "  <tbody>\n",
              "    <tr>\n",
              "      <th>0</th>\n",
              "      <td>0013_01</td>\n",
              "      <td>True</td>\n",
              "    </tr>\n",
              "    <tr>\n",
              "      <th>1</th>\n",
              "      <td>0018_01</td>\n",
              "      <td>False</td>\n",
              "    </tr>\n",
              "    <tr>\n",
              "      <th>2</th>\n",
              "      <td>0019_01</td>\n",
              "      <td>True</td>\n",
              "    </tr>\n",
              "    <tr>\n",
              "      <th>3</th>\n",
              "      <td>0021_01</td>\n",
              "      <td>True</td>\n",
              "    </tr>\n",
              "    <tr>\n",
              "      <th>4</th>\n",
              "      <td>0023_01</td>\n",
              "      <td>False</td>\n",
              "    </tr>\n",
              "    <tr>\n",
              "      <th>...</th>\n",
              "      <td>...</td>\n",
              "      <td>...</td>\n",
              "    </tr>\n",
              "    <tr>\n",
              "      <th>4272</th>\n",
              "      <td>9266_02</td>\n",
              "      <td>True</td>\n",
              "    </tr>\n",
              "    <tr>\n",
              "      <th>4273</th>\n",
              "      <td>9269_01</td>\n",
              "      <td>False</td>\n",
              "    </tr>\n",
              "    <tr>\n",
              "      <th>4274</th>\n",
              "      <td>9271_01</td>\n",
              "      <td>True</td>\n",
              "    </tr>\n",
              "    <tr>\n",
              "      <th>4275</th>\n",
              "      <td>9273_01</td>\n",
              "      <td>False</td>\n",
              "    </tr>\n",
              "    <tr>\n",
              "      <th>4276</th>\n",
              "      <td>9277_01</td>\n",
              "      <td>True</td>\n",
              "    </tr>\n",
              "  </tbody>\n",
              "</table>\n",
              "<p>4277 rows × 2 columns</p>\n",
              "</div>\n",
              "      <button class=\"colab-df-convert\" onclick=\"convertToInteractive('df-ec0054a2-4967-4168-b7c4-8970960817da')\"\n",
              "              title=\"Convert this dataframe to an interactive table.\"\n",
              "              style=\"display:none;\">\n",
              "        \n",
              "  <svg xmlns=\"http://www.w3.org/2000/svg\" height=\"24px\"viewBox=\"0 0 24 24\"\n",
              "       width=\"24px\">\n",
              "    <path d=\"M0 0h24v24H0V0z\" fill=\"none\"/>\n",
              "    <path d=\"M18.56 5.44l.94 2.06.94-2.06 2.06-.94-2.06-.94-.94-2.06-.94 2.06-2.06.94zm-11 1L8.5 8.5l.94-2.06 2.06-.94-2.06-.94L8.5 2.5l-.94 2.06-2.06.94zm10 10l.94 2.06.94-2.06 2.06-.94-2.06-.94-.94-2.06-.94 2.06-2.06.94z\"/><path d=\"M17.41 7.96l-1.37-1.37c-.4-.4-.92-.59-1.43-.59-.52 0-1.04.2-1.43.59L10.3 9.45l-7.72 7.72c-.78.78-.78 2.05 0 2.83L4 21.41c.39.39.9.59 1.41.59.51 0 1.02-.2 1.41-.59l7.78-7.78 2.81-2.81c.8-.78.8-2.07 0-2.86zM5.41 20L4 18.59l7.72-7.72 1.47 1.35L5.41 20z\"/>\n",
              "  </svg>\n",
              "      </button>\n",
              "      \n",
              "  <style>\n",
              "    .colab-df-container {\n",
              "      display:flex;\n",
              "      flex-wrap:wrap;\n",
              "      gap: 12px;\n",
              "    }\n",
              "\n",
              "    .colab-df-convert {\n",
              "      background-color: #E8F0FE;\n",
              "      border: none;\n",
              "      border-radius: 50%;\n",
              "      cursor: pointer;\n",
              "      display: none;\n",
              "      fill: #1967D2;\n",
              "      height: 32px;\n",
              "      padding: 0 0 0 0;\n",
              "      width: 32px;\n",
              "    }\n",
              "\n",
              "    .colab-df-convert:hover {\n",
              "      background-color: #E2EBFA;\n",
              "      box-shadow: 0px 1px 2px rgba(60, 64, 67, 0.3), 0px 1px 3px 1px rgba(60, 64, 67, 0.15);\n",
              "      fill: #174EA6;\n",
              "    }\n",
              "\n",
              "    [theme=dark] .colab-df-convert {\n",
              "      background-color: #3B4455;\n",
              "      fill: #D2E3FC;\n",
              "    }\n",
              "\n",
              "    [theme=dark] .colab-df-convert:hover {\n",
              "      background-color: #434B5C;\n",
              "      box-shadow: 0px 1px 3px 1px rgba(0, 0, 0, 0.15);\n",
              "      filter: drop-shadow(0px 1px 2px rgba(0, 0, 0, 0.3));\n",
              "      fill: #FFFFFF;\n",
              "    }\n",
              "  </style>\n",
              "\n",
              "      <script>\n",
              "        const buttonEl =\n",
              "          document.querySelector('#df-ec0054a2-4967-4168-b7c4-8970960817da button.colab-df-convert');\n",
              "        buttonEl.style.display =\n",
              "          google.colab.kernel.accessAllowed ? 'block' : 'none';\n",
              "\n",
              "        async function convertToInteractive(key) {\n",
              "          const element = document.querySelector('#df-ec0054a2-4967-4168-b7c4-8970960817da');\n",
              "          const dataTable =\n",
              "            await google.colab.kernel.invokeFunction('convertToInteractive',\n",
              "                                                     [key], {});\n",
              "          if (!dataTable) return;\n",
              "\n",
              "          const docLinkHtml = 'Like what you see? Visit the ' +\n",
              "            '<a target=\"_blank\" href=https://colab.research.google.com/notebooks/data_table.ipynb>data table notebook</a>'\n",
              "            + ' to learn more about interactive tables.';\n",
              "          element.innerHTML = '';\n",
              "          dataTable['output_type'] = 'display_data';\n",
              "          await google.colab.output.renderOutput(dataTable, element);\n",
              "          const docLink = document.createElement('div');\n",
              "          docLink.innerHTML = docLinkHtml;\n",
              "          element.appendChild(docLink);\n",
              "        }\n",
              "      </script>\n",
              "    </div>\n",
              "  </div>\n",
              "  "
            ]
          },
          "metadata": {},
          "execution_count": 82
        }
      ],
      "source": [
        "sample['Transported'] = predictions\n",
        "sample.to_csv('submission.csv', index=False)\n",
        "my_submission = pd.read_csv(\"submission.csv\")\n",
        "my_submission"
      ]
    },
    {
      "cell_type": "code",
      "execution_count": 82,
      "id": "b493e6dd",
      "metadata": {
        "papermill": {
          "duration": 0.03446,
          "end_time": "2022-08-29T11:47:14.336043",
          "exception": false,
          "start_time": "2022-08-29T11:47:14.301583",
          "status": "completed"
        },
        "tags": [],
        "id": "b493e6dd"
      },
      "outputs": [],
      "source": []
    }
  ],
  "metadata": {
    "kernelspec": {
      "display_name": "Python 3",
      "language": "python",
      "name": "python3"
    },
    "language_info": {
      "codemirror_mode": {
        "name": "ipython",
        "version": 3
      },
      "file_extension": ".py",
      "mimetype": "text/x-python",
      "name": "python",
      "nbconvert_exporter": "python",
      "pygments_lexer": "ipython3",
      "version": "3.7.12"
    },
    "papermill": {
      "default_parameters": {},
      "duration": 26.716269,
      "end_time": "2022-08-29T11:47:15.295125",
      "environment_variables": {},
      "exception": null,
      "input_path": "__notebook__.ipynb",
      "output_path": "__notebook__.ipynb",
      "parameters": {},
      "start_time": "2022-08-29T11:46:48.578856",
      "version": "2.3.4"
    },
    "colab": {
      "name": "space-titanic-survival.ipynb",
      "provenance": [],
      "include_colab_link": true
    }
  },
  "nbformat": 4,
  "nbformat_minor": 5
}